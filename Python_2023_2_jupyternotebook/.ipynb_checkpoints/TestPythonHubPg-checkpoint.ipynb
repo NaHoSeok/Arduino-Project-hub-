{
 "cells": [
  {
   "cell_type": "code",
   "execution_count": 1,
   "id": "a6b1fb1d-d6f5-49e2-acab-5ee5c06dd21f",
   "metadata": {},
   "outputs": [
    {
     "name": "stdout",
     "output_type": "stream",
     "text": [
      "생성자 호출됨\n"
     ]
    }
   ],
   "source": [
    "from PythonHub import PythonHub\n",
    "pyHub = PythonHub()"
   ]
  },
  {
   "cell_type": "code",
   "execution_count": 2,
   "id": "3e428991-de9c-480a-ba8a-53b4b0af6278",
   "metadata": {},
   "outputs": [
    {
     "data": {
      "text/plain": [
       "3.2991202"
      ]
     },
     "execution_count": 2,
     "metadata": {},
     "output_type": "execute_result"
    }
   ],
   "source": [
    "pyHub.getVolt()"
   ]
  },
  {
   "cell_type": "code",
   "execution_count": 4,
   "id": "b0f9170f-e854-4c5f-986f-e20f764f75ed",
   "metadata": {},
   "outputs": [
    {
     "data": {
      "text/plain": [
       "5"
      ]
     },
     "execution_count": 4,
     "metadata": {},
     "output_type": "execute_result"
    }
   ],
   "source": [
    "pyHub.countVoltTable()"
   ]
  },
  {
   "cell_type": "code",
   "execution_count": 8,
   "id": "93d35774-2c91-43c6-a6b7-a30f6d1bb9fa",
   "metadata": {},
   "outputs": [],
   "source": [
    "pyHub.clearVoltTable()"
   ]
  },
  {
   "cell_type": "code",
   "execution_count": 10,
   "id": "9af8b2b4-a873-40a8-971a-1bd248ce32f5",
   "metadata": {},
   "outputs": [
    {
     "data": {
      "text/plain": [
       "True"
      ]
     },
     "execution_count": 10,
     "metadata": {},
     "output_type": "execute_result"
    }
   ],
   "source": [
    "pyHub.insertOneVoltTable()"
   ]
  },
  {
   "cell_type": "code",
   "execution_count": 6,
   "id": "5b8c92ee-4c36-4a02-ba61-3ce61a146bab",
   "metadata": {},
   "outputs": [
    {
     "data": {
      "text/plain": [
       "True"
      ]
     },
     "execution_count": 6,
     "metadata": {},
     "output_type": "execute_result"
    }
   ],
   "source": [
    "pyHub.addVoltToTuple()"
   ]
  },
  {
   "cell_type": "code",
   "execution_count": 2,
   "id": "3076f657-8468-46f1-a0b8-f3248de18b10",
   "metadata": {},
   "outputs": [
    {
     "name": "stdout",
     "output_type": "stream",
     "text": [
      "True\n",
      "True\n",
      "True\n",
      "True\n",
      "True\n",
      "volt = 3.2991202 @ time = Wed Nov 22 14:51:22 2023\n",
      "volt = 3.2991202 @ time = Wed Nov 22 14:51:24 2023\n",
      "volt = 3.2991202 @ time = Wed Nov 22 14:51:25 2023\n",
      "volt = 3.2991202 @ time = Wed Nov 22 14:51:27 2023\n",
      "volt = 3.3040078 @ time = Wed Nov 22 14:51:28 2023\n"
     ]
    }
   ],
   "source": [
    "pyHub.sampleVoltTuple(5, 1)\n",
    "pyHub.printVoltTuple()"
   ]
  },
  {
   "cell_type": "code",
   "execution_count": 3,
   "id": "649ffb28-d48c-4798-86cb-9e5d75abf80c",
   "metadata": {},
   "outputs": [],
   "source": [
    "pyHub.saveVoltTupleToTable()"
   ]
  },
  {
   "cell_type": "code",
   "execution_count": 6,
   "id": "4fcc2704-edf1-4965-a19b-52507854f179",
   "metadata": {},
   "outputs": [],
   "source": [
    "pyHub.loadVoltTupleFromTable()"
   ]
  },
  {
   "cell_type": "code",
   "execution_count": 14,
   "id": "1a6ab84c-1a23-4c9b-9df8-c4a35394b8a9",
   "metadata": {},
   "outputs": [
    {
     "data": {
      "image/png": "[encoded data removed]",
      "text/plain": [
       "<Figure size 640x480 with 1 Axes>"
      ]
     },
     "metadata": {},
     "output_type": "display_data"
    }
   ],
   "source": [
    "pyHub.plotVoltTuple()"
   ]
  },
  {
   "cell_type": "code",
   "execution_count": 4,
   "id": "3b900c74-a068-4343-a72d-659e51cdeb3d",
   "metadata": {},
   "outputs": [
    {
     "data": {
      "text/plain": [
       "3.30009772"
      ]
     },
     "execution_count": 4,
     "metadata": {},
     "output_type": "execute_result"
    }
   ],
   "source": [
    "pyHub.getVoltMean()"
   ]
  },
  {
   "cell_type": "code",
   "execution_count": 5,
   "id": "75e932c9-4fff-4b68-903f-356f6c48805e",
   "metadata": {},
   "outputs": [
    {
     "data": {
      "text/plain": [
       "0.002185801169365591"
      ]
     },
     "execution_count": 5,
     "metadata": {},
     "output_type": "execute_result"
    }
   ],
   "source": [
    "pyHub.getVoltStdev()"
   ]
  },
  {
   "cell_type": "code",
   "execution_count": 3,
   "id": "63854795-a135-453b-bbb6-28c0ebc7e228",
   "metadata": {},
   "outputs": [
    {
     "data": {
      "text/plain": [
       "True"
      ]
     },
     "execution_count": 3,
     "metadata": {},
     "output_type": "execute_result"
    }
   ],
   "source": [
    "pyHub.addLightToTuple()"
   ]
  },
  {
   "cell_type": "code",
   "execution_count": 3,
   "id": "98a78945-7e1a-4811-a638-6b6acb779e34",
   "metadata": {},
   "outputs": [
    {
     "name": "stdout",
     "output_type": "stream",
     "text": [
      "True\n",
      "True\n",
      "True\n",
      "True\n",
      "True\n"
     ]
    }
   ],
   "source": [
    "pyHub.sampleLightTuple(5, 1)"
   ]
  },
  {
   "cell_type": "code",
   "execution_count": 4,
   "id": "e93ec5a0-9bab-413c-a953-ae2776ce6e63",
   "metadata": {},
   "outputs": [],
   "source": [
    "pyHub.saveLightTupleToTable()"
   ]
  },
  {
   "cell_type": "code",
   "execution_count": 5,
   "id": "50c7f540-5a6e-4a97-83b8-cbfdab1c8229",
   "metadata": {},
   "outputs": [],
   "source": [
    "pyHub.loadLightTupleFromTable()"
   ]
  },
  {
   "cell_type": "code",
   "execution_count": 6,
   "id": "29657936-2b4d-4b73-a501-bfbddafd3242",
   "metadata": {},
   "outputs": [
    {
     "name": "stdout",
     "output_type": "stream",
     "text": [
      "light = dark @ lightStep = 965 @ time = Wed Nov 22 18:02:37 2023\n",
      "light = dark @ lightStep = 963 @ time = Wed Nov 22 18:02:39 2023\n",
      "light = dark @ lightStep = 963 @ time = Wed Nov 22 18:02:41 2023\n",
      "light = dark @ lightStep = 963 @ time = Wed Nov 22 18:02:43 2023\n",
      "light = dark @ lightStep = 963 @ time = Wed Nov 22 18:02:45 2023\n"
     ]
    }
   ],
   "source": [
    "pyHub.printLightTuple()"
   ]
  },
  {
   "cell_type": "code",
   "execution_count": 7,
   "id": "0747f0bd-9272-4e22-b7e7-1fd26e2a60a0",
   "metadata": {},
   "outputs": [
    {
     "data": {
      "text/plain": [
       "963.4"
      ]
     },
     "execution_count": 7,
     "metadata": {},
     "output_type": "execute_result"
    }
   ],
   "source": [
    "pyHub.getLightMean()"
   ]
  },
  {
   "cell_type": "code",
   "execution_count": 8,
   "id": "bd28ba88-80fd-46f1-9fbe-6d9293e42437",
   "metadata": {},
   "outputs": [
    {
     "data": {
      "text/plain": [
       "0.8"
      ]
     },
     "execution_count": 8,
     "metadata": {},
     "output_type": "execute_result"
    }
   ],
   "source": [
    "pyHub.getLightVariance()"
   ]
  },
  {
   "cell_type": "code",
   "execution_count": 9,
   "id": "51d48d32-296a-4d7e-9ad5-0b5c2fe8fd27",
   "metadata": {},
   "outputs": [
    {
     "data": {
      "text/plain": [
       "0.8944271909999159"
      ]
     },
     "execution_count": 9,
     "metadata": {},
     "output_type": "execute_result"
    }
   ],
   "source": [
    "pyHub.getLightStdev()"
   ]
  },
  {
   "cell_type": "code",
   "execution_count": 11,
   "id": "7a042c40-9ac2-4bf5-9ce9-66e8c7db71e5",
   "metadata": {},
   "outputs": [
    {
     "data": {
      "image/png": "[encoded data removed]",
      "text/plain": [
       "<Figure size 640x480 with 1 Axes>"
      ]
     },
     "metadata": {},
     "output_type": "display_data"
    }
   ],
   "source": [
    "pyHub.plotLightTuple()"
   ]
  },
  {
   "cell_type": "code",
   "execution_count": null,
   "id": "7901ddcd-8551-4787-893c-2fad07730d3a",
   "metadata": {},
   "outputs": [],
   "source": []
  },
  {
   "cell_type": "code",
   "execution_count": null,
   "id": "9a3e9285-902b-4426-a484-84159887af11",
   "metadata": {},
   "outputs": [],
   "source": []
  }
 ],
 "metadata": {
  "kernelspec": {
   "display_name": "Python 3 (ipykernel)",
   "language": "python",
   "name": "python3"
  },
  "language_info": {
   "codemirror_mode": {
    "name": "ipython",
    "version": 3
   },
   "file_extension": ".py",
   "mimetype": "text/x-python",
   "name": "python",
   "nbconvert_exporter": "python",
   "pygments_lexer": "ipython3",
   "version": "3.11.1"
  }
 },
 "nbformat": 4,
 "nbformat_minor": 5
}

{
 "cells": [
  {
   "cell_type": "code",
   "execution_count": null,
   "id": "a64a3548-a384-4b70-b3be-1fcb2e9e4e12",
   "metadata": {},
   "outputs": [
    {
     "name": "stdout",
     "output_type": "stream",
     "text": [
      "My web server started at http://localhost:8080\n",
      "/\n"
     ]
    },
    {
     "name": "stderr",
     "output_type": "stream",
     "text": [
      "127.0.0.1 - - [29/Nov/2023 14:27:45] \"GET / HTTP/1.1\" 200 -\n"
     ]
    }
   ],
   "source": [
    "from PythonServer import PythonServer\n",
    "server = PythonServer()\n",
    "server.run()"
   ]
  },
  {
   "cell_type": "code",
   "execution_count": null,
   "id": "0dbe75c3-0362-4df6-ac12-8d17ad93d634",
   "metadata": {},
   "outputs": [],
   "source": []
  },
  {
   "cell_type": "code",
   "execution_count": null,
   "id": "be05839e-31f5-4b70-9b2f-cbe668a9d34c",
   "metadata": {},
   "outputs": [],
   "source": []
  }
 ],
 "metadata": {
  "kernelspec": {
   "display_name": "Python 3 (ipykernel)",
   "language": "python",
   "name": "python3"
  },
  "language_info": {
   "codemirror_mode": {
    "name": "ipython",
    "version": 3
   },
   "file_extension": ".py",
   "mimetype": "text/x-python",
   "name": "python",
   "nbconvert_exporter": "python",
   "pygments_lexer": "ipython3",
   "version": "3.11.1"
  }
 },
 "nbformat": 4,
 "nbformat_minor": 5
}

{
 "cells": [
  {
   "cell_type": "code",
   "execution_count": 1,
   "id": "49da77a7-1ba9-49df-a240-e7608cac47e9",
   "metadata": {},
   "outputs": [],
   "source": [
    "import psycopg2"
   ]
  },
  {
   "cell_type": "code",
   "execution_count": 2,
   "id": "03b251e3-6cf1-4765-80f5-61eb8a1d04a4",
   "metadata": {},
   "outputs": [],
   "source": [
    "#help (psycopg2)"
   ]
  },
  {
   "cell_type": "code",
   "execution_count": 3,
   "id": "a7567094-d725-41d8-b25e-118fe40206f4",
   "metadata": {},
   "outputs": [
    {
     "name": "stdout",
     "output_type": "stream",
     "text": [
      "Help on function connect in module psycopg2:\n",
      "\n",
      "connect(dsn=None, connection_factory=None, cursor_factory=None, **kwargs)\n",
      "    Create a new database connection.\n",
      "    \n",
      "    The connection parameters can be specified as a string:\n",
      "    \n",
      "        conn = psycopg2.connect(\"dbname=test user=postgres password=secret\")\n",
      "    \n",
      "    or using a set of keyword arguments:\n",
      "    \n",
      "        conn = psycopg2.connect(database=\"test\", user=\"postgres\", password=\"secret\")\n",
      "    \n",
      "    Or as a mix of both. The basic connection parameters are:\n",
      "    \n",
      "    - *dbname*: the database name\n",
      "    - *database*: the database name (only as keyword argument)\n",
      "    - *user*: user name used to authenticate\n",
      "    - *password*: password used to authenticate\n",
      "    - *host*: database host address (defaults to UNIX socket if not provided)\n",
      "    - *port*: connection port number (defaults to 5432 if not provided)\n",
      "    \n",
      "    Using the *connection_factory* parameter a different class or connections\n",
      "    factory can be specified. It should be a callable object taking a dsn\n",
      "    argument.\n",
      "    \n",
      "    Using the *cursor_factory* parameter, a new default cursor factory will be\n",
      "    used by cursor().\n",
      "    \n",
      "    Using *async*=True an asynchronous connection will be created. *async_* is\n",
      "    a valid alias (for Python versions where ``async`` is a keyword).\n",
      "    \n",
      "    Any other keyword parameter will be passed to the underlying client\n",
      "    library: the list of supported parameters depends on the library version.\n",
      "\n"
     ]
    }
   ],
   "source": [
    "help(psycopg2.connect)"
   ]
  },
  {
   "cell_type": "code",
   "execution_count": 4,
   "id": "a47e4d97-ce0b-4ccb-a1aa-18d8207e2f8f",
   "metadata": {},
   "outputs": [],
   "source": [
    "conn = psycopg2.connect(host='localhost', database='postgres', user='postgres', password='2023', port='5432') # DB connection 얻기\n",
    "cur = conn.cursor() # connection의 cursor(커서)"
   ]
  },
  {
   "cell_type": "code",
   "execution_count": 7,
   "id": "6c8762d3-56eb-482e-9791-ea0155abac0a",
   "metadata": {},
   "outputs": [],
   "source": [
    "# Table의 행 개수 얻기\n",
    "cur.execute('SELECT COUNT(*) FROM volt_table') # cursor에 명령어(SQL) 실행\n",
    "conn.commit() # connection에 기록하기 -> cursor 명령어를 DB가 실행"
   ]
  },
  {
   "cell_type": "code",
   "execution_count": 8,
   "id": "57023cf4-2bca-481d-9f19-778fcf02e49b",
   "metadata": {},
   "outputs": [
    {
     "name": "stdout",
     "output_type": "stream",
     "text": [
      "2\n"
     ]
    }
   ],
   "source": [
    "result = cur.fetchone() # DB에서 실행한 결과를 cursor를 통해 튜플 하나(one) 획득(fetch)\n",
    "nCount = result[0]\n",
    "print(nCount)"
   ]
  },
  {
   "cell_type": "code",
   "execution_count": 9,
   "id": "9a792ae3-d631-4caa-aaf0-79922bd963df",
   "metadata": {},
   "outputs": [
    {
     "name": "stdout",
     "output_type": "stream",
     "text": [
      "1700031936\n"
     ]
    }
   ],
   "source": [
    "# 현재 시간 읽기\n",
    "import time\n",
    "nTime = int(time.time()) # 현재 에포크 타임(epoch time: 1970년 기점으로 측정한 시간)\n",
    "print(nTime)"
   ]
  },
  {
   "cell_type": "code",
   "execution_count": 11,
   "id": "6f4abe43-839d-49e3-a3a2-7a7b09001344",
   "metadata": {},
   "outputs": [],
   "source": [
    "# 각 column에 data 삽입\n",
    "measTime = int(time.time())\n",
    "volt = 3.7\n",
    "cur.execute(f'INSERT INTO volt_table(meas_time, volt) VALUES({measTime}, {volt})')\n",
    "conn.commit()"
   ]
  },
  {
   "cell_type": "code",
   "execution_count": 12,
   "id": "18cc0bb6-592f-4af3-8b08-3e8e602c7941",
   "metadata": {},
   "outputs": [],
   "source": [
    "# 각 column의 data를 읽어오기\n",
    "cur.execute('SELECT meas_time, volt FROM volt_table') # SQL에 0번은 meas_time, 1번은 volt\n",
    "conn.commit()"
   ]
  },
  {
   "cell_type": "code",
   "execution_count": 13,
   "id": "13b5ff46-15f5-44ca-91c1-fa7954a6f093",
   "metadata": {},
   "outputs": [
    {
     "name": "stdout",
     "output_type": "stream",
     "text": [
      "[(300, 3.7), (500, 3.4), (1700031937, 3.7), (1700031940, 3.7)]\n"
     ]
    }
   ],
   "source": [
    "# DB 실행 결과 전부(ALL)를 획득(fetch)\n",
    "result = cur.fetchall() # 튜플을 원소로 가진 리스트\n",
    "print(result)"
   ]
  },
  {
   "cell_type": "code",
   "execution_count": 14,
   "id": "0a464f16-6cf0-4df0-9041-82809cfb1bfb",
   "metadata": {},
   "outputs": [
    {
     "name": "stdout",
     "output_type": "stream",
     "text": [
      "300\n"
     ]
    }
   ],
   "source": [
    "measTime = result[0][0] # meas_time: 0번 row(튜플)의 0번 값(측정 시간)\n",
    "print(measTime)"
   ]
  },
  {
   "cell_type": "code",
   "execution_count": 15,
   "id": "3ca148d4-9b94-4239-8aa2-df2dc1563bc0",
   "metadata": {},
   "outputs": [
    {
     "name": "stdout",
     "output_type": "stream",
     "text": [
      "3.7\n"
     ]
    }
   ],
   "source": [
    "volt = result[0][1] # meas_time: 0번 row(튜플)의 1번 값(전압)\n",
    "print(volt)"
   ]
  },
  {
   "cell_type": "code",
   "execution_count": 16,
   "id": "1c6d30e1-98b9-4a54-b182-2701c33699ee",
   "metadata": {},
   "outputs": [],
   "source": [
    "# table의 모든 원소 자르기(삭제)\n",
    "cur.execute('TRUNCATE volt_table')\n",
    "conn.commit()"
   ]
  },
  {
   "cell_type": "code",
   "execution_count": 17,
   "id": "adc891aa-b651-4b11-93e5-0ff98628f00b",
   "metadata": {},
   "outputs": [],
   "source": [
    "# DB를 다 쓰고 나면 cursor와 connection 닫기\n",
    "cur.close()\n",
    "conn.close()"
   ]
  },
  {
   "cell_type": "code",
   "execution_count": null,
   "id": "7838b941-4f79-40a3-bb27-268282b436e0",
   "metadata": {},
   "outputs": [],
   "source": []
  }
 ],
 "metadata": {
  "kernelspec": {
   "display_name": "Python 3 (ipykernel)",
   "language": "python",
   "name": "python3"
  },
  "language_info": {
   "codemirror_mode": {
    "name": "ipython",
    "version": 3
   },
   "file_extension": ".py",
   "mimetype": "text/x-python",
   "name": "python",
   "nbconvert_exporter": "python",
   "pygments_lexer": "ipython3",
   "version": "3.11.1"
  }
 },
 "nbformat": 4,
 "nbformat_minor": 5
}

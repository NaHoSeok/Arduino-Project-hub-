{
 "cells": [
  {
   "cell_type": "code",
   "execution_count": null,
   "id": "f6c85006-8c5e-4871-a836-25f92be7b057",
   "metadata": {},
   "outputs": [],
   "source": [
    "from http.server import HTTPServer\n",
    "from HubRequestHandler import HubRequestHandler"
   ]
  },
  {
   "cell_type": "code",
   "execution_count": null,
   "id": "b145b372-8c7c-43a0-b87e-854a7d12fc8c",
   "metadata": {},
   "outputs": [],
   "source": [
    "# 웹서버 <-> 웹브라우저(클라이언트)\n",
    "# webServer = HTTPServer(('localhost', 8080), None) # 서버 인스턴스 생성; host = 'localhost', port=8080, requestHandler=None\n",
    "webServer = HTTPServer(('localhost', 8080), HubRequestHandler)"
   ]
  },
  {
   "cell_type": "code",
   "execution_count": null,
   "id": "cbfb4c1d-fd40-42e5-b4f4-4b0984579cda",
   "metadata": {},
   "outputs": [
    {
     "name": "stdout",
     "output_type": "stream",
     "text": [
      "My web server started at http://localhost:8080\n",
      "/\n"
     ]
    },
    {
     "name": "stderr",
     "output_type": "stream",
     "text": [
      "127.0.0.1 - - [22/Nov/2023 16:39:31] \"GET / HTTP/1.1\" 200 -\n"
     ]
    }
   ],
   "source": [
    "print(f'My web server started at http://localhost:8080')\n",
    "webServer.serve_forever()"
   ]
  }
 ],
 "metadata": {
  "kernelspec": {
   "display_name": "Python 3 (ipykernel)",
   "language": "python",
   "name": "python3"
  },
  "language_info": {
   "codemirror_mode": {
    "name": "ipython",
    "version": 3
   },
   "file_extension": ".py",
   "mimetype": "text/x-python",
   "name": "python",
   "nbconvert_exporter": "python",
   "pygments_lexer": "ipython3",
   "version": "3.11.1"
  }
 },
 "nbformat": 4,
 "nbformat_minor": 5
}

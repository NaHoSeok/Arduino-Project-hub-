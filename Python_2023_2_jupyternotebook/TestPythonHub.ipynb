{
 "cells": [
  {
   "cell_type": "code",
   "execution_count": 1,
   "id": "4bc3eee5-e914-4b1e-8fbe-5afe37929ee6",
   "metadata": {},
   "outputs": [
    {
     "name": "stdout",
     "output_type": "stream",
     "text": [
      "생성자 호출됨\n"
     ]
    }
   ],
   "source": [
    "from PythonHub import PythonHub #PythonHub 모듈(PythonHub.py)로 부터 클래스 PythonHub를 수입함\n",
    "pyHub = PythonHub()\n",
    "PythonHub.wait(1.5)"
   ]
  },
  {
   "cell_type": "code",
   "execution_count": 2,
   "id": "305cf74e-617b-464a-826b-e2a680b507f4",
   "metadata": {},
   "outputs": [],
   "source": [
    "#pythonHub = PythonHub('COM3', 9600) # 클래스 PythonHub의 생성자를 호출해서 인스턴스 생성\n",
    "# 생성된 인스턴스는 pythonHub에 저장"
   ]
  },
  {
   "cell_type": "code",
   "execution_count": 3,
   "id": "0653847f-0737-4b9a-a81e-a48fc324a0ea",
   "metadata": {},
   "outputs": [],
   "source": [
    "# del pyHub # 인스턴스 pyHub을 소멸시킴(지움)"
   ]
  },
  {
   "cell_type": "code",
   "execution_count": 4,
   "id": "ccc5416e-3e0d-4d7f-b933-a09bc4c9b1c1",
   "metadata": {},
   "outputs": [],
   "source": [
    "#pyHub = PythonHub()"
   ]
  },
  {
   "cell_type": "code",
   "execution_count": 5,
   "id": "ce172d22-f834-438b-8a8f-40b8d0b1997a",
   "metadata": {},
   "outputs": [],
   "source": [
    "#pyHub.writeSerial('set servo 180\\n')"
   ]
  },
  {
   "cell_type": "code",
   "execution_count": 6,
   "id": "cda63afa-ace8-4bd0-bc6b-85f1d740dab4",
   "metadata": {},
   "outputs": [],
   "source": [
    "#pyHub.writeSerial('get volt\\n')"
   ]
  },
  {
   "cell_type": "code",
   "execution_count": 7,
   "id": "f36d4252-cbf1-42c6-bffd-8089564d9447",
   "metadata": {},
   "outputs": [],
   "source": [
    "#pyHub.readSerial()"
   ]
  },
  {
   "cell_type": "code",
   "execution_count": 8,
   "id": "0b2f1267-f98f-4763-b3b1-7013593c9b44",
   "metadata": {},
   "outputs": [],
   "source": [
    "#pyHub.talk('get volt')"
   ]
  },
  {
   "cell_type": "code",
   "execution_count": 9,
   "id": "a994f67e-e07b-48db-b00f-2b75987db034",
   "metadata": {},
   "outputs": [],
   "source": [
    "#pyHub.listen()"
   ]
  },
  {
   "cell_type": "code",
   "execution_count": 10,
   "id": "94df44f9-eddc-40cb-b730-03570dcb9c51",
   "metadata": {},
   "outputs": [],
   "source": [
    "#pyHub.talkListen('get volt')"
   ]
  },
  {
   "cell_type": "code",
   "execution_count": 11,
   "id": "ad86fff4-cbe6-451f-8844-600b965f5129",
   "metadata": {},
   "outputs": [],
   "source": [
    "#pyHub.talkListen('set servo 180')"
   ]
  },
  {
   "cell_type": "code",
   "execution_count": 12,
   "id": "86e2b02c-eb47-4b4c-87c4-742f600a12e2",
   "metadata": {},
   "outputs": [
    {
     "name": "stdout",
     "output_type": "stream",
     "text": [
      "3.2991202\n"
     ]
    }
   ],
   "source": [
    "volt = pyHub.getVolt()\n",
    "print(volt)"
   ]
  },
  {
   "cell_type": "code",
   "execution_count": 13,
   "id": "db41ffb4-06d5-4a56-8000-2e8ac88d2e28",
   "metadata": {},
   "outputs": [
    {
     "data": {
      "text/plain": [
       "3.2991202"
      ]
     },
     "execution_count": 13,
     "metadata": {},
     "output_type": "execute_result"
    }
   ],
   "source": [
    "pyHub.getVolt()"
   ]
  },
  {
   "cell_type": "code",
   "execution_count": 14,
   "id": "744ee3cf-7044-49e7-83fd-cb221ad67311",
   "metadata": {},
   "outputs": [
    {
     "data": {
      "text/plain": [
       "'dark'"
      ]
     },
     "execution_count": 14,
     "metadata": {},
     "output_type": "execute_result"
    }
   ],
   "source": [
    "pyHub.getLight()"
   ]
  },
  {
   "cell_type": "code",
   "execution_count": 23,
   "id": "40957a58-8285-4154-a5c4-178ba0d44c6d",
   "metadata": {},
   "outputs": [
    {
     "data": {
      "text/plain": [
       "'958'"
      ]
     },
     "execution_count": 23,
     "metadata": {},
     "output_type": "execute_result"
    }
   ],
   "source": [
    "pyHub.getLightStep()"
   ]
  },
  {
   "cell_type": "code",
   "execution_count": 4,
   "id": "302cb1d3-4ce1-443d-a547-0e26be493832",
   "metadata": {},
   "outputs": [],
   "source": [
    "pyHub.setServoMove(180)"
   ]
  },
  {
   "cell_type": "code",
   "execution_count": 5,
   "id": "71a2e152-a695-4b53-a460-71f7f72d8177",
   "metadata": {},
   "outputs": [],
   "source": [
    "pyHub.setServoMove(0)"
   ]
  },
  {
   "cell_type": "code",
   "execution_count": 6,
   "id": "08452edc-1183-4fd2-bfb8-1123db018aff",
   "metadata": {},
   "outputs": [],
   "source": [
    "pyHub.setLedColor('green')"
   ]
  },
  {
   "cell_type": "code",
   "execution_count": 7,
   "id": "eb4d50ba-0b76-412e-8cd4-b53ee793a435",
   "metadata": {},
   "outputs": [],
   "source": [
    "pyHub.setLedColor('red')"
   ]
  },
  {
   "cell_type": "code",
   "execution_count": 8,
   "id": "0a02b330-28b8-4418-a7d7-a00f56368de8",
   "metadata": {},
   "outputs": [],
   "source": [
    "pyHub.setLedColor('blue')"
   ]
  },
  {
   "cell_type": "code",
   "execution_count": 9,
   "id": "09eddc6f-4c7f-42f5-84da-23a9eb871f92",
   "metadata": {},
   "outputs": [],
   "source": [
    "pyHub.setLedColor('black')"
   ]
  },
  {
   "cell_type": "code",
   "execution_count": 3,
   "id": "b9e108d4-d8b3-4af4-90c9-522b96164529",
   "metadata": {},
   "outputs": [],
   "source": [
    "pyHub.setBuzzerNote('do' ,500)\n",
    "pyHub.setBuzzerNote('re' ,500)\n",
    "pyHub.setBuzzerNote('mi' ,500)"
   ]
  },
  {
   "cell_type": "code",
   "execution_count": 31,
   "id": "e0ebcf1e-548e-4baf-a91c-20b5d3773bb4",
   "metadata": {},
   "outputs": [
    {
     "name": "stdout",
     "output_type": "stream",
     "text": [
      "True\n"
     ]
    }
   ],
   "source": [
    "result = pyHub.addVoltToTuple()\n",
    "print(result)"
   ]
  },
  {
   "cell_type": "code",
   "execution_count": 32,
   "id": "816c80b6-9c1c-4a57-be98-93fe8043036a",
   "metadata": {},
   "outputs": [
    {
     "name": "stdout",
     "output_type": "stream",
     "text": [
      "(3.2991202, 3.2991202, 3.2991202)\n",
      "(1699426699.561468, 1699426700.9938319, 1699426702.9073458)\n"
     ]
    }
   ],
   "source": [
    "print(pyHub.volts)\n",
    "print(pyHub.voltTimes)"
   ]
  },
  {
   "cell_type": "code",
   "execution_count": 40,
   "id": "60920e6b-2281-4eab-b589-926b7b030b31",
   "metadata": {},
   "outputs": [
    {
     "name": "stdout",
     "output_type": "stream",
     "text": [
      "volt = 3.2991202 @ time = Wed Nov  8 15:58:19 2023\n",
      "volt = 3.2991202 @ time = Wed Nov  8 15:58:20 2023\n",
      "volt = 3.2991202 @ time = Wed Nov  8 15:58:22 2023\n"
     ]
    }
   ],
   "source": [
    "pyHub.printVoltTuple()"
   ]
  },
  {
   "cell_type": "code",
   "execution_count": null,
   "id": "312f7191-385f-4dba-b9e7-3b6d44139410",
   "metadata": {},
   "outputs": [],
   "source": []
  }
 ],
 "metadata": {
  "kernelspec": {
   "display_name": "Python 3 (ipykernel)",
   "language": "python",
   "name": "python3"
  },
  "language_info": {
   "codemirror_mode": {
    "name": "ipython",
    "version": 3
   },
   "file_extension": ".py",
   "mimetype": "text/x-python",
   "name": "python",
   "nbconvert_exporter": "python",
   "pygments_lexer": "ipython3",
   "version": "3.11.1"
  }
 },
 "nbformat": 4,
 "nbformat_minor": 5
}

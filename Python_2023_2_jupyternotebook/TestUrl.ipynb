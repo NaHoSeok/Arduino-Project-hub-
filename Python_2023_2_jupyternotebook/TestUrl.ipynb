{
 "cells": [
  {
   "cell_type": "code",
   "execution_count": 1,
   "id": "0a208b1a-ed8a-4f3a-a4fd-77f6dbd9b5eb",
   "metadata": {},
   "outputs": [],
   "source": [
    "from urllib import parse"
   ]
  },
  {
   "cell_type": "code",
   "execution_count": 3,
   "id": "3af28239-5870-42c6-9502-2d94221a5c5c",
   "metadata": {},
   "outputs": [],
   "source": [
    "url = '/sample_volt?count=10&delay=1.5'"
   ]
  },
  {
   "cell_type": "code",
   "execution_count": 4,
   "id": "d55e1d1b-7f52-49bb-9f8a-ced499ed5ce6",
   "metadata": {},
   "outputs": [
    {
     "name": "stdout",
     "output_type": "stream",
     "text": [
      "SplitResult(scheme='', netloc='', path='/sample_volt', query='count=10&delay=1.5', fragment='')\n"
     ]
    }
   ],
   "source": [
    "result = parse.urlsplit(url)\n",
    "print(result)"
   ]
  },
  {
   "cell_type": "code",
   "execution_count": 5,
   "id": "654fe207-e587-45f5-b035-0330d323e930",
   "metadata": {},
   "outputs": [
    {
     "name": "stdout",
     "output_type": "stream",
     "text": [
      "{'count': ['10'], 'delay': ['1.5']}\n"
     ]
    }
   ],
   "source": [
    "qdict = parse.parse_qs(result.query)\n",
    "print(qdict)"
   ]
  },
  {
   "cell_type": "code",
   "execution_count": 6,
   "id": "008ff32d-79a7-4846-b66c-c3e697c8f38e",
   "metadata": {},
   "outputs": [
    {
     "name": "stdout",
     "output_type": "stream",
     "text": [
      "10\n"
     ]
    }
   ],
   "source": [
    "nCount = int(qdict['count'][0])\n",
    "print(nCount)"
   ]
  },
  {
   "cell_type": "code",
   "execution_count": 7,
   "id": "5fbc7b04-5319-4f49-93a1-5385892e77fe",
   "metadata": {},
   "outputs": [
    {
     "name": "stdout",
     "output_type": "stream",
     "text": [
      "1.5\n"
     ]
    }
   ],
   "source": [
    "delay = float(qdict['delay'][0])\n",
    "print(delay)"
   ]
  },
  {
   "cell_type": "code",
   "execution_count": null,
   "id": "e5dd5937-339e-4823-90e5-613accbe6456",
   "metadata": {},
   "outputs": [],
   "source": []
  }
 ],
 "metadata": {
  "kernelspec": {
   "display_name": "Python 3 (ipykernel)",
   "language": "python",
   "name": "python3"
  },
  "language_info": {
   "codemirror_mode": {
    "name": "ipython",
    "version": 3
   },
   "file_extension": ".py",
   "mimetype": "text/x-python",
   "name": "python",
   "nbconvert_exporter": "python",
   "pygments_lexer": "ipython3",
   "version": "3.11.1"
  }
 },
 "nbformat": 4,
 "nbformat_minor": 5
}

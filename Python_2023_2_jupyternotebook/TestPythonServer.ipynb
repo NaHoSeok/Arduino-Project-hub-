{
 "cells": [
  {
   "cell_type": "code",
   "execution_count": null,
   "id": "a64a3548-a384-4b70-b3be-1fcb2e9e4e12",
   "metadata": {},
   "outputs": [
    {
     "name": "stdout",
     "output_type": "stream",
     "text": [
      "생성자 호출됨\n",
      "My web server started at http://localhost:8080\n",
      "/\n",
      "/favicon.ico\n"
     ]
    },
    {
     "name": "stderr",
     "output_type": "stream",
     "text": [
      "127.0.0.1 - - [20/Dec/2023 10:46:01] \"GET / HTTP/1.1\" 200 -\n",
      "----------------------------------------\n",
      "Exception occurred during processing of request from ('127.0.0.1', 55059)\n",
      "Traceback (most recent call last):\n",
      "  File \"C:\\Users\\user\\AppData\\Local\\Programs\\Python\\Python311\\Lib\\socketserver.py\", line 317, in _handle_request_noblock\n",
      "    self.process_request(request, client_address)\n",
      "  File \"C:\\Users\\user\\AppData\\Local\\Programs\\Python\\Python311\\Lib\\socketserver.py\", line 348, in process_request\n",
      "    self.finish_request(request, client_address)\n",
      "  File \"C:\\Users\\user\\AppData\\Local\\Programs\\Python\\Python311\\Lib\\socketserver.py\", line 361, in finish_request\n",
      "    self.RequestHandlerClass(request, client_address, self)\n",
      "  File \"C:\\Users\\user\\AppData\\Local\\Programs\\Python\\Python311\\Lib\\http\\server.py\", line 667, in __init__\n",
      "    super().__init__(*args, **kwargs)\n",
      "  File \"C:\\Users\\user\\AppData\\Local\\Programs\\Python\\Python311\\Lib\\socketserver.py\", line 755, in __init__\n",
      "    self.handle()\n",
      "  File \"C:\\Users\\user\\AppData\\Local\\Programs\\Python\\Python311\\Lib\\http\\server.py\", line 432, in handle\n",
      "    self.handle_one_request()\n",
      "  File \"C:\\Users\\user\\AppData\\Local\\Programs\\Python\\Python311\\Lib\\http\\server.py\", line 420, in handle_one_request\n",
      "    method()\n",
      "  File \"C:\\Users\\user\\Desktop\\Python_2023_2-master\\HubRequestHandler.py\", line 21, in do_GET\n",
      "    else: result.writeNotFound()\n",
      "          ^^^^^^^^^^^^^^^^^^^^\n",
      "AttributeError: 'SplitResult' object has no attribute 'writeNotFound'\n",
      "----------------------------------------\n"
     ]
    },
    {
     "name": "stdout",
     "output_type": "stream",
     "text": [
      "/favicon.ico\n"
     ]
    },
    {
     "name": "stderr",
     "output_type": "stream",
     "text": [
      "----------------------------------------\n",
      "Exception occurred during processing of request from ('127.0.0.1', 55061)\n",
      "Traceback (most recent call last):\n",
      "  File \"C:\\Users\\user\\AppData\\Local\\Programs\\Python\\Python311\\Lib\\socketserver.py\", line 317, in _handle_request_noblock\n",
      "    self.process_request(request, client_address)\n",
      "  File \"C:\\Users\\user\\AppData\\Local\\Programs\\Python\\Python311\\Lib\\socketserver.py\", line 348, in process_request\n",
      "    self.finish_request(request, client_address)\n",
      "  File \"C:\\Users\\user\\AppData\\Local\\Programs\\Python\\Python311\\Lib\\socketserver.py\", line 361, in finish_request\n",
      "    self.RequestHandlerClass(request, client_address, self)\n",
      "  File \"C:\\Users\\user\\AppData\\Local\\Programs\\Python\\Python311\\Lib\\http\\server.py\", line 667, in __init__\n",
      "    super().__init__(*args, **kwargs)\n",
      "  File \"C:\\Users\\user\\AppData\\Local\\Programs\\Python\\Python311\\Lib\\socketserver.py\", line 755, in __init__\n",
      "    self.handle()\n",
      "  File \"C:\\Users\\user\\AppData\\Local\\Programs\\Python\\Python311\\Lib\\http\\server.py\", line 432, in handle\n",
      "    self.handle_one_request()\n",
      "  File \"C:\\Users\\user\\AppData\\Local\\Programs\\Python\\Python311\\Lib\\http\\server.py\", line 420, in handle_one_request\n",
      "    method()\n",
      "  File \"C:\\Users\\user\\Desktop\\Python_2023_2-master\\HubRequestHandler.py\", line 21, in do_GET\n",
      "    else: result.writeNotFound()\n",
      "          ^^^^^^^^^^^^^^^^^^^^\n",
      "AttributeError: 'SplitResult' object has no attribute 'writeNotFound'\n",
      "----------------------------------------\n"
     ]
    },
    {
     "name": "stdout",
     "output_type": "stream",
     "text": [
      "/meas_one_volt\n"
     ]
    },
    {
     "name": "stderr",
     "output_type": "stream",
     "text": [
      "127.0.0.1 - - [20/Dec/2023 10:46:03] \"GET /meas_one_volt HTTP/1.1\" 200 -\n"
     ]
    },
    {
     "name": "stdout",
     "output_type": "stream",
     "text": [
      "/favicon.ico\n",
      "/favicon.ico\n"
     ]
    },
    {
     "name": "stderr",
     "output_type": "stream",
     "text": [
      "----------------------------------------\n",
      "Exception occurred during processing of request from ('127.0.0.1', 55066)\n",
      "Traceback (most recent call last):\n",
      "  File \"C:\\Users\\user\\AppData\\Local\\Programs\\Python\\Python311\\Lib\\socketserver.py\", line 317, in _handle_request_noblock\n",
      "    self.process_request(request, client_address)\n",
      "  File \"C:\\Users\\user\\AppData\\Local\\Programs\\Python\\Python311\\Lib\\socketserver.py\", line 348, in process_request\n",
      "    self.finish_request(request, client_address)\n",
      "  File \"C:\\Users\\user\\AppData\\Local\\Programs\\Python\\Python311\\Lib\\socketserver.py\", line 361, in finish_request\n",
      "    self.RequestHandlerClass(request, client_address, self)\n",
      "  File \"C:\\Users\\user\\AppData\\Local\\Programs\\Python\\Python311\\Lib\\http\\server.py\", line 667, in __init__\n",
      "    super().__init__(*args, **kwargs)\n",
      "  File \"C:\\Users\\user\\AppData\\Local\\Programs\\Python\\Python311\\Lib\\socketserver.py\", line 755, in __init__\n",
      "    self.handle()\n",
      "  File \"C:\\Users\\user\\AppData\\Local\\Programs\\Python\\Python311\\Lib\\http\\server.py\", line 432, in handle\n",
      "    self.handle_one_request()\n",
      "  File \"C:\\Users\\user\\AppData\\Local\\Programs\\Python\\Python311\\Lib\\http\\server.py\", line 420, in handle_one_request\n",
      "    method()\n",
      "  File \"C:\\Users\\user\\Desktop\\Python_2023_2-master\\HubRequestHandler.py\", line 21, in do_GET\n",
      "    else: result.writeNotFound()\n",
      "          ^^^^^^^^^^^^^^^^^^^^\n",
      "AttributeError: 'SplitResult' object has no attribute 'writeNotFound'\n",
      "----------------------------------------\n",
      "----------------------------------------\n",
      "Exception occurred during processing of request from ('127.0.0.1', 55068)\n",
      "Traceback (most recent call last):\n",
      "  File \"C:\\Users\\user\\AppData\\Local\\Programs\\Python\\Python311\\Lib\\socketserver.py\", line 317, in _handle_request_noblock\n",
      "    self.process_request(request, client_address)\n",
      "  File \"C:\\Users\\user\\AppData\\Local\\Programs\\Python\\Python311\\Lib\\socketserver.py\", line 348, in process_request\n",
      "    self.finish_request(request, client_address)\n",
      "  File \"C:\\Users\\user\\AppData\\Local\\Programs\\Python\\Python311\\Lib\\socketserver.py\", line 361, in finish_request\n",
      "    self.RequestHandlerClass(request, client_address, self)\n",
      "  File \"C:\\Users\\user\\AppData\\Local\\Programs\\Python\\Python311\\Lib\\http\\server.py\", line 667, in __init__\n",
      "    super().__init__(*args, **kwargs)\n",
      "  File \"C:\\Users\\user\\AppData\\Local\\Programs\\Python\\Python311\\Lib\\socketserver.py\", line 755, in __init__\n",
      "    self.handle()\n",
      "  File \"C:\\Users\\user\\AppData\\Local\\Programs\\Python\\Python311\\Lib\\http\\server.py\", line 432, in handle\n",
      "    self.handle_one_request()\n",
      "  File \"C:\\Users\\user\\AppData\\Local\\Programs\\Python\\Python311\\Lib\\http\\server.py\", line 420, in handle_one_request\n",
      "    method()\n",
      "  File \"C:\\Users\\user\\Desktop\\Python_2023_2-master\\HubRequestHandler.py\", line 21, in do_GET\n",
      "    else: result.writeNotFound()\n",
      "          ^^^^^^^^^^^^^^^^^^^^\n",
      "AttributeError: 'SplitResult' object has no attribute 'writeNotFound'\n",
      "----------------------------------------\n"
     ]
    },
    {
     "name": "stdout",
     "output_type": "stream",
     "text": [
      "/favicon.ico\n"
     ]
    },
    {
     "name": "stderr",
     "output_type": "stream",
     "text": [
      "----------------------------------------\n",
      "Exception occurred during processing of request from ('127.0.0.1', 55075)\n",
      "Traceback (most recent call last):\n",
      "  File \"C:\\Users\\user\\AppData\\Local\\Programs\\Python\\Python311\\Lib\\socketserver.py\", line 317, in _handle_request_noblock\n",
      "    self.process_request(request, client_address)\n",
      "  File \"C:\\Users\\user\\AppData\\Local\\Programs\\Python\\Python311\\Lib\\socketserver.py\", line 348, in process_request\n",
      "    self.finish_request(request, client_address)\n",
      "  File \"C:\\Users\\user\\AppData\\Local\\Programs\\Python\\Python311\\Lib\\socketserver.py\", line 361, in finish_request\n",
      "    self.RequestHandlerClass(request, client_address, self)\n",
      "  File \"C:\\Users\\user\\AppData\\Local\\Programs\\Python\\Python311\\Lib\\http\\server.py\", line 667, in __init__\n",
      "    super().__init__(*args, **kwargs)\n",
      "  File \"C:\\Users\\user\\AppData\\Local\\Programs\\Python\\Python311\\Lib\\socketserver.py\", line 755, in __init__\n",
      "    self.handle()\n",
      "  File \"C:\\Users\\user\\AppData\\Local\\Programs\\Python\\Python311\\Lib\\http\\server.py\", line 432, in handle\n",
      "    self.handle_one_request()\n",
      "  File \"C:\\Users\\user\\AppData\\Local\\Programs\\Python\\Python311\\Lib\\http\\server.py\", line 420, in handle_one_request\n",
      "    method()\n",
      "  File \"C:\\Users\\user\\Desktop\\Python_2023_2-master\\HubRequestHandler.py\", line 21, in do_GET\n",
      "    else: result.writeNotFound()\n",
      "          ^^^^^^^^^^^^^^^^^^^^\n",
      "AttributeError: 'SplitResult' object has no attribute 'writeNotFound'\n",
      "----------------------------------------\n"
     ]
    },
    {
     "name": "stdout",
     "output_type": "stream",
     "text": [
      "/favicon.ico\n"
     ]
    },
    {
     "name": "stderr",
     "output_type": "stream",
     "text": [
      "----------------------------------------\n",
      "Exception occurred during processing of request from ('127.0.0.1', 55076)\n",
      "Traceback (most recent call last):\n",
      "  File \"C:\\Users\\user\\AppData\\Local\\Programs\\Python\\Python311\\Lib\\socketserver.py\", line 317, in _handle_request_noblock\n",
      "    self.process_request(request, client_address)\n",
      "  File \"C:\\Users\\user\\AppData\\Local\\Programs\\Python\\Python311\\Lib\\socketserver.py\", line 348, in process_request\n",
      "    self.finish_request(request, client_address)\n",
      "  File \"C:\\Users\\user\\AppData\\Local\\Programs\\Python\\Python311\\Lib\\socketserver.py\", line 361, in finish_request\n",
      "    self.RequestHandlerClass(request, client_address, self)\n",
      "  File \"C:\\Users\\user\\AppData\\Local\\Programs\\Python\\Python311\\Lib\\http\\server.py\", line 667, in __init__\n",
      "    super().__init__(*args, **kwargs)\n",
      "  File \"C:\\Users\\user\\AppData\\Local\\Programs\\Python\\Python311\\Lib\\socketserver.py\", line 755, in __init__\n",
      "    self.handle()\n",
      "  File \"C:\\Users\\user\\AppData\\Local\\Programs\\Python\\Python311\\Lib\\http\\server.py\", line 432, in handle\n",
      "    self.handle_one_request()\n",
      "  File \"C:\\Users\\user\\AppData\\Local\\Programs\\Python\\Python311\\Lib\\http\\server.py\", line 420, in handle_one_request\n",
      "    method()\n",
      "  File \"C:\\Users\\user\\Desktop\\Python_2023_2-master\\HubRequestHandler.py\", line 21, in do_GET\n",
      "    else: result.writeNotFound()\n",
      "          ^^^^^^^^^^^^^^^^^^^^\n",
      "AttributeError: 'SplitResult' object has no attribute 'writeNotFound'\n",
      "----------------------------------------\n"
     ]
    },
    {
     "name": "stdout",
     "output_type": "stream",
     "text": [
      "/favicon.ico\n"
     ]
    },
    {
     "name": "stderr",
     "output_type": "stream",
     "text": [
      "----------------------------------------\n",
      "Exception occurred during processing of request from ('127.0.0.1', 55110)\n",
      "Traceback (most recent call last):\n",
      "  File \"C:\\Users\\user\\AppData\\Local\\Programs\\Python\\Python311\\Lib\\socketserver.py\", line 317, in _handle_request_noblock\n",
      "    self.process_request(request, client_address)\n",
      "  File \"C:\\Users\\user\\AppData\\Local\\Programs\\Python\\Python311\\Lib\\socketserver.py\", line 348, in process_request\n",
      "    self.finish_request(request, client_address)\n",
      "  File \"C:\\Users\\user\\AppData\\Local\\Programs\\Python\\Python311\\Lib\\socketserver.py\", line 361, in finish_request\n",
      "    self.RequestHandlerClass(request, client_address, self)\n",
      "  File \"C:\\Users\\user\\AppData\\Local\\Programs\\Python\\Python311\\Lib\\http\\server.py\", line 667, in __init__\n",
      "    super().__init__(*args, **kwargs)\n",
      "  File \"C:\\Users\\user\\AppData\\Local\\Programs\\Python\\Python311\\Lib\\socketserver.py\", line 755, in __init__\n",
      "    self.handle()\n",
      "  File \"C:\\Users\\user\\AppData\\Local\\Programs\\Python\\Python311\\Lib\\http\\server.py\", line 432, in handle\n",
      "    self.handle_one_request()\n",
      "  File \"C:\\Users\\user\\AppData\\Local\\Programs\\Python\\Python311\\Lib\\http\\server.py\", line 420, in handle_one_request\n",
      "    method()\n",
      "  File \"C:\\Users\\user\\Desktop\\Python_2023_2-master\\HubRequestHandler.py\", line 21, in do_GET\n",
      "    else: result.writeNotFound()\n",
      "          ^^^^^^^^^^^^^^^^^^^^\n",
      "AttributeError: 'SplitResult' object has no attribute 'writeNotFound'\n",
      "----------------------------------------\n"
     ]
    },
    {
     "name": "stdout",
     "output_type": "stream",
     "text": [
      "/meas_one_volt\n"
     ]
    },
    {
     "name": "stderr",
     "output_type": "stream",
     "text": [
      "127.0.0.1 - - [20/Dec/2023 10:46:09] \"GET /meas_one_volt HTTP/1.1\" 200 -\n"
     ]
    },
    {
     "name": "stdout",
     "output_type": "stream",
     "text": [
      "/favicon.ico\n"
     ]
    },
    {
     "name": "stderr",
     "output_type": "stream",
     "text": [
      "----------------------------------------\n",
      "Exception occurred during processing of request from ('127.0.0.1', 55116)\n",
      "Traceback (most recent call last):\n",
      "  File \"C:\\Users\\user\\AppData\\Local\\Programs\\Python\\Python311\\Lib\\socketserver.py\", line 317, in _handle_request_noblock\n",
      "    self.process_request(request, client_address)\n",
      "  File \"C:\\Users\\user\\AppData\\Local\\Programs\\Python\\Python311\\Lib\\socketserver.py\", line 348, in process_request\n",
      "    self.finish_request(request, client_address)\n",
      "  File \"C:\\Users\\user\\AppData\\Local\\Programs\\Python\\Python311\\Lib\\socketserver.py\", line 361, in finish_request\n",
      "    self.RequestHandlerClass(request, client_address, self)\n",
      "  File \"C:\\Users\\user\\AppData\\Local\\Programs\\Python\\Python311\\Lib\\http\\server.py\", line 667, in __init__\n",
      "    super().__init__(*args, **kwargs)\n",
      "  File \"C:\\Users\\user\\AppData\\Local\\Programs\\Python\\Python311\\Lib\\socketserver.py\", line 755, in __init__\n",
      "    self.handle()\n",
      "  File \"C:\\Users\\user\\AppData\\Local\\Programs\\Python\\Python311\\Lib\\http\\server.py\", line 432, in handle\n",
      "    self.handle_one_request()\n",
      "  File \"C:\\Users\\user\\AppData\\Local\\Programs\\Python\\Python311\\Lib\\http\\server.py\", line 420, in handle_one_request\n",
      "    method()\n",
      "  File \"C:\\Users\\user\\Desktop\\Python_2023_2-master\\HubRequestHandler.py\", line 21, in do_GET\n",
      "    else: result.writeNotFound()\n",
      "          ^^^^^^^^^^^^^^^^^^^^\n",
      "AttributeError: 'SplitResult' object has no attribute 'writeNotFound'\n",
      "----------------------------------------\n"
     ]
    },
    {
     "name": "stdout",
     "output_type": "stream",
     "text": [
      "/favicon.ico\n"
     ]
    },
    {
     "name": "stderr",
     "output_type": "stream",
     "text": [
      "----------------------------------------\n",
      "Exception occurred during processing of request from ('127.0.0.1', 55122)\n",
      "Traceback (most recent call last):\n",
      "  File \"C:\\Users\\user\\AppData\\Local\\Programs\\Python\\Python311\\Lib\\socketserver.py\", line 317, in _handle_request_noblock\n",
      "    self.process_request(request, client_address)\n",
      "  File \"C:\\Users\\user\\AppData\\Local\\Programs\\Python\\Python311\\Lib\\socketserver.py\", line 348, in process_request\n",
      "    self.finish_request(request, client_address)\n",
      "  File \"C:\\Users\\user\\AppData\\Local\\Programs\\Python\\Python311\\Lib\\socketserver.py\", line 361, in finish_request\n",
      "    self.RequestHandlerClass(request, client_address, self)\n",
      "  File \"C:\\Users\\user\\AppData\\Local\\Programs\\Python\\Python311\\Lib\\http\\server.py\", line 667, in __init__\n",
      "    super().__init__(*args, **kwargs)\n",
      "  File \"C:\\Users\\user\\AppData\\Local\\Programs\\Python\\Python311\\Lib\\socketserver.py\", line 755, in __init__\n",
      "    self.handle()\n",
      "  File \"C:\\Users\\user\\AppData\\Local\\Programs\\Python\\Python311\\Lib\\http\\server.py\", line 432, in handle\n",
      "    self.handle_one_request()\n",
      "  File \"C:\\Users\\user\\AppData\\Local\\Programs\\Python\\Python311\\Lib\\http\\server.py\", line 420, in handle_one_request\n",
      "    method()\n",
      "  File \"C:\\Users\\user\\Desktop\\Python_2023_2-master\\HubRequestHandler.py\", line 21, in do_GET\n",
      "    else: result.writeNotFound()\n",
      "          ^^^^^^^^^^^^^^^^^^^^\n",
      "AttributeError: 'SplitResult' object has no attribute 'writeNotFound'\n",
      "----------------------------------------\n"
     ]
    },
    {
     "name": "stdout",
     "output_type": "stream",
     "text": [
      "/favicon.ico\n"
     ]
    },
    {
     "name": "stderr",
     "output_type": "stream",
     "text": [
      "----------------------------------------\n",
      "Exception occurred during processing of request from ('127.0.0.1', 55123)\n",
      "Traceback (most recent call last):\n",
      "  File \"C:\\Users\\user\\AppData\\Local\\Programs\\Python\\Python311\\Lib\\socketserver.py\", line 317, in _handle_request_noblock\n",
      "    self.process_request(request, client_address)\n",
      "  File \"C:\\Users\\user\\AppData\\Local\\Programs\\Python\\Python311\\Lib\\socketserver.py\", line 348, in process_request\n",
      "    self.finish_request(request, client_address)\n",
      "  File \"C:\\Users\\user\\AppData\\Local\\Programs\\Python\\Python311\\Lib\\socketserver.py\", line 361, in finish_request\n",
      "    self.RequestHandlerClass(request, client_address, self)\n",
      "  File \"C:\\Users\\user\\AppData\\Local\\Programs\\Python\\Python311\\Lib\\http\\server.py\", line 667, in __init__\n",
      "    super().__init__(*args, **kwargs)\n",
      "  File \"C:\\Users\\user\\AppData\\Local\\Programs\\Python\\Python311\\Lib\\socketserver.py\", line 755, in __init__\n",
      "    self.handle()\n",
      "  File \"C:\\Users\\user\\AppData\\Local\\Programs\\Python\\Python311\\Lib\\http\\server.py\", line 432, in handle\n",
      "    self.handle_one_request()\n",
      "  File \"C:\\Users\\user\\AppData\\Local\\Programs\\Python\\Python311\\Lib\\http\\server.py\", line 420, in handle_one_request\n",
      "    method()\n",
      "  File \"C:\\Users\\user\\Desktop\\Python_2023_2-master\\HubRequestHandler.py\", line 21, in do_GET\n",
      "    else: result.writeNotFound()\n",
      "          ^^^^^^^^^^^^^^^^^^^^\n",
      "AttributeError: 'SplitResult' object has no attribute 'writeNotFound'\n",
      "----------------------------------------\n"
     ]
    },
    {
     "name": "stdout",
     "output_type": "stream",
     "text": [
      "/favicon.ico\n"
     ]
    },
    {
     "name": "stderr",
     "output_type": "stream",
     "text": [
      "----------------------------------------\n",
      "Exception occurred during processing of request from ('127.0.0.1', 55157)\n",
      "Traceback (most recent call last):\n",
      "  File \"C:\\Users\\user\\AppData\\Local\\Programs\\Python\\Python311\\Lib\\socketserver.py\", line 317, in _handle_request_noblock\n",
      "    self.process_request(request, client_address)\n",
      "  File \"C:\\Users\\user\\AppData\\Local\\Programs\\Python\\Python311\\Lib\\socketserver.py\", line 348, in process_request\n",
      "    self.finish_request(request, client_address)\n",
      "  File \"C:\\Users\\user\\AppData\\Local\\Programs\\Python\\Python311\\Lib\\socketserver.py\", line 361, in finish_request\n",
      "    self.RequestHandlerClass(request, client_address, self)\n",
      "  File \"C:\\Users\\user\\AppData\\Local\\Programs\\Python\\Python311\\Lib\\http\\server.py\", line 667, in __init__\n",
      "    super().__init__(*args, **kwargs)\n",
      "  File \"C:\\Users\\user\\AppData\\Local\\Programs\\Python\\Python311\\Lib\\socketserver.py\", line 755, in __init__\n",
      "    self.handle()\n",
      "  File \"C:\\Users\\user\\AppData\\Local\\Programs\\Python\\Python311\\Lib\\http\\server.py\", line 432, in handle\n",
      "    self.handle_one_request()\n",
      "  File \"C:\\Users\\user\\AppData\\Local\\Programs\\Python\\Python311\\Lib\\http\\server.py\", line 420, in handle_one_request\n",
      "    method()\n",
      "  File \"C:\\Users\\user\\Desktop\\Python_2023_2-master\\HubRequestHandler.py\", line 21, in do_GET\n",
      "    else: result.writeNotFound()\n",
      "          ^^^^^^^^^^^^^^^^^^^^\n",
      "AttributeError: 'SplitResult' object has no attribute 'writeNotFound'\n",
      "----------------------------------------\n"
     ]
    },
    {
     "name": "stdout",
     "output_type": "stream",
     "text": [
      "/\n"
     ]
    },
    {
     "name": "stderr",
     "output_type": "stream",
     "text": [
      "127.0.0.1 - - [20/Dec/2023 10:46:17] \"GET / HTTP/1.1\" 200 -\n"
     ]
    },
    {
     "name": "stdout",
     "output_type": "stream",
     "text": [
      "/favicon.ico\n"
     ]
    },
    {
     "name": "stderr",
     "output_type": "stream",
     "text": [
      "----------------------------------------\n",
      "Exception occurred during processing of request from ('127.0.0.1', 55161)\n",
      "Traceback (most recent call last):\n",
      "  File \"C:\\Users\\user\\AppData\\Local\\Programs\\Python\\Python311\\Lib\\socketserver.py\", line 317, in _handle_request_noblock\n",
      "    self.process_request(request, client_address)\n",
      "  File \"C:\\Users\\user\\AppData\\Local\\Programs\\Python\\Python311\\Lib\\socketserver.py\", line 348, in process_request\n",
      "    self.finish_request(request, client_address)\n",
      "  File \"C:\\Users\\user\\AppData\\Local\\Programs\\Python\\Python311\\Lib\\socketserver.py\", line 361, in finish_request\n",
      "    self.RequestHandlerClass(request, client_address, self)\n",
      "  File \"C:\\Users\\user\\AppData\\Local\\Programs\\Python\\Python311\\Lib\\http\\server.py\", line 667, in __init__\n",
      "    super().__init__(*args, **kwargs)\n",
      "  File \"C:\\Users\\user\\AppData\\Local\\Programs\\Python\\Python311\\Lib\\socketserver.py\", line 755, in __init__\n",
      "    self.handle()\n",
      "  File \"C:\\Users\\user\\AppData\\Local\\Programs\\Python\\Python311\\Lib\\http\\server.py\", line 432, in handle\n",
      "    self.handle_one_request()\n",
      "  File \"C:\\Users\\user\\AppData\\Local\\Programs\\Python\\Python311\\Lib\\http\\server.py\", line 420, in handle_one_request\n",
      "    method()\n",
      "  File \"C:\\Users\\user\\Desktop\\Python_2023_2-master\\HubRequestHandler.py\", line 21, in do_GET\n",
      "    else: result.writeNotFound()\n",
      "          ^^^^^^^^^^^^^^^^^^^^\n",
      "AttributeError: 'SplitResult' object has no attribute 'writeNotFound'\n",
      "----------------------------------------\n"
     ]
    },
    {
     "name": "stdout",
     "output_type": "stream",
     "text": [
      "/sample_volt?count=3&delay=1\n"
     ]
    },
    {
     "name": "stderr",
     "output_type": "stream",
     "text": [
      "127.0.0.1 - - [20/Dec/2023 10:46:21] \"GET /sample_volt?count=3&delay=1 HTTP/1.1\" 200 -\n"
     ]
    },
    {
     "name": "stdout",
     "output_type": "stream",
     "text": [
      "True\n",
      "True\n",
      "/favicon.ico\n",
      "/favicon.ico\n"
     ]
    },
    {
     "name": "stderr",
     "output_type": "stream",
     "text": [
      "----------------------------------------\n",
      "Exception occurred during processing of request from ('127.0.0.1', 55168)\n",
      "Traceback (most recent call last):\n",
      "  File \"C:\\Users\\user\\AppData\\Local\\Programs\\Python\\Python311\\Lib\\socketserver.py\", line 317, in _handle_request_noblock\n",
      "    self.process_request(request, client_address)\n",
      "  File \"C:\\Users\\user\\AppData\\Local\\Programs\\Python\\Python311\\Lib\\socketserver.py\", line 348, in process_request\n",
      "    self.finish_request(request, client_address)\n",
      "  File \"C:\\Users\\user\\AppData\\Local\\Programs\\Python\\Python311\\Lib\\socketserver.py\", line 361, in finish_request\n",
      "    self.RequestHandlerClass(request, client_address, self)\n",
      "  File \"C:\\Users\\user\\AppData\\Local\\Programs\\Python\\Python311\\Lib\\http\\server.py\", line 667, in __init__\n",
      "    super().__init__(*args, **kwargs)\n",
      "  File \"C:\\Users\\user\\AppData\\Local\\Programs\\Python\\Python311\\Lib\\socketserver.py\", line 755, in __init__\n",
      "    self.handle()\n",
      "  File \"C:\\Users\\user\\AppData\\Local\\Programs\\Python\\Python311\\Lib\\http\\server.py\", line 432, in handle\n",
      "    self.handle_one_request()\n",
      "  File \"C:\\Users\\user\\AppData\\Local\\Programs\\Python\\Python311\\Lib\\http\\server.py\", line 420, in handle_one_request\n",
      "    method()\n",
      "  File \"C:\\Users\\user\\Desktop\\Python_2023_2-master\\HubRequestHandler.py\", line 21, in do_GET\n",
      "    else: result.writeNotFound()\n",
      "          ^^^^^^^^^^^^^^^^^^^^\n",
      "AttributeError: 'SplitResult' object has no attribute 'writeNotFound'\n",
      "----------------------------------------\n",
      "----------------------------------------\n",
      "Exception occurred during processing of request from ('127.0.0.1', 55170)\n",
      "Traceback (most recent call last):\n",
      "  File \"C:\\Users\\user\\AppData\\Local\\Programs\\Python\\Python311\\Lib\\socketserver.py\", line 317, in _handle_request_noblock\n",
      "    self.process_request(request, client_address)\n",
      "  File \"C:\\Users\\user\\AppData\\Local\\Programs\\Python\\Python311\\Lib\\socketserver.py\", line 348, in process_request\n",
      "    self.finish_request(request, client_address)\n",
      "  File \"C:\\Users\\user\\AppData\\Local\\Programs\\Python\\Python311\\Lib\\socketserver.py\", line 361, in finish_request\n",
      "    self.RequestHandlerClass(request, client_address, self)\n",
      "  File \"C:\\Users\\user\\AppData\\Local\\Programs\\Python\\Python311\\Lib\\http\\server.py\", line 667, in __init__\n",
      "    super().__init__(*args, **kwargs)\n",
      "  File \"C:\\Users\\user\\AppData\\Local\\Programs\\Python\\Python311\\Lib\\socketserver.py\", line 755, in __init__\n",
      "    self.handle()\n",
      "  File \"C:\\Users\\user\\AppData\\Local\\Programs\\Python\\Python311\\Lib\\http\\server.py\", line 432, in handle\n",
      "    self.handle_one_request()\n",
      "  File \"C:\\Users\\user\\AppData\\Local\\Programs\\Python\\Python311\\Lib\\http\\server.py\", line 420, in handle_one_request\n",
      "    method()\n",
      "  File \"C:\\Users\\user\\Desktop\\Python_2023_2-master\\HubRequestHandler.py\", line 21, in do_GET\n",
      "    else: result.writeNotFound()\n",
      "          ^^^^^^^^^^^^^^^^^^^^\n",
      "AttributeError: 'SplitResult' object has no attribute 'writeNotFound'\n",
      "----------------------------------------\n"
     ]
    },
    {
     "name": "stdout",
     "output_type": "stream",
     "text": [
      "/favicon.ico\n"
     ]
    },
    {
     "name": "stderr",
     "output_type": "stream",
     "text": [
      "----------------------------------------\n",
      "Exception occurred during processing of request from ('127.0.0.1', 55178)\n",
      "Traceback (most recent call last):\n",
      "  File \"C:\\Users\\user\\AppData\\Local\\Programs\\Python\\Python311\\Lib\\socketserver.py\", line 317, in _handle_request_noblock\n",
      "    self.process_request(request, client_address)\n",
      "  File \"C:\\Users\\user\\AppData\\Local\\Programs\\Python\\Python311\\Lib\\socketserver.py\", line 348, in process_request\n",
      "    self.finish_request(request, client_address)\n",
      "  File \"C:\\Users\\user\\AppData\\Local\\Programs\\Python\\Python311\\Lib\\socketserver.py\", line 361, in finish_request\n",
      "    self.RequestHandlerClass(request, client_address, self)\n",
      "  File \"C:\\Users\\user\\AppData\\Local\\Programs\\Python\\Python311\\Lib\\http\\server.py\", line 667, in __init__\n",
      "    super().__init__(*args, **kwargs)\n",
      "  File \"C:\\Users\\user\\AppData\\Local\\Programs\\Python\\Python311\\Lib\\socketserver.py\", line 755, in __init__\n",
      "    self.handle()\n",
      "  File \"C:\\Users\\user\\AppData\\Local\\Programs\\Python\\Python311\\Lib\\http\\server.py\", line 432, in handle\n",
      "    self.handle_one_request()\n",
      "  File \"C:\\Users\\user\\AppData\\Local\\Programs\\Python\\Python311\\Lib\\http\\server.py\", line 420, in handle_one_request\n",
      "    method()\n",
      "  File \"C:\\Users\\user\\Desktop\\Python_2023_2-master\\HubRequestHandler.py\", line 21, in do_GET\n",
      "    else: result.writeNotFound()\n",
      "          ^^^^^^^^^^^^^^^^^^^^\n",
      "AttributeError: 'SplitResult' object has no attribute 'writeNotFound'\n",
      "----------------------------------------\n"
     ]
    },
    {
     "name": "stdout",
     "output_type": "stream",
     "text": [
      "/favicon.ico\n"
     ]
    },
    {
     "name": "stderr",
     "output_type": "stream",
     "text": [
      "----------------------------------------\n",
      "Exception occurred during processing of request from ('127.0.0.1', 55179)\n",
      "Traceback (most recent call last):\n",
      "  File \"C:\\Users\\user\\AppData\\Local\\Programs\\Python\\Python311\\Lib\\socketserver.py\", line 317, in _handle_request_noblock\n",
      "    self.process_request(request, client_address)\n",
      "  File \"C:\\Users\\user\\AppData\\Local\\Programs\\Python\\Python311\\Lib\\socketserver.py\", line 348, in process_request\n",
      "    self.finish_request(request, client_address)\n",
      "  File \"C:\\Users\\user\\AppData\\Local\\Programs\\Python\\Python311\\Lib\\socketserver.py\", line 361, in finish_request\n",
      "    self.RequestHandlerClass(request, client_address, self)\n",
      "  File \"C:\\Users\\user\\AppData\\Local\\Programs\\Python\\Python311\\Lib\\http\\server.py\", line 667, in __init__\n",
      "    super().__init__(*args, **kwargs)\n",
      "  File \"C:\\Users\\user\\AppData\\Local\\Programs\\Python\\Python311\\Lib\\socketserver.py\", line 755, in __init__\n",
      "    self.handle()\n",
      "  File \"C:\\Users\\user\\AppData\\Local\\Programs\\Python\\Python311\\Lib\\http\\server.py\", line 432, in handle\n",
      "    self.handle_one_request()\n",
      "  File \"C:\\Users\\user\\AppData\\Local\\Programs\\Python\\Python311\\Lib\\http\\server.py\", line 420, in handle_one_request\n",
      "    method()\n",
      "  File \"C:\\Users\\user\\Desktop\\Python_2023_2-master\\HubRequestHandler.py\", line 21, in do_GET\n",
      "    else: result.writeNotFound()\n",
      "          ^^^^^^^^^^^^^^^^^^^^\n",
      "AttributeError: 'SplitResult' object has no attribute 'writeNotFound'\n",
      "----------------------------------------\n"
     ]
    },
    {
     "name": "stdout",
     "output_type": "stream",
     "text": [
      "/favicon.ico\n"
     ]
    },
    {
     "name": "stderr",
     "output_type": "stream",
     "text": [
      "----------------------------------------\n",
      "Exception occurred during processing of request from ('127.0.0.1', 55215)\n",
      "Traceback (most recent call last):\n",
      "  File \"C:\\Users\\user\\AppData\\Local\\Programs\\Python\\Python311\\Lib\\socketserver.py\", line 317, in _handle_request_noblock\n",
      "    self.process_request(request, client_address)\n",
      "  File \"C:\\Users\\user\\AppData\\Local\\Programs\\Python\\Python311\\Lib\\socketserver.py\", line 348, in process_request\n",
      "    self.finish_request(request, client_address)\n",
      "  File \"C:\\Users\\user\\AppData\\Local\\Programs\\Python\\Python311\\Lib\\socketserver.py\", line 361, in finish_request\n",
      "    self.RequestHandlerClass(request, client_address, self)\n",
      "  File \"C:\\Users\\user\\AppData\\Local\\Programs\\Python\\Python311\\Lib\\http\\server.py\", line 667, in __init__\n",
      "    super().__init__(*args, **kwargs)\n",
      "  File \"C:\\Users\\user\\AppData\\Local\\Programs\\Python\\Python311\\Lib\\socketserver.py\", line 755, in __init__\n",
      "    self.handle()\n",
      "  File \"C:\\Users\\user\\AppData\\Local\\Programs\\Python\\Python311\\Lib\\http\\server.py\", line 432, in handle\n",
      "    self.handle_one_request()\n",
      "  File \"C:\\Users\\user\\AppData\\Local\\Programs\\Python\\Python311\\Lib\\http\\server.py\", line 420, in handle_one_request\n",
      "    method()\n",
      "  File \"C:\\Users\\user\\Desktop\\Python_2023_2-master\\HubRequestHandler.py\", line 21, in do_GET\n",
      "    else: result.writeNotFound()\n",
      "          ^^^^^^^^^^^^^^^^^^^^\n",
      "AttributeError: 'SplitResult' object has no attribute 'writeNotFound'\n",
      "----------------------------------------\n"
     ]
    },
    {
     "name": "stdout",
     "output_type": "stream",
     "text": [
      "/meas_one_light\n"
     ]
    },
    {
     "name": "stderr",
     "output_type": "stream",
     "text": [
      "127.0.0.1 - - [20/Dec/2023 10:46:34] \"GET /meas_one_light HTTP/1.1\" 200 -\n"
     ]
    },
    {
     "name": "stdout",
     "output_type": "stream",
     "text": [
      "/favicon.ico\n"
     ]
    },
    {
     "name": "stderr",
     "output_type": "stream",
     "text": [
      "----------------------------------------\n",
      "Exception occurred during processing of request from ('127.0.0.1', 55221)\n",
      "Traceback (most recent call last):\n",
      "  File \"C:\\Users\\user\\AppData\\Local\\Programs\\Python\\Python311\\Lib\\socketserver.py\", line 317, in _handle_request_noblock\n",
      "    self.process_request(request, client_address)\n",
      "  File \"C:\\Users\\user\\AppData\\Local\\Programs\\Python\\Python311\\Lib\\socketserver.py\", line 348, in process_request\n",
      "    self.finish_request(request, client_address)\n",
      "  File \"C:\\Users\\user\\AppData\\Local\\Programs\\Python\\Python311\\Lib\\socketserver.py\", line 361, in finish_request\n",
      "    self.RequestHandlerClass(request, client_address, self)\n",
      "  File \"C:\\Users\\user\\AppData\\Local\\Programs\\Python\\Python311\\Lib\\http\\server.py\", line 667, in __init__\n",
      "    super().__init__(*args, **kwargs)\n",
      "  File \"C:\\Users\\user\\AppData\\Local\\Programs\\Python\\Python311\\Lib\\socketserver.py\", line 755, in __init__\n",
      "    self.handle()\n",
      "  File \"C:\\Users\\user\\AppData\\Local\\Programs\\Python\\Python311\\Lib\\http\\server.py\", line 432, in handle\n",
      "    self.handle_one_request()\n",
      "  File \"C:\\Users\\user\\AppData\\Local\\Programs\\Python\\Python311\\Lib\\http\\server.py\", line 420, in handle_one_request\n",
      "    method()\n",
      "  File \"C:\\Users\\user\\Desktop\\Python_2023_2-master\\HubRequestHandler.py\", line 21, in do_GET\n",
      "    else: result.writeNotFound()\n",
      "          ^^^^^^^^^^^^^^^^^^^^\n",
      "AttributeError: 'SplitResult' object has no attribute 'writeNotFound'\n",
      "----------------------------------------\n"
     ]
    },
    {
     "name": "stdout",
     "output_type": "stream",
     "text": [
      "/favicon.ico\n"
     ]
    },
    {
     "name": "stderr",
     "output_type": "stream",
     "text": [
      "----------------------------------------\n",
      "Exception occurred during processing of request from ('127.0.0.1', 55228)\n",
      "Traceback (most recent call last):\n",
      "  File \"C:\\Users\\user\\AppData\\Local\\Programs\\Python\\Python311\\Lib\\socketserver.py\", line 317, in _handle_request_noblock\n",
      "    self.process_request(request, client_address)\n",
      "  File \"C:\\Users\\user\\AppData\\Local\\Programs\\Python\\Python311\\Lib\\socketserver.py\", line 348, in process_request\n",
      "    self.finish_request(request, client_address)\n",
      "  File \"C:\\Users\\user\\AppData\\Local\\Programs\\Python\\Python311\\Lib\\socketserver.py\", line 361, in finish_request\n",
      "    self.RequestHandlerClass(request, client_address, self)\n",
      "  File \"C:\\Users\\user\\AppData\\Local\\Programs\\Python\\Python311\\Lib\\http\\server.py\", line 667, in __init__\n",
      "    super().__init__(*args, **kwargs)\n",
      "  File \"C:\\Users\\user\\AppData\\Local\\Programs\\Python\\Python311\\Lib\\socketserver.py\", line 755, in __init__\n",
      "    self.handle()\n",
      "  File \"C:\\Users\\user\\AppData\\Local\\Programs\\Python\\Python311\\Lib\\http\\server.py\", line 432, in handle\n",
      "    self.handle_one_request()\n",
      "  File \"C:\\Users\\user\\AppData\\Local\\Programs\\Python\\Python311\\Lib\\http\\server.py\", line 420, in handle_one_request\n",
      "    method()\n",
      "  File \"C:\\Users\\user\\Desktop\\Python_2023_2-master\\HubRequestHandler.py\", line 21, in do_GET\n",
      "    else: result.writeNotFound()\n",
      "          ^^^^^^^^^^^^^^^^^^^^\n",
      "AttributeError: 'SplitResult' object has no attribute 'writeNotFound'\n",
      "----------------------------------------\n"
     ]
    },
    {
     "name": "stdout",
     "output_type": "stream",
     "text": [
      "/favicon.ico\n"
     ]
    },
    {
     "name": "stderr",
     "output_type": "stream",
     "text": [
      "----------------------------------------\n",
      "Exception occurred during processing of request from ('127.0.0.1', 55229)\n",
      "Traceback (most recent call last):\n",
      "  File \"C:\\Users\\user\\AppData\\Local\\Programs\\Python\\Python311\\Lib\\socketserver.py\", line 317, in _handle_request_noblock\n",
      "    self.process_request(request, client_address)\n",
      "  File \"C:\\Users\\user\\AppData\\Local\\Programs\\Python\\Python311\\Lib\\socketserver.py\", line 348, in process_request\n",
      "    self.finish_request(request, client_address)\n",
      "  File \"C:\\Users\\user\\AppData\\Local\\Programs\\Python\\Python311\\Lib\\socketserver.py\", line 361, in finish_request\n",
      "    self.RequestHandlerClass(request, client_address, self)\n",
      "  File \"C:\\Users\\user\\AppData\\Local\\Programs\\Python\\Python311\\Lib\\http\\server.py\", line 667, in __init__\n",
      "    super().__init__(*args, **kwargs)\n",
      "  File \"C:\\Users\\user\\AppData\\Local\\Programs\\Python\\Python311\\Lib\\socketserver.py\", line 755, in __init__\n",
      "    self.handle()\n",
      "  File \"C:\\Users\\user\\AppData\\Local\\Programs\\Python\\Python311\\Lib\\http\\server.py\", line 432, in handle\n",
      "    self.handle_one_request()\n",
      "  File \"C:\\Users\\user\\AppData\\Local\\Programs\\Python\\Python311\\Lib\\http\\server.py\", line 420, in handle_one_request\n",
      "    method()\n",
      "  File \"C:\\Users\\user\\Desktop\\Python_2023_2-master\\HubRequestHandler.py\", line 21, in do_GET\n",
      "    else: result.writeNotFound()\n",
      "          ^^^^^^^^^^^^^^^^^^^^\n",
      "AttributeError: 'SplitResult' object has no attribute 'writeNotFound'\n",
      "----------------------------------------\n"
     ]
    },
    {
     "name": "stdout",
     "output_type": "stream",
     "text": [
      "/favicon.ico\n"
     ]
    },
    {
     "name": "stderr",
     "output_type": "stream",
     "text": [
      "----------------------------------------\n",
      "Exception occurred during processing of request from ('127.0.0.1', 55256)\n",
      "Traceback (most recent call last):\n",
      "  File \"C:\\Users\\user\\AppData\\Local\\Programs\\Python\\Python311\\Lib\\socketserver.py\", line 317, in _handle_request_noblock\n",
      "    self.process_request(request, client_address)\n",
      "  File \"C:\\Users\\user\\AppData\\Local\\Programs\\Python\\Python311\\Lib\\socketserver.py\", line 348, in process_request\n",
      "    self.finish_request(request, client_address)\n",
      "  File \"C:\\Users\\user\\AppData\\Local\\Programs\\Python\\Python311\\Lib\\socketserver.py\", line 361, in finish_request\n",
      "    self.RequestHandlerClass(request, client_address, self)\n",
      "  File \"C:\\Users\\user\\AppData\\Local\\Programs\\Python\\Python311\\Lib\\http\\server.py\", line 667, in __init__\n",
      "    super().__init__(*args, **kwargs)\n",
      "  File \"C:\\Users\\user\\AppData\\Local\\Programs\\Python\\Python311\\Lib\\socketserver.py\", line 755, in __init__\n",
      "    self.handle()\n",
      "  File \"C:\\Users\\user\\AppData\\Local\\Programs\\Python\\Python311\\Lib\\http\\server.py\", line 432, in handle\n",
      "    self.handle_one_request()\n",
      "  File \"C:\\Users\\user\\AppData\\Local\\Programs\\Python\\Python311\\Lib\\http\\server.py\", line 420, in handle_one_request\n",
      "    method()\n",
      "  File \"C:\\Users\\user\\Desktop\\Python_2023_2-master\\HubRequestHandler.py\", line 21, in do_GET\n",
      "    else: result.writeNotFound()\n",
      "          ^^^^^^^^^^^^^^^^^^^^\n",
      "AttributeError: 'SplitResult' object has no attribute 'writeNotFound'\n",
      "----------------------------------------\n"
     ]
    },
    {
     "name": "stdout",
     "output_type": "stream",
     "text": [
      "/meas_one_light\n"
     ]
    },
    {
     "name": "stderr",
     "output_type": "stream",
     "text": [
      "127.0.0.1 - - [20/Dec/2023 10:46:48] \"GET /meas_one_light HTTP/1.1\" 200 -\n"
     ]
    },
    {
     "name": "stdout",
     "output_type": "stream",
     "text": [
      "/favicon.ico\n",
      "/favicon.ico\n"
     ]
    },
    {
     "name": "stderr",
     "output_type": "stream",
     "text": [
      "----------------------------------------\n",
      "Exception occurred during processing of request from ('127.0.0.1', 55265)\n",
      "Traceback (most recent call last):\n",
      "  File \"C:\\Users\\user\\AppData\\Local\\Programs\\Python\\Python311\\Lib\\socketserver.py\", line 317, in _handle_request_noblock\n",
      "    self.process_request(request, client_address)\n",
      "  File \"C:\\Users\\user\\AppData\\Local\\Programs\\Python\\Python311\\Lib\\socketserver.py\", line 348, in process_request\n",
      "    self.finish_request(request, client_address)\n",
      "  File \"C:\\Users\\user\\AppData\\Local\\Programs\\Python\\Python311\\Lib\\socketserver.py\", line 361, in finish_request\n",
      "    self.RequestHandlerClass(request, client_address, self)\n",
      "  File \"C:\\Users\\user\\AppData\\Local\\Programs\\Python\\Python311\\Lib\\http\\server.py\", line 667, in __init__\n",
      "    super().__init__(*args, **kwargs)\n",
      "  File \"C:\\Users\\user\\AppData\\Local\\Programs\\Python\\Python311\\Lib\\socketserver.py\", line 755, in __init__\n",
      "    self.handle()\n",
      "  File \"C:\\Users\\user\\AppData\\Local\\Programs\\Python\\Python311\\Lib\\http\\server.py\", line 432, in handle\n",
      "    self.handle_one_request()\n",
      "  File \"C:\\Users\\user\\AppData\\Local\\Programs\\Python\\Python311\\Lib\\http\\server.py\", line 420, in handle_one_request\n",
      "    method()\n",
      "  File \"C:\\Users\\user\\Desktop\\Python_2023_2-master\\HubRequestHandler.py\", line 21, in do_GET\n",
      "    else: result.writeNotFound()\n",
      "          ^^^^^^^^^^^^^^^^^^^^\n",
      "AttributeError: 'SplitResult' object has no attribute 'writeNotFound'\n",
      "----------------------------------------\n",
      "----------------------------------------\n",
      "Exception occurred during processing of request from ('127.0.0.1', 55267)\n",
      "Traceback (most recent call last):\n",
      "  File \"C:\\Users\\user\\AppData\\Local\\Programs\\Python\\Python311\\Lib\\socketserver.py\", line 317, in _handle_request_noblock\n",
      "    self.process_request(request, client_address)\n",
      "  File \"C:\\Users\\user\\AppData\\Local\\Programs\\Python\\Python311\\Lib\\socketserver.py\", line 348, in process_request\n",
      "    self.finish_request(request, client_address)\n",
      "  File \"C:\\Users\\user\\AppData\\Local\\Programs\\Python\\Python311\\Lib\\socketserver.py\", line 361, in finish_request\n",
      "    self.RequestHandlerClass(request, client_address, self)\n",
      "  File \"C:\\Users\\user\\AppData\\Local\\Programs\\Python\\Python311\\Lib\\http\\server.py\", line 667, in __init__\n",
      "    super().__init__(*args, **kwargs)\n",
      "  File \"C:\\Users\\user\\AppData\\Local\\Programs\\Python\\Python311\\Lib\\socketserver.py\", line 755, in __init__\n",
      "    self.handle()\n",
      "  File \"C:\\Users\\user\\AppData\\Local\\Programs\\Python\\Python311\\Lib\\http\\server.py\", line 432, in handle\n",
      "    self.handle_one_request()\n",
      "  File \"C:\\Users\\user\\AppData\\Local\\Programs\\Python\\Python311\\Lib\\http\\server.py\", line 420, in handle_one_request\n",
      "    method()\n",
      "  File \"C:\\Users\\user\\Desktop\\Python_2023_2-master\\HubRequestHandler.py\", line 21, in do_GET\n",
      "    else: result.writeNotFound()\n",
      "          ^^^^^^^^^^^^^^^^^^^^\n",
      "AttributeError: 'SplitResult' object has no attribute 'writeNotFound'\n",
      "----------------------------------------\n"
     ]
    },
    {
     "name": "stdout",
     "output_type": "stream",
     "text": [
      "/favicon.ico\n"
     ]
    },
    {
     "name": "stderr",
     "output_type": "stream",
     "text": [
      "----------------------------------------\n",
      "Exception occurred during processing of request from ('127.0.0.1', 55273)\n",
      "Traceback (most recent call last):\n",
      "  File \"C:\\Users\\user\\AppData\\Local\\Programs\\Python\\Python311\\Lib\\socketserver.py\", line 317, in _handle_request_noblock\n",
      "    self.process_request(request, client_address)\n",
      "  File \"C:\\Users\\user\\AppData\\Local\\Programs\\Python\\Python311\\Lib\\socketserver.py\", line 348, in process_request\n",
      "    self.finish_request(request, client_address)\n",
      "  File \"C:\\Users\\user\\AppData\\Local\\Programs\\Python\\Python311\\Lib\\socketserver.py\", line 361, in finish_request\n",
      "    self.RequestHandlerClass(request, client_address, self)\n",
      "  File \"C:\\Users\\user\\AppData\\Local\\Programs\\Python\\Python311\\Lib\\http\\server.py\", line 667, in __init__\n",
      "    super().__init__(*args, **kwargs)\n",
      "  File \"C:\\Users\\user\\AppData\\Local\\Programs\\Python\\Python311\\Lib\\socketserver.py\", line 755, in __init__\n",
      "    self.handle()\n",
      "  File \"C:\\Users\\user\\AppData\\Local\\Programs\\Python\\Python311\\Lib\\http\\server.py\", line 432, in handle\n",
      "    self.handle_one_request()\n",
      "  File \"C:\\Users\\user\\AppData\\Local\\Programs\\Python\\Python311\\Lib\\http\\server.py\", line 420, in handle_one_request\n",
      "    method()\n",
      "  File \"C:\\Users\\user\\Desktop\\Python_2023_2-master\\HubRequestHandler.py\", line 21, in do_GET\n",
      "    else: result.writeNotFound()\n",
      "          ^^^^^^^^^^^^^^^^^^^^\n",
      "AttributeError: 'SplitResult' object has no attribute 'writeNotFound'\n",
      "----------------------------------------\n"
     ]
    },
    {
     "name": "stdout",
     "output_type": "stream",
     "text": [
      "/favicon.ico\n"
     ]
    },
    {
     "name": "stderr",
     "output_type": "stream",
     "text": [
      "----------------------------------------\n",
      "Exception occurred during processing of request from ('127.0.0.1', 55275)\n",
      "Traceback (most recent call last):\n",
      "  File \"C:\\Users\\user\\AppData\\Local\\Programs\\Python\\Python311\\Lib\\socketserver.py\", line 317, in _handle_request_noblock\n",
      "    self.process_request(request, client_address)\n",
      "  File \"C:\\Users\\user\\AppData\\Local\\Programs\\Python\\Python311\\Lib\\socketserver.py\", line 348, in process_request\n",
      "    self.finish_request(request, client_address)\n",
      "  File \"C:\\Users\\user\\AppData\\Local\\Programs\\Python\\Python311\\Lib\\socketserver.py\", line 361, in finish_request\n",
      "    self.RequestHandlerClass(request, client_address, self)\n",
      "  File \"C:\\Users\\user\\AppData\\Local\\Programs\\Python\\Python311\\Lib\\http\\server.py\", line 667, in __init__\n",
      "    super().__init__(*args, **kwargs)\n",
      "  File \"C:\\Users\\user\\AppData\\Local\\Programs\\Python\\Python311\\Lib\\socketserver.py\", line 755, in __init__\n",
      "    self.handle()\n",
      "  File \"C:\\Users\\user\\AppData\\Local\\Programs\\Python\\Python311\\Lib\\http\\server.py\", line 432, in handle\n",
      "    self.handle_one_request()\n",
      "  File \"C:\\Users\\user\\AppData\\Local\\Programs\\Python\\Python311\\Lib\\http\\server.py\", line 420, in handle_one_request\n",
      "    method()\n",
      "  File \"C:\\Users\\user\\Desktop\\Python_2023_2-master\\HubRequestHandler.py\", line 21, in do_GET\n",
      "    else: result.writeNotFound()\n",
      "          ^^^^^^^^^^^^^^^^^^^^\n",
      "AttributeError: 'SplitResult' object has no attribute 'writeNotFound'\n",
      "----------------------------------------\n"
     ]
    },
    {
     "name": "stdout",
     "output_type": "stream",
     "text": [
      "/favicon.ico\n"
     ]
    },
    {
     "name": "stderr",
     "output_type": "stream",
     "text": [
      "----------------------------------------\n",
      "Exception occurred during processing of request from ('127.0.0.1', 55304)\n",
      "Traceback (most recent call last):\n",
      "  File \"C:\\Users\\user\\AppData\\Local\\Programs\\Python\\Python311\\Lib\\socketserver.py\", line 317, in _handle_request_noblock\n",
      "    self.process_request(request, client_address)\n",
      "  File \"C:\\Users\\user\\AppData\\Local\\Programs\\Python\\Python311\\Lib\\socketserver.py\", line 348, in process_request\n",
      "    self.finish_request(request, client_address)\n",
      "  File \"C:\\Users\\user\\AppData\\Local\\Programs\\Python\\Python311\\Lib\\socketserver.py\", line 361, in finish_request\n",
      "    self.RequestHandlerClass(request, client_address, self)\n",
      "  File \"C:\\Users\\user\\AppData\\Local\\Programs\\Python\\Python311\\Lib\\http\\server.py\", line 667, in __init__\n",
      "    super().__init__(*args, **kwargs)\n",
      "  File \"C:\\Users\\user\\AppData\\Local\\Programs\\Python\\Python311\\Lib\\socketserver.py\", line 755, in __init__\n",
      "    self.handle()\n",
      "  File \"C:\\Users\\user\\AppData\\Local\\Programs\\Python\\Python311\\Lib\\http\\server.py\", line 432, in handle\n",
      "    self.handle_one_request()\n",
      "  File \"C:\\Users\\user\\AppData\\Local\\Programs\\Python\\Python311\\Lib\\http\\server.py\", line 420, in handle_one_request\n",
      "    method()\n",
      "  File \"C:\\Users\\user\\Desktop\\Python_2023_2-master\\HubRequestHandler.py\", line 21, in do_GET\n",
      "    else: result.writeNotFound()\n",
      "          ^^^^^^^^^^^^^^^^^^^^\n",
      "AttributeError: 'SplitResult' object has no attribute 'writeNotFound'\n",
      "----------------------------------------\n"
     ]
    },
    {
     "name": "stdout",
     "output_type": "stream",
     "text": [
      "/sample_light?count=3&delay=1\n"
     ]
    },
    {
     "name": "stderr",
     "output_type": "stream",
     "text": [
      "127.0.0.1 - - [20/Dec/2023 10:47:01] \"GET /sample_light?count=3&delay=1 HTTP/1.1\" 200 -\n"
     ]
    },
    {
     "name": "stdout",
     "output_type": "stream",
     "text": [
      "True\n",
      "True\n",
      "True\n",
      "/favicon.ico\n"
     ]
    },
    {
     "name": "stderr",
     "output_type": "stream",
     "text": [
      "----------------------------------------\n",
      "Exception occurred during processing of request from ('127.0.0.1', 55311)\n",
      "Traceback (most recent call last):\n",
      "  File \"C:\\Users\\user\\AppData\\Local\\Programs\\Python\\Python311\\Lib\\socketserver.py\", line 317, in _handle_request_noblock\n",
      "    self.process_request(request, client_address)\n",
      "  File \"C:\\Users\\user\\AppData\\Local\\Programs\\Python\\Python311\\Lib\\socketserver.py\", line 348, in process_request\n",
      "    self.finish_request(request, client_address)\n",
      "  File \"C:\\Users\\user\\AppData\\Local\\Programs\\Python\\Python311\\Lib\\socketserver.py\", line 361, in finish_request\n",
      "    self.RequestHandlerClass(request, client_address, self)\n",
      "  File \"C:\\Users\\user\\AppData\\Local\\Programs\\Python\\Python311\\Lib\\http\\server.py\", line 667, in __init__\n",
      "    super().__init__(*args, **kwargs)\n",
      "  File \"C:\\Users\\user\\AppData\\Local\\Programs\\Python\\Python311\\Lib\\socketserver.py\", line 755, in __init__\n",
      "    self.handle()\n",
      "  File \"C:\\Users\\user\\AppData\\Local\\Programs\\Python\\Python311\\Lib\\http\\server.py\", line 432, in handle\n",
      "    self.handle_one_request()\n",
      "  File \"C:\\Users\\user\\AppData\\Local\\Programs\\Python\\Python311\\Lib\\http\\server.py\", line 420, in handle_one_request\n",
      "    method()\n",
      "  File \"C:\\Users\\user\\Desktop\\Python_2023_2-master\\HubRequestHandler.py\", line 21, in do_GET\n",
      "    else: result.writeNotFound()\n",
      "          ^^^^^^^^^^^^^^^^^^^^\n",
      "AttributeError: 'SplitResult' object has no attribute 'writeNotFound'\n",
      "----------------------------------------\n"
     ]
    },
    {
     "name": "stdout",
     "output_type": "stream",
     "text": [
      "/favicon.ico\n"
     ]
    },
    {
     "name": "stderr",
     "output_type": "stream",
     "text": [
      "----------------------------------------\n",
      "Exception occurred during processing of request from ('127.0.0.1', 55321)\n",
      "Traceback (most recent call last):\n",
      "  File \"C:\\Users\\user\\AppData\\Local\\Programs\\Python\\Python311\\Lib\\socketserver.py\", line 317, in _handle_request_noblock\n",
      "    self.process_request(request, client_address)\n",
      "  File \"C:\\Users\\user\\AppData\\Local\\Programs\\Python\\Python311\\Lib\\socketserver.py\", line 348, in process_request\n",
      "    self.finish_request(request, client_address)\n",
      "  File \"C:\\Users\\user\\AppData\\Local\\Programs\\Python\\Python311\\Lib\\socketserver.py\", line 361, in finish_request\n",
      "    self.RequestHandlerClass(request, client_address, self)\n",
      "  File \"C:\\Users\\user\\AppData\\Local\\Programs\\Python\\Python311\\Lib\\http\\server.py\", line 667, in __init__\n",
      "    super().__init__(*args, **kwargs)\n",
      "  File \"C:\\Users\\user\\AppData\\Local\\Programs\\Python\\Python311\\Lib\\socketserver.py\", line 755, in __init__\n",
      "    self.handle()\n",
      "  File \"C:\\Users\\user\\AppData\\Local\\Programs\\Python\\Python311\\Lib\\http\\server.py\", line 432, in handle\n",
      "    self.handle_one_request()\n",
      "  File \"C:\\Users\\user\\AppData\\Local\\Programs\\Python\\Python311\\Lib\\http\\server.py\", line 420, in handle_one_request\n",
      "    method()\n",
      "  File \"C:\\Users\\user\\Desktop\\Python_2023_2-master\\HubRequestHandler.py\", line 21, in do_GET\n",
      "    else: result.writeNotFound()\n",
      "          ^^^^^^^^^^^^^^^^^^^^\n",
      "AttributeError: 'SplitResult' object has no attribute 'writeNotFound'\n",
      "----------------------------------------\n"
     ]
    },
    {
     "name": "stdout",
     "output_type": "stream",
     "text": [
      "/favicon.ico\n"
     ]
    },
    {
     "name": "stderr",
     "output_type": "stream",
     "text": [
      "----------------------------------------\n",
      "Exception occurred during processing of request from ('127.0.0.1', 55322)\n",
      "Traceback (most recent call last):\n",
      "  File \"C:\\Users\\user\\AppData\\Local\\Programs\\Python\\Python311\\Lib\\socketserver.py\", line 317, in _handle_request_noblock\n",
      "    self.process_request(request, client_address)\n",
      "  File \"C:\\Users\\user\\AppData\\Local\\Programs\\Python\\Python311\\Lib\\socketserver.py\", line 348, in process_request\n",
      "    self.finish_request(request, client_address)\n",
      "  File \"C:\\Users\\user\\AppData\\Local\\Programs\\Python\\Python311\\Lib\\socketserver.py\", line 361, in finish_request\n",
      "    self.RequestHandlerClass(request, client_address, self)\n",
      "  File \"C:\\Users\\user\\AppData\\Local\\Programs\\Python\\Python311\\Lib\\http\\server.py\", line 667, in __init__\n",
      "    super().__init__(*args, **kwargs)\n",
      "  File \"C:\\Users\\user\\AppData\\Local\\Programs\\Python\\Python311\\Lib\\socketserver.py\", line 755, in __init__\n",
      "    self.handle()\n",
      "  File \"C:\\Users\\user\\AppData\\Local\\Programs\\Python\\Python311\\Lib\\http\\server.py\", line 432, in handle\n",
      "    self.handle_one_request()\n",
      "  File \"C:\\Users\\user\\AppData\\Local\\Programs\\Python\\Python311\\Lib\\http\\server.py\", line 420, in handle_one_request\n",
      "    method()\n",
      "  File \"C:\\Users\\user\\Desktop\\Python_2023_2-master\\HubRequestHandler.py\", line 21, in do_GET\n",
      "    else: result.writeNotFound()\n",
      "          ^^^^^^^^^^^^^^^^^^^^\n",
      "AttributeError: 'SplitResult' object has no attribute 'writeNotFound'\n",
      "----------------------------------------\n"
     ]
    },
    {
     "name": "stdout",
     "output_type": "stream",
     "text": [
      "/favicon.ico\n"
     ]
    },
    {
     "name": "stderr",
     "output_type": "stream",
     "text": [
      "----------------------------------------\n",
      "Exception occurred during processing of request from ('127.0.0.1', 55354)\n",
      "Traceback (most recent call last):\n",
      "  File \"C:\\Users\\user\\AppData\\Local\\Programs\\Python\\Python311\\Lib\\socketserver.py\", line 317, in _handle_request_noblock\n",
      "    self.process_request(request, client_address)\n",
      "  File \"C:\\Users\\user\\AppData\\Local\\Programs\\Python\\Python311\\Lib\\socketserver.py\", line 348, in process_request\n",
      "    self.finish_request(request, client_address)\n",
      "  File \"C:\\Users\\user\\AppData\\Local\\Programs\\Python\\Python311\\Lib\\socketserver.py\", line 361, in finish_request\n",
      "    self.RequestHandlerClass(request, client_address, self)\n",
      "  File \"C:\\Users\\user\\AppData\\Local\\Programs\\Python\\Python311\\Lib\\http\\server.py\", line 667, in __init__\n",
      "    super().__init__(*args, **kwargs)\n",
      "  File \"C:\\Users\\user\\AppData\\Local\\Programs\\Python\\Python311\\Lib\\socketserver.py\", line 755, in __init__\n",
      "    self.handle()\n",
      "  File \"C:\\Users\\user\\AppData\\Local\\Programs\\Python\\Python311\\Lib\\http\\server.py\", line 432, in handle\n",
      "    self.handle_one_request()\n",
      "  File \"C:\\Users\\user\\AppData\\Local\\Programs\\Python\\Python311\\Lib\\http\\server.py\", line 420, in handle_one_request\n",
      "    method()\n",
      "  File \"C:\\Users\\user\\Desktop\\Python_2023_2-master\\HubRequestHandler.py\", line 21, in do_GET\n",
      "    else: result.writeNotFound()\n",
      "          ^^^^^^^^^^^^^^^^^^^^\n",
      "AttributeError: 'SplitResult' object has no attribute 'writeNotFound'\n",
      "----------------------------------------\n"
     ]
    },
    {
     "name": "stdout",
     "output_type": "stream",
     "text": [
      "/servo_move_0\n"
     ]
    },
    {
     "name": "stderr",
     "output_type": "stream",
     "text": [
      "127.0.0.1 - - [20/Dec/2023 10:47:23] \"GET /servo_move_0 HTTP/1.1\" 200 -\n"
     ]
    },
    {
     "name": "stdout",
     "output_type": "stream",
     "text": [
      "/favicon.ico\n"
     ]
    },
    {
     "name": "stderr",
     "output_type": "stream",
     "text": [
      "----------------------------------------\n",
      "Exception occurred during processing of request from ('127.0.0.1', 55361)\n",
      "Traceback (most recent call last):\n",
      "  File \"C:\\Users\\user\\AppData\\Local\\Programs\\Python\\Python311\\Lib\\socketserver.py\", line 317, in _handle_request_noblock\n",
      "    self.process_request(request, client_address)\n",
      "  File \"C:\\Users\\user\\AppData\\Local\\Programs\\Python\\Python311\\Lib\\socketserver.py\", line 348, in process_request\n",
      "    self.finish_request(request, client_address)\n",
      "  File \"C:\\Users\\user\\AppData\\Local\\Programs\\Python\\Python311\\Lib\\socketserver.py\", line 361, in finish_request\n",
      "    self.RequestHandlerClass(request, client_address, self)\n",
      "  File \"C:\\Users\\user\\AppData\\Local\\Programs\\Python\\Python311\\Lib\\http\\server.py\", line 667, in __init__\n",
      "    super().__init__(*args, **kwargs)\n",
      "  File \"C:\\Users\\user\\AppData\\Local\\Programs\\Python\\Python311\\Lib\\socketserver.py\", line 755, in __init__\n",
      "    self.handle()\n",
      "  File \"C:\\Users\\user\\AppData\\Local\\Programs\\Python\\Python311\\Lib\\http\\server.py\", line 432, in handle\n",
      "    self.handle_one_request()\n",
      "  File \"C:\\Users\\user\\AppData\\Local\\Programs\\Python\\Python311\\Lib\\http\\server.py\", line 420, in handle_one_request\n",
      "    method()\n",
      "  File \"C:\\Users\\user\\Desktop\\Python_2023_2-master\\HubRequestHandler.py\", line 21, in do_GET\n",
      "    else: result.writeNotFound()\n",
      "          ^^^^^^^^^^^^^^^^^^^^\n",
      "AttributeError: 'SplitResult' object has no attribute 'writeNotFound'\n",
      "----------------------------------------\n"
     ]
    },
    {
     "name": "stdout",
     "output_type": "stream",
     "text": [
      "/favicon.ico\n",
      "/favicon.ico\n"
     ]
    },
    {
     "name": "stderr",
     "output_type": "stream",
     "text": [
      "----------------------------------------\n",
      "Exception occurred during processing of request from ('127.0.0.1', 55362)\n",
      "Traceback (most recent call last):\n",
      "  File \"C:\\Users\\user\\AppData\\Local\\Programs\\Python\\Python311\\Lib\\socketserver.py\", line 317, in _handle_request_noblock\n",
      "    self.process_request(request, client_address)\n",
      "  File \"C:\\Users\\user\\AppData\\Local\\Programs\\Python\\Python311\\Lib\\socketserver.py\", line 348, in process_request\n",
      "    self.finish_request(request, client_address)\n",
      "  File \"C:\\Users\\user\\AppData\\Local\\Programs\\Python\\Python311\\Lib\\socketserver.py\", line 361, in finish_request\n",
      "    self.RequestHandlerClass(request, client_address, self)\n",
      "  File \"C:\\Users\\user\\AppData\\Local\\Programs\\Python\\Python311\\Lib\\http\\server.py\", line 667, in __init__\n",
      "    super().__init__(*args, **kwargs)\n",
      "  File \"C:\\Users\\user\\AppData\\Local\\Programs\\Python\\Python311\\Lib\\socketserver.py\", line 755, in __init__\n",
      "    self.handle()\n",
      "  File \"C:\\Users\\user\\AppData\\Local\\Programs\\Python\\Python311\\Lib\\http\\server.py\", line 432, in handle\n",
      "    self.handle_one_request()\n",
      "  File \"C:\\Users\\user\\AppData\\Local\\Programs\\Python\\Python311\\Lib\\http\\server.py\", line 420, in handle_one_request\n",
      "    method()\n",
      "  File \"C:\\Users\\user\\Desktop\\Python_2023_2-master\\HubRequestHandler.py\", line 21, in do_GET\n",
      "    else: result.writeNotFound()\n",
      "          ^^^^^^^^^^^^^^^^^^^^\n",
      "AttributeError: 'SplitResult' object has no attribute 'writeNotFound'\n",
      "----------------------------------------\n",
      "----------------------------------------\n",
      "Exception occurred during processing of request from ('127.0.0.1', 55363)\n",
      "Traceback (most recent call last):\n",
      "  File \"C:\\Users\\user\\AppData\\Local\\Programs\\Python\\Python311\\Lib\\socketserver.py\", line 317, in _handle_request_noblock\n",
      "    self.process_request(request, client_address)\n",
      "  File \"C:\\Users\\user\\AppData\\Local\\Programs\\Python\\Python311\\Lib\\socketserver.py\", line 348, in process_request\n",
      "    self.finish_request(request, client_address)\n",
      "  File \"C:\\Users\\user\\AppData\\Local\\Programs\\Python\\Python311\\Lib\\socketserver.py\", line 361, in finish_request\n",
      "    self.RequestHandlerClass(request, client_address, self)\n",
      "  File \"C:\\Users\\user\\AppData\\Local\\Programs\\Python\\Python311\\Lib\\http\\server.py\", line 667, in __init__\n",
      "    super().__init__(*args, **kwargs)\n",
      "  File \"C:\\Users\\user\\AppData\\Local\\Programs\\Python\\Python311\\Lib\\socketserver.py\", line 755, in __init__\n",
      "    self.handle()\n",
      "  File \"C:\\Users\\user\\AppData\\Local\\Programs\\Python\\Python311\\Lib\\http\\server.py\", line 432, in handle\n",
      "    self.handle_one_request()\n",
      "  File \"C:\\Users\\user\\AppData\\Local\\Programs\\Python\\Python311\\Lib\\http\\server.py\", line 420, in handle_one_request\n",
      "    method()\n",
      "  File \"C:\\Users\\user\\Desktop\\Python_2023_2-master\\HubRequestHandler.py\", line 21, in do_GET\n",
      "    else: result.writeNotFound()\n",
      "          ^^^^^^^^^^^^^^^^^^^^\n",
      "AttributeError: 'SplitResult' object has no attribute 'writeNotFound'\n",
      "----------------------------------------\n"
     ]
    },
    {
     "name": "stdout",
     "output_type": "stream",
     "text": [
      "/favicon.ico\n"
     ]
    },
    {
     "name": "stderr",
     "output_type": "stream",
     "text": [
      "----------------------------------------\n",
      "Exception occurred during processing of request from ('127.0.0.1', 55368)\n",
      "Traceback (most recent call last):\n",
      "  File \"C:\\Users\\user\\AppData\\Local\\Programs\\Python\\Python311\\Lib\\socketserver.py\", line 317, in _handle_request_noblock\n",
      "    self.process_request(request, client_address)\n",
      "  File \"C:\\Users\\user\\AppData\\Local\\Programs\\Python\\Python311\\Lib\\socketserver.py\", line 348, in process_request\n",
      "    self.finish_request(request, client_address)\n",
      "  File \"C:\\Users\\user\\AppData\\Local\\Programs\\Python\\Python311\\Lib\\socketserver.py\", line 361, in finish_request\n",
      "    self.RequestHandlerClass(request, client_address, self)\n",
      "  File \"C:\\Users\\user\\AppData\\Local\\Programs\\Python\\Python311\\Lib\\http\\server.py\", line 667, in __init__\n",
      "    super().__init__(*args, **kwargs)\n",
      "  File \"C:\\Users\\user\\AppData\\Local\\Programs\\Python\\Python311\\Lib\\socketserver.py\", line 755, in __init__\n",
      "    self.handle()\n",
      "  File \"C:\\Users\\user\\AppData\\Local\\Programs\\Python\\Python311\\Lib\\http\\server.py\", line 432, in handle\n",
      "    self.handle_one_request()\n",
      "  File \"C:\\Users\\user\\AppData\\Local\\Programs\\Python\\Python311\\Lib\\http\\server.py\", line 420, in handle_one_request\n",
      "    method()\n",
      "  File \"C:\\Users\\user\\Desktop\\Python_2023_2-master\\HubRequestHandler.py\", line 21, in do_GET\n",
      "    else: result.writeNotFound()\n",
      "          ^^^^^^^^^^^^^^^^^^^^\n",
      "AttributeError: 'SplitResult' object has no attribute 'writeNotFound'\n",
      "----------------------------------------\n"
     ]
    },
    {
     "name": "stdout",
     "output_type": "stream",
     "text": [
      "/servo_move_90\n"
     ]
    },
    {
     "name": "stderr",
     "output_type": "stream",
     "text": [
      "127.0.0.1 - - [20/Dec/2023 10:47:32] \"GET /servo_move_90 HTTP/1.1\" 200 -\n"
     ]
    },
    {
     "name": "stdout",
     "output_type": "stream",
     "text": [
      "/favicon.ico\n"
     ]
    },
    {
     "name": "stderr",
     "output_type": "stream",
     "text": [
      "----------------------------------------\n",
      "Exception occurred during processing of request from ('127.0.0.1', 55376)\n",
      "Traceback (most recent call last):\n",
      "  File \"C:\\Users\\user\\AppData\\Local\\Programs\\Python\\Python311\\Lib\\socketserver.py\", line 317, in _handle_request_noblock\n",
      "    self.process_request(request, client_address)\n",
      "  File \"C:\\Users\\user\\AppData\\Local\\Programs\\Python\\Python311\\Lib\\socketserver.py\", line 348, in process_request\n",
      "    self.finish_request(request, client_address)\n",
      "  File \"C:\\Users\\user\\AppData\\Local\\Programs\\Python\\Python311\\Lib\\socketserver.py\", line 361, in finish_request\n",
      "    self.RequestHandlerClass(request, client_address, self)\n",
      "  File \"C:\\Users\\user\\AppData\\Local\\Programs\\Python\\Python311\\Lib\\http\\server.py\", line 667, in __init__\n",
      "    super().__init__(*args, **kwargs)\n",
      "  File \"C:\\Users\\user\\AppData\\Local\\Programs\\Python\\Python311\\Lib\\socketserver.py\", line 755, in __init__\n",
      "    self.handle()\n",
      "  File \"C:\\Users\\user\\AppData\\Local\\Programs\\Python\\Python311\\Lib\\http\\server.py\", line 432, in handle\n",
      "    self.handle_one_request()\n",
      "  File \"C:\\Users\\user\\AppData\\Local\\Programs\\Python\\Python311\\Lib\\http\\server.py\", line 420, in handle_one_request\n",
      "    method()\n",
      "  File \"C:\\Users\\user\\Desktop\\Python_2023_2-master\\HubRequestHandler.py\", line 21, in do_GET\n",
      "    else: result.writeNotFound()\n",
      "          ^^^^^^^^^^^^^^^^^^^^\n",
      "AttributeError: 'SplitResult' object has no attribute 'writeNotFound'\n",
      "----------------------------------------\n"
     ]
    },
    {
     "name": "stdout",
     "output_type": "stream",
     "text": [
      "/favicon.ico\n",
      "/favicon.ico\n"
     ]
    },
    {
     "name": "stderr",
     "output_type": "stream",
     "text": [
      "----------------------------------------\n",
      "Exception occurred during processing of request from ('127.0.0.1', 55377)\n",
      "Traceback (most recent call last):\n",
      "  File \"C:\\Users\\user\\AppData\\Local\\Programs\\Python\\Python311\\Lib\\socketserver.py\", line 317, in _handle_request_noblock\n",
      "    self.process_request(request, client_address)\n",
      "  File \"C:\\Users\\user\\AppData\\Local\\Programs\\Python\\Python311\\Lib\\socketserver.py\", line 348, in process_request\n",
      "    self.finish_request(request, client_address)\n",
      "  File \"C:\\Users\\user\\AppData\\Local\\Programs\\Python\\Python311\\Lib\\socketserver.py\", line 361, in finish_request\n",
      "    self.RequestHandlerClass(request, client_address, self)\n",
      "  File \"C:\\Users\\user\\AppData\\Local\\Programs\\Python\\Python311\\Lib\\http\\server.py\", line 667, in __init__\n",
      "    super().__init__(*args, **kwargs)\n",
      "  File \"C:\\Users\\user\\AppData\\Local\\Programs\\Python\\Python311\\Lib\\socketserver.py\", line 755, in __init__\n",
      "    self.handle()\n",
      "  File \"C:\\Users\\user\\AppData\\Local\\Programs\\Python\\Python311\\Lib\\http\\server.py\", line 432, in handle\n",
      "    self.handle_one_request()\n",
      "  File \"C:\\Users\\user\\AppData\\Local\\Programs\\Python\\Python311\\Lib\\http\\server.py\", line 420, in handle_one_request\n",
      "    method()\n",
      "  File \"C:\\Users\\user\\Desktop\\Python_2023_2-master\\HubRequestHandler.py\", line 21, in do_GET\n",
      "    else: result.writeNotFound()\n",
      "          ^^^^^^^^^^^^^^^^^^^^\n",
      "AttributeError: 'SplitResult' object has no attribute 'writeNotFound'\n",
      "----------------------------------------\n",
      "----------------------------------------\n",
      "Exception occurred during processing of request from ('127.0.0.1', 55378)\n",
      "Traceback (most recent call last):\n",
      "  File \"C:\\Users\\user\\AppData\\Local\\Programs\\Python\\Python311\\Lib\\socketserver.py\", line 317, in _handle_request_noblock\n",
      "    self.process_request(request, client_address)\n",
      "  File \"C:\\Users\\user\\AppData\\Local\\Programs\\Python\\Python311\\Lib\\socketserver.py\", line 348, in process_request\n",
      "    self.finish_request(request, client_address)\n",
      "  File \"C:\\Users\\user\\AppData\\Local\\Programs\\Python\\Python311\\Lib\\socketserver.py\", line 361, in finish_request\n",
      "    self.RequestHandlerClass(request, client_address, self)\n",
      "  File \"C:\\Users\\user\\AppData\\Local\\Programs\\Python\\Python311\\Lib\\http\\server.py\", line 667, in __init__\n",
      "    super().__init__(*args, **kwargs)\n",
      "  File \"C:\\Users\\user\\AppData\\Local\\Programs\\Python\\Python311\\Lib\\socketserver.py\", line 755, in __init__\n",
      "    self.handle()\n",
      "  File \"C:\\Users\\user\\AppData\\Local\\Programs\\Python\\Python311\\Lib\\http\\server.py\", line 432, in handle\n",
      "    self.handle_one_request()\n",
      "  File \"C:\\Users\\user\\AppData\\Local\\Programs\\Python\\Python311\\Lib\\http\\server.py\", line 420, in handle_one_request\n",
      "    method()\n",
      "  File \"C:\\Users\\user\\Desktop\\Python_2023_2-master\\HubRequestHandler.py\", line 21, in do_GET\n",
      "    else: result.writeNotFound()\n",
      "          ^^^^^^^^^^^^^^^^^^^^\n",
      "AttributeError: 'SplitResult' object has no attribute 'writeNotFound'\n",
      "----------------------------------------\n"
     ]
    },
    {
     "name": "stdout",
     "output_type": "stream",
     "text": [
      "/favicon.ico\n"
     ]
    },
    {
     "name": "stderr",
     "output_type": "stream",
     "text": [
      "----------------------------------------\n",
      "Exception occurred during processing of request from ('127.0.0.1', 55382)\n",
      "Traceback (most recent call last):\n",
      "  File \"C:\\Users\\user\\AppData\\Local\\Programs\\Python\\Python311\\Lib\\socketserver.py\", line 317, in _handle_request_noblock\n",
      "    self.process_request(request, client_address)\n",
      "  File \"C:\\Users\\user\\AppData\\Local\\Programs\\Python\\Python311\\Lib\\socketserver.py\", line 348, in process_request\n",
      "    self.finish_request(request, client_address)\n",
      "  File \"C:\\Users\\user\\AppData\\Local\\Programs\\Python\\Python311\\Lib\\socketserver.py\", line 361, in finish_request\n",
      "    self.RequestHandlerClass(request, client_address, self)\n",
      "  File \"C:\\Users\\user\\AppData\\Local\\Programs\\Python\\Python311\\Lib\\http\\server.py\", line 667, in __init__\n",
      "    super().__init__(*args, **kwargs)\n",
      "  File \"C:\\Users\\user\\AppData\\Local\\Programs\\Python\\Python311\\Lib\\socketserver.py\", line 755, in __init__\n",
      "    self.handle()\n",
      "  File \"C:\\Users\\user\\AppData\\Local\\Programs\\Python\\Python311\\Lib\\http\\server.py\", line 432, in handle\n",
      "    self.handle_one_request()\n",
      "  File \"C:\\Users\\user\\AppData\\Local\\Programs\\Python\\Python311\\Lib\\http\\server.py\", line 420, in handle_one_request\n",
      "    method()\n",
      "  File \"C:\\Users\\user\\Desktop\\Python_2023_2-master\\HubRequestHandler.py\", line 21, in do_GET\n",
      "    else: result.writeNotFound()\n",
      "          ^^^^^^^^^^^^^^^^^^^^\n",
      "AttributeError: 'SplitResult' object has no attribute 'writeNotFound'\n",
      "----------------------------------------\n"
     ]
    },
    {
     "name": "stdout",
     "output_type": "stream",
     "text": [
      "/servo_move_180\n"
     ]
    },
    {
     "name": "stderr",
     "output_type": "stream",
     "text": [
      "127.0.0.1 - - [20/Dec/2023 10:47:35] \"GET /servo_move_180 HTTP/1.1\" 200 -\n"
     ]
    },
    {
     "name": "stdout",
     "output_type": "stream",
     "text": [
      "/favicon.ico\n"
     ]
    },
    {
     "name": "stderr",
     "output_type": "stream",
     "text": [
      "----------------------------------------\n",
      "Exception occurred during processing of request from ('127.0.0.1', 55387)\n",
      "Traceback (most recent call last):\n",
      "  File \"C:\\Users\\user\\AppData\\Local\\Programs\\Python\\Python311\\Lib\\socketserver.py\", line 317, in _handle_request_noblock\n",
      "    self.process_request(request, client_address)\n",
      "  File \"C:\\Users\\user\\AppData\\Local\\Programs\\Python\\Python311\\Lib\\socketserver.py\", line 348, in process_request\n",
      "    self.finish_request(request, client_address)\n",
      "  File \"C:\\Users\\user\\AppData\\Local\\Programs\\Python\\Python311\\Lib\\socketserver.py\", line 361, in finish_request\n",
      "    self.RequestHandlerClass(request, client_address, self)\n",
      "  File \"C:\\Users\\user\\AppData\\Local\\Programs\\Python\\Python311\\Lib\\http\\server.py\", line 667, in __init__\n",
      "    super().__init__(*args, **kwargs)\n",
      "  File \"C:\\Users\\user\\AppData\\Local\\Programs\\Python\\Python311\\Lib\\socketserver.py\", line 755, in __init__\n",
      "    self.handle()\n",
      "  File \"C:\\Users\\user\\AppData\\Local\\Programs\\Python\\Python311\\Lib\\http\\server.py\", line 432, in handle\n",
      "    self.handle_one_request()\n",
      "  File \"C:\\Users\\user\\AppData\\Local\\Programs\\Python\\Python311\\Lib\\http\\server.py\", line 420, in handle_one_request\n",
      "    method()\n",
      "  File \"C:\\Users\\user\\Desktop\\Python_2023_2-master\\HubRequestHandler.py\", line 21, in do_GET\n",
      "    else: result.writeNotFound()\n",
      "          ^^^^^^^^^^^^^^^^^^^^\n",
      "AttributeError: 'SplitResult' object has no attribute 'writeNotFound'\n",
      "----------------------------------------\n"
     ]
    },
    {
     "name": "stdout",
     "output_type": "stream",
     "text": [
      "/favicon.ico\n",
      "/favicon.ico\n"
     ]
    },
    {
     "name": "stderr",
     "output_type": "stream",
     "text": [
      "----------------------------------------\n",
      "Exception occurred during processing of request from ('127.0.0.1', 55388)\n",
      "Traceback (most recent call last):\n",
      "  File \"C:\\Users\\user\\AppData\\Local\\Programs\\Python\\Python311\\Lib\\socketserver.py\", line 317, in _handle_request_noblock\n",
      "    self.process_request(request, client_address)\n",
      "  File \"C:\\Users\\user\\AppData\\Local\\Programs\\Python\\Python311\\Lib\\socketserver.py\", line 348, in process_request\n",
      "    self.finish_request(request, client_address)\n",
      "  File \"C:\\Users\\user\\AppData\\Local\\Programs\\Python\\Python311\\Lib\\socketserver.py\", line 361, in finish_request\n",
      "    self.RequestHandlerClass(request, client_address, self)\n",
      "  File \"C:\\Users\\user\\AppData\\Local\\Programs\\Python\\Python311\\Lib\\http\\server.py\", line 667, in __init__\n",
      "    super().__init__(*args, **kwargs)\n",
      "  File \"C:\\Users\\user\\AppData\\Local\\Programs\\Python\\Python311\\Lib\\socketserver.py\", line 755, in __init__\n",
      "    self.handle()\n",
      "  File \"C:\\Users\\user\\AppData\\Local\\Programs\\Python\\Python311\\Lib\\http\\server.py\", line 432, in handle\n",
      "    self.handle_one_request()\n",
      "  File \"C:\\Users\\user\\AppData\\Local\\Programs\\Python\\Python311\\Lib\\http\\server.py\", line 420, in handle_one_request\n",
      "    method()\n",
      "  File \"C:\\Users\\user\\Desktop\\Python_2023_2-master\\HubRequestHandler.py\", line 21, in do_GET\n",
      "    else: result.writeNotFound()\n",
      "          ^^^^^^^^^^^^^^^^^^^^\n",
      "AttributeError: 'SplitResult' object has no attribute 'writeNotFound'\n",
      "----------------------------------------\n",
      "----------------------------------------\n",
      "Exception occurred during processing of request from ('127.0.0.1', 55390)\n",
      "Traceback (most recent call last):\n",
      "  File \"C:\\Users\\user\\AppData\\Local\\Programs\\Python\\Python311\\Lib\\socketserver.py\", line 317, in _handle_request_noblock\n",
      "    self.process_request(request, client_address)\n",
      "  File \"C:\\Users\\user\\AppData\\Local\\Programs\\Python\\Python311\\Lib\\socketserver.py\", line 348, in process_request\n",
      "    self.finish_request(request, client_address)\n",
      "  File \"C:\\Users\\user\\AppData\\Local\\Programs\\Python\\Python311\\Lib\\socketserver.py\", line 361, in finish_request\n",
      "    self.RequestHandlerClass(request, client_address, self)\n",
      "  File \"C:\\Users\\user\\AppData\\Local\\Programs\\Python\\Python311\\Lib\\http\\server.py\", line 667, in __init__\n",
      "    super().__init__(*args, **kwargs)\n",
      "  File \"C:\\Users\\user\\AppData\\Local\\Programs\\Python\\Python311\\Lib\\socketserver.py\", line 755, in __init__\n",
      "    self.handle()\n",
      "  File \"C:\\Users\\user\\AppData\\Local\\Programs\\Python\\Python311\\Lib\\http\\server.py\", line 432, in handle\n",
      "    self.handle_one_request()\n",
      "  File \"C:\\Users\\user\\AppData\\Local\\Programs\\Python\\Python311\\Lib\\http\\server.py\", line 420, in handle_one_request\n",
      "    method()\n",
      "  File \"C:\\Users\\user\\Desktop\\Python_2023_2-master\\HubRequestHandler.py\", line 21, in do_GET\n",
      "    else: result.writeNotFound()\n",
      "          ^^^^^^^^^^^^^^^^^^^^\n",
      "AttributeError: 'SplitResult' object has no attribute 'writeNotFound'\n",
      "----------------------------------------\n"
     ]
    },
    {
     "name": "stdout",
     "output_type": "stream",
     "text": [
      "/favicon.ico\n"
     ]
    },
    {
     "name": "stderr",
     "output_type": "stream",
     "text": [
      "----------------------------------------\n",
      "Exception occurred during processing of request from ('127.0.0.1', 55393)\n",
      "Traceback (most recent call last):\n",
      "  File \"C:\\Users\\user\\AppData\\Local\\Programs\\Python\\Python311\\Lib\\socketserver.py\", line 317, in _handle_request_noblock\n",
      "    self.process_request(request, client_address)\n",
      "  File \"C:\\Users\\user\\AppData\\Local\\Programs\\Python\\Python311\\Lib\\socketserver.py\", line 348, in process_request\n",
      "    self.finish_request(request, client_address)\n",
      "  File \"C:\\Users\\user\\AppData\\Local\\Programs\\Python\\Python311\\Lib\\socketserver.py\", line 361, in finish_request\n",
      "    self.RequestHandlerClass(request, client_address, self)\n",
      "  File \"C:\\Users\\user\\AppData\\Local\\Programs\\Python\\Python311\\Lib\\http\\server.py\", line 667, in __init__\n",
      "    super().__init__(*args, **kwargs)\n",
      "  File \"C:\\Users\\user\\AppData\\Local\\Programs\\Python\\Python311\\Lib\\socketserver.py\", line 755, in __init__\n",
      "    self.handle()\n",
      "  File \"C:\\Users\\user\\AppData\\Local\\Programs\\Python\\Python311\\Lib\\http\\server.py\", line 432, in handle\n",
      "    self.handle_one_request()\n",
      "  File \"C:\\Users\\user\\AppData\\Local\\Programs\\Python\\Python311\\Lib\\http\\server.py\", line 420, in handle_one_request\n",
      "    method()\n",
      "  File \"C:\\Users\\user\\Desktop\\Python_2023_2-master\\HubRequestHandler.py\", line 21, in do_GET\n",
      "    else: result.writeNotFound()\n",
      "          ^^^^^^^^^^^^^^^^^^^^\n",
      "AttributeError: 'SplitResult' object has no attribute 'writeNotFound'\n",
      "----------------------------------------\n"
     ]
    },
    {
     "name": "stdout",
     "output_type": "stream",
     "text": [
      "/servo_move?ang=18\n"
     ]
    },
    {
     "name": "stderr",
     "output_type": "stream",
     "text": [
      "127.0.0.1 - - [20/Dec/2023 10:47:41] \"GET /servo_move?ang=18 HTTP/1.1\" 200 -\n"
     ]
    },
    {
     "name": "stdout",
     "output_type": "stream",
     "text": [
      "/favicon.ico\n"
     ]
    },
    {
     "name": "stderr",
     "output_type": "stream",
     "text": [
      "----------------------------------------\n",
      "Exception occurred during processing of request from ('127.0.0.1', 55400)\n",
      "Traceback (most recent call last):\n",
      "  File \"C:\\Users\\user\\AppData\\Local\\Programs\\Python\\Python311\\Lib\\socketserver.py\", line 317, in _handle_request_noblock\n",
      "    self.process_request(request, client_address)\n",
      "  File \"C:\\Users\\user\\AppData\\Local\\Programs\\Python\\Python311\\Lib\\socketserver.py\", line 348, in process_request\n",
      "    self.finish_request(request, client_address)\n",
      "  File \"C:\\Users\\user\\AppData\\Local\\Programs\\Python\\Python311\\Lib\\socketserver.py\", line 361, in finish_request\n",
      "    self.RequestHandlerClass(request, client_address, self)\n",
      "  File \"C:\\Users\\user\\AppData\\Local\\Programs\\Python\\Python311\\Lib\\http\\server.py\", line 667, in __init__\n",
      "    super().__init__(*args, **kwargs)\n",
      "  File \"C:\\Users\\user\\AppData\\Local\\Programs\\Python\\Python311\\Lib\\socketserver.py\", line 755, in __init__\n",
      "    self.handle()\n",
      "  File \"C:\\Users\\user\\AppData\\Local\\Programs\\Python\\Python311\\Lib\\http\\server.py\", line 432, in handle\n",
      "    self.handle_one_request()\n",
      "  File \"C:\\Users\\user\\AppData\\Local\\Programs\\Python\\Python311\\Lib\\http\\server.py\", line 420, in handle_one_request\n",
      "    method()\n",
      "  File \"C:\\Users\\user\\Desktop\\Python_2023_2-master\\HubRequestHandler.py\", line 21, in do_GET\n",
      "    else: result.writeNotFound()\n",
      "          ^^^^^^^^^^^^^^^^^^^^\n",
      "AttributeError: 'SplitResult' object has no attribute 'writeNotFound'\n",
      "----------------------------------------\n"
     ]
    },
    {
     "name": "stdout",
     "output_type": "stream",
     "text": [
      "/favicon.ico\n",
      "/favicon.ico\n"
     ]
    },
    {
     "name": "stderr",
     "output_type": "stream",
     "text": [
      "----------------------------------------\n",
      "Exception occurred during processing of request from ('127.0.0.1', 55401)\n",
      "Traceback (most recent call last):\n",
      "  File \"C:\\Users\\user\\AppData\\Local\\Programs\\Python\\Python311\\Lib\\socketserver.py\", line 317, in _handle_request_noblock\n",
      "    self.process_request(request, client_address)\n",
      "  File \"C:\\Users\\user\\AppData\\Local\\Programs\\Python\\Python311\\Lib\\socketserver.py\", line 348, in process_request\n",
      "    self.finish_request(request, client_address)\n",
      "  File \"C:\\Users\\user\\AppData\\Local\\Programs\\Python\\Python311\\Lib\\socketserver.py\", line 361, in finish_request\n",
      "    self.RequestHandlerClass(request, client_address, self)\n",
      "  File \"C:\\Users\\user\\AppData\\Local\\Programs\\Python\\Python311\\Lib\\http\\server.py\", line 667, in __init__\n",
      "    super().__init__(*args, **kwargs)\n",
      "  File \"C:\\Users\\user\\AppData\\Local\\Programs\\Python\\Python311\\Lib\\socketserver.py\", line 755, in __init__\n",
      "    self.handle()\n",
      "  File \"C:\\Users\\user\\AppData\\Local\\Programs\\Python\\Python311\\Lib\\http\\server.py\", line 432, in handle\n",
      "    self.handle_one_request()\n",
      "  File \"C:\\Users\\user\\AppData\\Local\\Programs\\Python\\Python311\\Lib\\http\\server.py\", line 420, in handle_one_request\n",
      "    method()\n",
      "  File \"C:\\Users\\user\\Desktop\\Python_2023_2-master\\HubRequestHandler.py\", line 21, in do_GET\n",
      "    else: result.writeNotFound()\n",
      "          ^^^^^^^^^^^^^^^^^^^^\n",
      "AttributeError: 'SplitResult' object has no attribute 'writeNotFound'\n",
      "----------------------------------------\n",
      "----------------------------------------\n",
      "Exception occurred during processing of request from ('127.0.0.1', 55402)\n",
      "Traceback (most recent call last):\n",
      "  File \"C:\\Users\\user\\AppData\\Local\\Programs\\Python\\Python311\\Lib\\socketserver.py\", line 317, in _handle_request_noblock\n",
      "    self.process_request(request, client_address)\n",
      "  File \"C:\\Users\\user\\AppData\\Local\\Programs\\Python\\Python311\\Lib\\socketserver.py\", line 348, in process_request\n",
      "    self.finish_request(request, client_address)\n",
      "  File \"C:\\Users\\user\\AppData\\Local\\Programs\\Python\\Python311\\Lib\\socketserver.py\", line 361, in finish_request\n",
      "    self.RequestHandlerClass(request, client_address, self)\n",
      "  File \"C:\\Users\\user\\AppData\\Local\\Programs\\Python\\Python311\\Lib\\http\\server.py\", line 667, in __init__\n",
      "    super().__init__(*args, **kwargs)\n",
      "  File \"C:\\Users\\user\\AppData\\Local\\Programs\\Python\\Python311\\Lib\\socketserver.py\", line 755, in __init__\n",
      "    self.handle()\n",
      "  File \"C:\\Users\\user\\AppData\\Local\\Programs\\Python\\Python311\\Lib\\http\\server.py\", line 432, in handle\n",
      "    self.handle_one_request()\n",
      "  File \"C:\\Users\\user\\AppData\\Local\\Programs\\Python\\Python311\\Lib\\http\\server.py\", line 420, in handle_one_request\n",
      "    method()\n",
      "  File \"C:\\Users\\user\\Desktop\\Python_2023_2-master\\HubRequestHandler.py\", line 21, in do_GET\n",
      "    else: result.writeNotFound()\n",
      "          ^^^^^^^^^^^^^^^^^^^^\n",
      "AttributeError: 'SplitResult' object has no attribute 'writeNotFound'\n",
      "----------------------------------------\n"
     ]
    },
    {
     "name": "stdout",
     "output_type": "stream",
     "text": [
      "/favicon.ico\n"
     ]
    },
    {
     "name": "stderr",
     "output_type": "stream",
     "text": [
      "----------------------------------------\n",
      "Exception occurred during processing of request from ('127.0.0.1', 55406)\n",
      "Traceback (most recent call last):\n",
      "  File \"C:\\Users\\user\\AppData\\Local\\Programs\\Python\\Python311\\Lib\\socketserver.py\", line 317, in _handle_request_noblock\n",
      "    self.process_request(request, client_address)\n",
      "  File \"C:\\Users\\user\\AppData\\Local\\Programs\\Python\\Python311\\Lib\\socketserver.py\", line 348, in process_request\n",
      "    self.finish_request(request, client_address)\n",
      "  File \"C:\\Users\\user\\AppData\\Local\\Programs\\Python\\Python311\\Lib\\socketserver.py\", line 361, in finish_request\n",
      "    self.RequestHandlerClass(request, client_address, self)\n",
      "  File \"C:\\Users\\user\\AppData\\Local\\Programs\\Python\\Python311\\Lib\\http\\server.py\", line 667, in __init__\n",
      "    super().__init__(*args, **kwargs)\n",
      "  File \"C:\\Users\\user\\AppData\\Local\\Programs\\Python\\Python311\\Lib\\socketserver.py\", line 755, in __init__\n",
      "    self.handle()\n",
      "  File \"C:\\Users\\user\\AppData\\Local\\Programs\\Python\\Python311\\Lib\\http\\server.py\", line 432, in handle\n",
      "    self.handle_one_request()\n",
      "  File \"C:\\Users\\user\\AppData\\Local\\Programs\\Python\\Python311\\Lib\\http\\server.py\", line 420, in handle_one_request\n",
      "    method()\n",
      "  File \"C:\\Users\\user\\Desktop\\Python_2023_2-master\\HubRequestHandler.py\", line 21, in do_GET\n",
      "    else: result.writeNotFound()\n",
      "          ^^^^^^^^^^^^^^^^^^^^\n",
      "AttributeError: 'SplitResult' object has no attribute 'writeNotFound'\n",
      "----------------------------------------\n"
     ]
    },
    {
     "name": "stdout",
     "output_type": "stream",
     "text": [
      "/servo_move?ang=163\n"
     ]
    },
    {
     "name": "stderr",
     "output_type": "stream",
     "text": [
      "127.0.0.1 - - [20/Dec/2023 10:47:47] \"GET /servo_move?ang=163 HTTP/1.1\" 200 -\n"
     ]
    },
    {
     "name": "stdout",
     "output_type": "stream",
     "text": [
      "/favicon.ico\n"
     ]
    },
    {
     "name": "stderr",
     "output_type": "stream",
     "text": [
      "----------------------------------------\n",
      "Exception occurred during processing of request from ('127.0.0.1', 55414)\n",
      "Traceback (most recent call last):\n",
      "  File \"C:\\Users\\user\\AppData\\Local\\Programs\\Python\\Python311\\Lib\\socketserver.py\", line 317, in _handle_request_noblock\n",
      "    self.process_request(request, client_address)\n",
      "  File \"C:\\Users\\user\\AppData\\Local\\Programs\\Python\\Python311\\Lib\\socketserver.py\", line 348, in process_request\n",
      "    self.finish_request(request, client_address)\n",
      "  File \"C:\\Users\\user\\AppData\\Local\\Programs\\Python\\Python311\\Lib\\socketserver.py\", line 361, in finish_request\n",
      "    self.RequestHandlerClass(request, client_address, self)\n",
      "  File \"C:\\Users\\user\\AppData\\Local\\Programs\\Python\\Python311\\Lib\\http\\server.py\", line 667, in __init__\n",
      "    super().__init__(*args, **kwargs)\n",
      "  File \"C:\\Users\\user\\AppData\\Local\\Programs\\Python\\Python311\\Lib\\socketserver.py\", line 755, in __init__\n",
      "    self.handle()\n",
      "  File \"C:\\Users\\user\\AppData\\Local\\Programs\\Python\\Python311\\Lib\\http\\server.py\", line 432, in handle\n",
      "    self.handle_one_request()\n",
      "  File \"C:\\Users\\user\\AppData\\Local\\Programs\\Python\\Python311\\Lib\\http\\server.py\", line 420, in handle_one_request\n",
      "    method()\n",
      "  File \"C:\\Users\\user\\Desktop\\Python_2023_2-master\\HubRequestHandler.py\", line 21, in do_GET\n",
      "    else: result.writeNotFound()\n",
      "          ^^^^^^^^^^^^^^^^^^^^\n",
      "AttributeError: 'SplitResult' object has no attribute 'writeNotFound'\n",
      "----------------------------------------\n"
     ]
    },
    {
     "name": "stdout",
     "output_type": "stream",
     "text": [
      "/favicon.ico\n",
      "/favicon.ico\n"
     ]
    },
    {
     "name": "stderr",
     "output_type": "stream",
     "text": [
      "----------------------------------------\n",
      "Exception occurred during processing of request from ('127.0.0.1', 55415)\n",
      "Traceback (most recent call last):\n",
      "  File \"C:\\Users\\user\\AppData\\Local\\Programs\\Python\\Python311\\Lib\\socketserver.py\", line 317, in _handle_request_noblock\n",
      "    self.process_request(request, client_address)\n",
      "  File \"C:\\Users\\user\\AppData\\Local\\Programs\\Python\\Python311\\Lib\\socketserver.py\", line 348, in process_request\n",
      "    self.finish_request(request, client_address)\n",
      "  File \"C:\\Users\\user\\AppData\\Local\\Programs\\Python\\Python311\\Lib\\socketserver.py\", line 361, in finish_request\n",
      "    self.RequestHandlerClass(request, client_address, self)\n",
      "  File \"C:\\Users\\user\\AppData\\Local\\Programs\\Python\\Python311\\Lib\\http\\server.py\", line 667, in __init__\n",
      "    super().__init__(*args, **kwargs)\n",
      "  File \"C:\\Users\\user\\AppData\\Local\\Programs\\Python\\Python311\\Lib\\socketserver.py\", line 755, in __init__\n",
      "    self.handle()\n",
      "  File \"C:\\Users\\user\\AppData\\Local\\Programs\\Python\\Python311\\Lib\\http\\server.py\", line 432, in handle\n",
      "    self.handle_one_request()\n",
      "  File \"C:\\Users\\user\\AppData\\Local\\Programs\\Python\\Python311\\Lib\\http\\server.py\", line 420, in handle_one_request\n",
      "    method()\n",
      "  File \"C:\\Users\\user\\Desktop\\Python_2023_2-master\\HubRequestHandler.py\", line 21, in do_GET\n",
      "    else: result.writeNotFound()\n",
      "          ^^^^^^^^^^^^^^^^^^^^\n",
      "AttributeError: 'SplitResult' object has no attribute 'writeNotFound'\n",
      "----------------------------------------\n",
      "----------------------------------------\n",
      "Exception occurred during processing of request from ('127.0.0.1', 55416)\n",
      "Traceback (most recent call last):\n",
      "  File \"C:\\Users\\user\\AppData\\Local\\Programs\\Python\\Python311\\Lib\\socketserver.py\", line 317, in _handle_request_noblock\n",
      "    self.process_request(request, client_address)\n",
      "  File \"C:\\Users\\user\\AppData\\Local\\Programs\\Python\\Python311\\Lib\\socketserver.py\", line 348, in process_request\n",
      "    self.finish_request(request, client_address)\n",
      "  File \"C:\\Users\\user\\AppData\\Local\\Programs\\Python\\Python311\\Lib\\socketserver.py\", line 361, in finish_request\n",
      "    self.RequestHandlerClass(request, client_address, self)\n",
      "  File \"C:\\Users\\user\\AppData\\Local\\Programs\\Python\\Python311\\Lib\\http\\server.py\", line 667, in __init__\n",
      "    super().__init__(*args, **kwargs)\n",
      "  File \"C:\\Users\\user\\AppData\\Local\\Programs\\Python\\Python311\\Lib\\socketserver.py\", line 755, in __init__\n",
      "    self.handle()\n",
      "  File \"C:\\Users\\user\\AppData\\Local\\Programs\\Python\\Python311\\Lib\\http\\server.py\", line 432, in handle\n",
      "    self.handle_one_request()\n",
      "  File \"C:\\Users\\user\\AppData\\Local\\Programs\\Python\\Python311\\Lib\\http\\server.py\", line 420, in handle_one_request\n",
      "    method()\n",
      "  File \"C:\\Users\\user\\Desktop\\Python_2023_2-master\\HubRequestHandler.py\", line 21, in do_GET\n",
      "    else: result.writeNotFound()\n",
      "          ^^^^^^^^^^^^^^^^^^^^\n",
      "AttributeError: 'SplitResult' object has no attribute 'writeNotFound'\n",
      "----------------------------------------\n"
     ]
    },
    {
     "name": "stdout",
     "output_type": "stream",
     "text": [
      "/favicon.ico\n"
     ]
    },
    {
     "name": "stderr",
     "output_type": "stream",
     "text": [
      "----------------------------------------\n",
      "Exception occurred during processing of request from ('127.0.0.1', 55420)\n",
      "Traceback (most recent call last):\n",
      "  File \"C:\\Users\\user\\AppData\\Local\\Programs\\Python\\Python311\\Lib\\socketserver.py\", line 317, in _handle_request_noblock\n",
      "    self.process_request(request, client_address)\n",
      "  File \"C:\\Users\\user\\AppData\\Local\\Programs\\Python\\Python311\\Lib\\socketserver.py\", line 348, in process_request\n",
      "    self.finish_request(request, client_address)\n",
      "  File \"C:\\Users\\user\\AppData\\Local\\Programs\\Python\\Python311\\Lib\\socketserver.py\", line 361, in finish_request\n",
      "    self.RequestHandlerClass(request, client_address, self)\n",
      "  File \"C:\\Users\\user\\AppData\\Local\\Programs\\Python\\Python311\\Lib\\http\\server.py\", line 667, in __init__\n",
      "    super().__init__(*args, **kwargs)\n",
      "  File \"C:\\Users\\user\\AppData\\Local\\Programs\\Python\\Python311\\Lib\\socketserver.py\", line 755, in __init__\n",
      "    self.handle()\n",
      "  File \"C:\\Users\\user\\AppData\\Local\\Programs\\Python\\Python311\\Lib\\http\\server.py\", line 432, in handle\n",
      "    self.handle_one_request()\n",
      "  File \"C:\\Users\\user\\AppData\\Local\\Programs\\Python\\Python311\\Lib\\http\\server.py\", line 420, in handle_one_request\n",
      "    method()\n",
      "  File \"C:\\Users\\user\\Desktop\\Python_2023_2-master\\HubRequestHandler.py\", line 21, in do_GET\n",
      "    else: result.writeNotFound()\n",
      "          ^^^^^^^^^^^^^^^^^^^^\n",
      "AttributeError: 'SplitResult' object has no attribute 'writeNotFound'\n",
      "----------------------------------------\n"
     ]
    },
    {
     "name": "stdout",
     "output_type": "stream",
     "text": [
      "/led?color=red\n"
     ]
    },
    {
     "name": "stderr",
     "output_type": "stream",
     "text": [
      "127.0.0.1 - - [20/Dec/2023 10:47:55] \"GET /led?color=red HTTP/1.1\" 200 -\n"
     ]
    },
    {
     "name": "stdout",
     "output_type": "stream",
     "text": [
      "/favicon.ico\n"
     ]
    },
    {
     "name": "stderr",
     "output_type": "stream",
     "text": [
      "----------------------------------------\n",
      "Exception occurred during processing of request from ('127.0.0.1', 55427)\n",
      "Traceback (most recent call last):\n",
      "  File \"C:\\Users\\user\\AppData\\Local\\Programs\\Python\\Python311\\Lib\\socketserver.py\", line 317, in _handle_request_noblock\n",
      "    self.process_request(request, client_address)\n",
      "  File \"C:\\Users\\user\\AppData\\Local\\Programs\\Python\\Python311\\Lib\\socketserver.py\", line 348, in process_request\n",
      "    self.finish_request(request, client_address)\n",
      "  File \"C:\\Users\\user\\AppData\\Local\\Programs\\Python\\Python311\\Lib\\socketserver.py\", line 361, in finish_request\n",
      "    self.RequestHandlerClass(request, client_address, self)\n",
      "  File \"C:\\Users\\user\\AppData\\Local\\Programs\\Python\\Python311\\Lib\\http\\server.py\", line 667, in __init__\n",
      "    super().__init__(*args, **kwargs)\n",
      "  File \"C:\\Users\\user\\AppData\\Local\\Programs\\Python\\Python311\\Lib\\socketserver.py\", line 755, in __init__\n",
      "    self.handle()\n",
      "  File \"C:\\Users\\user\\AppData\\Local\\Programs\\Python\\Python311\\Lib\\http\\server.py\", line 432, in handle\n",
      "    self.handle_one_request()\n",
      "  File \"C:\\Users\\user\\AppData\\Local\\Programs\\Python\\Python311\\Lib\\http\\server.py\", line 420, in handle_one_request\n",
      "    method()\n",
      "  File \"C:\\Users\\user\\Desktop\\Python_2023_2-master\\HubRequestHandler.py\", line 21, in do_GET\n",
      "    else: result.writeNotFound()\n",
      "          ^^^^^^^^^^^^^^^^^^^^\n",
      "AttributeError: 'SplitResult' object has no attribute 'writeNotFound'\n",
      "----------------------------------------\n"
     ]
    },
    {
     "name": "stdout",
     "output_type": "stream",
     "text": [
      "/favicon.ico\n",
      "/favicon.ico\n"
     ]
    },
    {
     "name": "stderr",
     "output_type": "stream",
     "text": [
      "----------------------------------------\n",
      "Exception occurred during processing of request from ('127.0.0.1', 55428)\n",
      "Traceback (most recent call last):\n",
      "  File \"C:\\Users\\user\\AppData\\Local\\Programs\\Python\\Python311\\Lib\\socketserver.py\", line 317, in _handle_request_noblock\n",
      "    self.process_request(request, client_address)\n",
      "  File \"C:\\Users\\user\\AppData\\Local\\Programs\\Python\\Python311\\Lib\\socketserver.py\", line 348, in process_request\n",
      "    self.finish_request(request, client_address)\n",
      "  File \"C:\\Users\\user\\AppData\\Local\\Programs\\Python\\Python311\\Lib\\socketserver.py\", line 361, in finish_request\n",
      "    self.RequestHandlerClass(request, client_address, self)\n",
      "  File \"C:\\Users\\user\\AppData\\Local\\Programs\\Python\\Python311\\Lib\\http\\server.py\", line 667, in __init__\n",
      "    super().__init__(*args, **kwargs)\n",
      "  File \"C:\\Users\\user\\AppData\\Local\\Programs\\Python\\Python311\\Lib\\socketserver.py\", line 755, in __init__\n",
      "    self.handle()\n",
      "  File \"C:\\Users\\user\\AppData\\Local\\Programs\\Python\\Python311\\Lib\\http\\server.py\", line 432, in handle\n",
      "    self.handle_one_request()\n",
      "  File \"C:\\Users\\user\\AppData\\Local\\Programs\\Python\\Python311\\Lib\\http\\server.py\", line 420, in handle_one_request\n",
      "    method()\n",
      "  File \"C:\\Users\\user\\Desktop\\Python_2023_2-master\\HubRequestHandler.py\", line 21, in do_GET\n",
      "    else: result.writeNotFound()\n",
      "          ^^^^^^^^^^^^^^^^^^^^\n",
      "AttributeError: 'SplitResult' object has no attribute 'writeNotFound'\n",
      "----------------------------------------\n",
      "----------------------------------------\n",
      "Exception occurred during processing of request from ('127.0.0.1', 55429)\n",
      "Traceback (most recent call last):\n",
      "  File \"C:\\Users\\user\\AppData\\Local\\Programs\\Python\\Python311\\Lib\\socketserver.py\", line 317, in _handle_request_noblock\n",
      "    self.process_request(request, client_address)\n",
      "  File \"C:\\Users\\user\\AppData\\Local\\Programs\\Python\\Python311\\Lib\\socketserver.py\", line 348, in process_request\n",
      "    self.finish_request(request, client_address)\n",
      "  File \"C:\\Users\\user\\AppData\\Local\\Programs\\Python\\Python311\\Lib\\socketserver.py\", line 361, in finish_request\n",
      "    self.RequestHandlerClass(request, client_address, self)\n",
      "  File \"C:\\Users\\user\\AppData\\Local\\Programs\\Python\\Python311\\Lib\\http\\server.py\", line 667, in __init__\n",
      "    super().__init__(*args, **kwargs)\n",
      "  File \"C:\\Users\\user\\AppData\\Local\\Programs\\Python\\Python311\\Lib\\socketserver.py\", line 755, in __init__\n",
      "    self.handle()\n",
      "  File \"C:\\Users\\user\\AppData\\Local\\Programs\\Python\\Python311\\Lib\\http\\server.py\", line 432, in handle\n",
      "    self.handle_one_request()\n",
      "  File \"C:\\Users\\user\\AppData\\Local\\Programs\\Python\\Python311\\Lib\\http\\server.py\", line 420, in handle_one_request\n",
      "    method()\n",
      "  File \"C:\\Users\\user\\Desktop\\Python_2023_2-master\\HubRequestHandler.py\", line 21, in do_GET\n",
      "    else: result.writeNotFound()\n",
      "          ^^^^^^^^^^^^^^^^^^^^\n",
      "AttributeError: 'SplitResult' object has no attribute 'writeNotFound'\n",
      "----------------------------------------\n"
     ]
    },
    {
     "name": "stdout",
     "output_type": "stream",
     "text": [
      "/favicon.ico\n"
     ]
    },
    {
     "name": "stderr",
     "output_type": "stream",
     "text": [
      "----------------------------------------\n",
      "Exception occurred during processing of request from ('127.0.0.1', 55436)\n",
      "Traceback (most recent call last):\n",
      "  File \"C:\\Users\\user\\AppData\\Local\\Programs\\Python\\Python311\\Lib\\socketserver.py\", line 317, in _handle_request_noblock\n",
      "    self.process_request(request, client_address)\n",
      "  File \"C:\\Users\\user\\AppData\\Local\\Programs\\Python\\Python311\\Lib\\socketserver.py\", line 348, in process_request\n",
      "    self.finish_request(request, client_address)\n",
      "  File \"C:\\Users\\user\\AppData\\Local\\Programs\\Python\\Python311\\Lib\\socketserver.py\", line 361, in finish_request\n",
      "    self.RequestHandlerClass(request, client_address, self)\n",
      "  File \"C:\\Users\\user\\AppData\\Local\\Programs\\Python\\Python311\\Lib\\http\\server.py\", line 667, in __init__\n",
      "    super().__init__(*args, **kwargs)\n",
      "  File \"C:\\Users\\user\\AppData\\Local\\Programs\\Python\\Python311\\Lib\\socketserver.py\", line 755, in __init__\n",
      "    self.handle()\n",
      "  File \"C:\\Users\\user\\AppData\\Local\\Programs\\Python\\Python311\\Lib\\http\\server.py\", line 432, in handle\n",
      "    self.handle_one_request()\n",
      "  File \"C:\\Users\\user\\AppData\\Local\\Programs\\Python\\Python311\\Lib\\http\\server.py\", line 420, in handle_one_request\n",
      "    method()\n",
      "  File \"C:\\Users\\user\\Desktop\\Python_2023_2-master\\HubRequestHandler.py\", line 21, in do_GET\n",
      "    else: result.writeNotFound()\n",
      "          ^^^^^^^^^^^^^^^^^^^^\n",
      "AttributeError: 'SplitResult' object has no attribute 'writeNotFound'\n",
      "----------------------------------------\n"
     ]
    },
    {
     "name": "stdout",
     "output_type": "stream",
     "text": [
      "/led?color=red\n"
     ]
    },
    {
     "name": "stderr",
     "output_type": "stream",
     "text": [
      "127.0.0.1 - - [20/Dec/2023 10:48:05] \"GET /led?color=red HTTP/1.1\" 200 -\n"
     ]
    },
    {
     "name": "stdout",
     "output_type": "stream",
     "text": [
      "/favicon.ico\n"
     ]
    },
    {
     "name": "stderr",
     "output_type": "stream",
     "text": [
      "----------------------------------------\n",
      "Exception occurred during processing of request from ('127.0.0.1', 55443)\n",
      "Traceback (most recent call last):\n",
      "  File \"C:\\Users\\user\\AppData\\Local\\Programs\\Python\\Python311\\Lib\\socketserver.py\", line 317, in _handle_request_noblock\n",
      "    self.process_request(request, client_address)\n",
      "  File \"C:\\Users\\user\\AppData\\Local\\Programs\\Python\\Python311\\Lib\\socketserver.py\", line 348, in process_request\n",
      "    self.finish_request(request, client_address)\n",
      "  File \"C:\\Users\\user\\AppData\\Local\\Programs\\Python\\Python311\\Lib\\socketserver.py\", line 361, in finish_request\n",
      "    self.RequestHandlerClass(request, client_address, self)\n",
      "  File \"C:\\Users\\user\\AppData\\Local\\Programs\\Python\\Python311\\Lib\\http\\server.py\", line 667, in __init__\n",
      "    super().__init__(*args, **kwargs)\n",
      "  File \"C:\\Users\\user\\AppData\\Local\\Programs\\Python\\Python311\\Lib\\socketserver.py\", line 755, in __init__\n",
      "    self.handle()\n",
      "  File \"C:\\Users\\user\\AppData\\Local\\Programs\\Python\\Python311\\Lib\\http\\server.py\", line 432, in handle\n",
      "    self.handle_one_request()\n",
      "  File \"C:\\Users\\user\\AppData\\Local\\Programs\\Python\\Python311\\Lib\\http\\server.py\", line 420, in handle_one_request\n",
      "    method()\n",
      "  File \"C:\\Users\\user\\Desktop\\Python_2023_2-master\\HubRequestHandler.py\", line 21, in do_GET\n",
      "    else: result.writeNotFound()\n",
      "          ^^^^^^^^^^^^^^^^^^^^\n",
      "AttributeError: 'SplitResult' object has no attribute 'writeNotFound'\n",
      "----------------------------------------\n"
     ]
    },
    {
     "name": "stdout",
     "output_type": "stream",
     "text": [
      "/favicon.ico\n",
      "/favicon.ico\n"
     ]
    },
    {
     "name": "stderr",
     "output_type": "stream",
     "text": [
      "----------------------------------------\n",
      "Exception occurred during processing of request from ('127.0.0.1', 55444)\n",
      "Traceback (most recent call last):\n",
      "  File \"C:\\Users\\user\\AppData\\Local\\Programs\\Python\\Python311\\Lib\\socketserver.py\", line 317, in _handle_request_noblock\n",
      "    self.process_request(request, client_address)\n",
      "  File \"C:\\Users\\user\\AppData\\Local\\Programs\\Python\\Python311\\Lib\\socketserver.py\", line 348, in process_request\n",
      "    self.finish_request(request, client_address)\n",
      "  File \"C:\\Users\\user\\AppData\\Local\\Programs\\Python\\Python311\\Lib\\socketserver.py\", line 361, in finish_request\n",
      "    self.RequestHandlerClass(request, client_address, self)\n",
      "  File \"C:\\Users\\user\\AppData\\Local\\Programs\\Python\\Python311\\Lib\\http\\server.py\", line 667, in __init__\n",
      "    super().__init__(*args, **kwargs)\n",
      "  File \"C:\\Users\\user\\AppData\\Local\\Programs\\Python\\Python311\\Lib\\socketserver.py\", line 755, in __init__\n",
      "    self.handle()\n",
      "  File \"C:\\Users\\user\\AppData\\Local\\Programs\\Python\\Python311\\Lib\\http\\server.py\", line 432, in handle\n",
      "    self.handle_one_request()\n",
      "  File \"C:\\Users\\user\\AppData\\Local\\Programs\\Python\\Python311\\Lib\\http\\server.py\", line 420, in handle_one_request\n",
      "    method()\n",
      "  File \"C:\\Users\\user\\Desktop\\Python_2023_2-master\\HubRequestHandler.py\", line 21, in do_GET\n",
      "    else: result.writeNotFound()\n",
      "          ^^^^^^^^^^^^^^^^^^^^\n",
      "AttributeError: 'SplitResult' object has no attribute 'writeNotFound'\n",
      "----------------------------------------\n",
      "----------------------------------------\n",
      "Exception occurred during processing of request from ('127.0.0.1', 55445)\n",
      "Traceback (most recent call last):\n",
      "  File \"C:\\Users\\user\\AppData\\Local\\Programs\\Python\\Python311\\Lib\\socketserver.py\", line 317, in _handle_request_noblock\n",
      "    self.process_request(request, client_address)\n",
      "  File \"C:\\Users\\user\\AppData\\Local\\Programs\\Python\\Python311\\Lib\\socketserver.py\", line 348, in process_request\n",
      "    self.finish_request(request, client_address)\n",
      "  File \"C:\\Users\\user\\AppData\\Local\\Programs\\Python\\Python311\\Lib\\socketserver.py\", line 361, in finish_request\n",
      "    self.RequestHandlerClass(request, client_address, self)\n",
      "  File \"C:\\Users\\user\\AppData\\Local\\Programs\\Python\\Python311\\Lib\\http\\server.py\", line 667, in __init__\n",
      "    super().__init__(*args, **kwargs)\n",
      "  File \"C:\\Users\\user\\AppData\\Local\\Programs\\Python\\Python311\\Lib\\socketserver.py\", line 755, in __init__\n",
      "    self.handle()\n",
      "  File \"C:\\Users\\user\\AppData\\Local\\Programs\\Python\\Python311\\Lib\\http\\server.py\", line 432, in handle\n",
      "    self.handle_one_request()\n",
      "  File \"C:\\Users\\user\\AppData\\Local\\Programs\\Python\\Python311\\Lib\\http\\server.py\", line 420, in handle_one_request\n",
      "    method()\n",
      "  File \"C:\\Users\\user\\Desktop\\Python_2023_2-master\\HubRequestHandler.py\", line 21, in do_GET\n",
      "    else: result.writeNotFound()\n",
      "          ^^^^^^^^^^^^^^^^^^^^\n",
      "AttributeError: 'SplitResult' object has no attribute 'writeNotFound'\n",
      "----------------------------------------\n"
     ]
    },
    {
     "name": "stdout",
     "output_type": "stream",
     "text": [
      "/favicon.ico\n"
     ]
    },
    {
     "name": "stderr",
     "output_type": "stream",
     "text": [
      "----------------------------------------\n",
      "Exception occurred during processing of request from ('127.0.0.1', 55450)\n",
      "Traceback (most recent call last):\n",
      "  File \"C:\\Users\\user\\AppData\\Local\\Programs\\Python\\Python311\\Lib\\socketserver.py\", line 317, in _handle_request_noblock\n",
      "    self.process_request(request, client_address)\n",
      "  File \"C:\\Users\\user\\AppData\\Local\\Programs\\Python\\Python311\\Lib\\socketserver.py\", line 348, in process_request\n",
      "    self.finish_request(request, client_address)\n",
      "  File \"C:\\Users\\user\\AppData\\Local\\Programs\\Python\\Python311\\Lib\\socketserver.py\", line 361, in finish_request\n",
      "    self.RequestHandlerClass(request, client_address, self)\n",
      "  File \"C:\\Users\\user\\AppData\\Local\\Programs\\Python\\Python311\\Lib\\http\\server.py\", line 667, in __init__\n",
      "    super().__init__(*args, **kwargs)\n",
      "  File \"C:\\Users\\user\\AppData\\Local\\Programs\\Python\\Python311\\Lib\\socketserver.py\", line 755, in __init__\n",
      "    self.handle()\n",
      "  File \"C:\\Users\\user\\AppData\\Local\\Programs\\Python\\Python311\\Lib\\http\\server.py\", line 432, in handle\n",
      "    self.handle_one_request()\n",
      "  File \"C:\\Users\\user\\AppData\\Local\\Programs\\Python\\Python311\\Lib\\http\\server.py\", line 420, in handle_one_request\n",
      "    method()\n",
      "  File \"C:\\Users\\user\\Desktop\\Python_2023_2-master\\HubRequestHandler.py\", line 21, in do_GET\n",
      "    else: result.writeNotFound()\n",
      "          ^^^^^^^^^^^^^^^^^^^^\n",
      "AttributeError: 'SplitResult' object has no attribute 'writeNotFound'\n",
      "----------------------------------------\n"
     ]
    },
    {
     "name": "stdout",
     "output_type": "stream",
     "text": [
      "/led?color=green\n"
     ]
    },
    {
     "name": "stderr",
     "output_type": "stream",
     "text": [
      "127.0.0.1 - - [20/Dec/2023 10:48:12] \"GET /led?color=green HTTP/1.1\" 200 -\n"
     ]
    },
    {
     "name": "stdout",
     "output_type": "stream",
     "text": [
      "/favicon.ico\n"
     ]
    },
    {
     "name": "stderr",
     "output_type": "stream",
     "text": [
      "----------------------------------------\n",
      "Exception occurred during processing of request from ('127.0.0.1', 55457)\n",
      "Traceback (most recent call last):\n",
      "  File \"C:\\Users\\user\\AppData\\Local\\Programs\\Python\\Python311\\Lib\\socketserver.py\", line 317, in _handle_request_noblock\n",
      "    self.process_request(request, client_address)\n",
      "  File \"C:\\Users\\user\\AppData\\Local\\Programs\\Python\\Python311\\Lib\\socketserver.py\", line 348, in process_request\n",
      "    self.finish_request(request, client_address)\n",
      "  File \"C:\\Users\\user\\AppData\\Local\\Programs\\Python\\Python311\\Lib\\socketserver.py\", line 361, in finish_request\n",
      "    self.RequestHandlerClass(request, client_address, self)\n",
      "  File \"C:\\Users\\user\\AppData\\Local\\Programs\\Python\\Python311\\Lib\\http\\server.py\", line 667, in __init__\n",
      "    super().__init__(*args, **kwargs)\n",
      "  File \"C:\\Users\\user\\AppData\\Local\\Programs\\Python\\Python311\\Lib\\socketserver.py\", line 755, in __init__\n",
      "    self.handle()\n",
      "  File \"C:\\Users\\user\\AppData\\Local\\Programs\\Python\\Python311\\Lib\\http\\server.py\", line 432, in handle\n",
      "    self.handle_one_request()\n",
      "  File \"C:\\Users\\user\\AppData\\Local\\Programs\\Python\\Python311\\Lib\\http\\server.py\", line 420, in handle_one_request\n",
      "    method()\n",
      "  File \"C:\\Users\\user\\Desktop\\Python_2023_2-master\\HubRequestHandler.py\", line 21, in do_GET\n",
      "    else: result.writeNotFound()\n",
      "          ^^^^^^^^^^^^^^^^^^^^\n",
      "AttributeError: 'SplitResult' object has no attribute 'writeNotFound'\n",
      "----------------------------------------\n"
     ]
    },
    {
     "name": "stdout",
     "output_type": "stream",
     "text": [
      "/favicon.ico\n",
      "/favicon.ico\n"
     ]
    },
    {
     "name": "stderr",
     "output_type": "stream",
     "text": [
      "----------------------------------------\n",
      "Exception occurred during processing of request from ('127.0.0.1', 55458)\n",
      "Traceback (most recent call last):\n",
      "  File \"C:\\Users\\user\\AppData\\Local\\Programs\\Python\\Python311\\Lib\\socketserver.py\", line 317, in _handle_request_noblock\n",
      "    self.process_request(request, client_address)\n",
      "  File \"C:\\Users\\user\\AppData\\Local\\Programs\\Python\\Python311\\Lib\\socketserver.py\", line 348, in process_request\n",
      "    self.finish_request(request, client_address)\n",
      "  File \"C:\\Users\\user\\AppData\\Local\\Programs\\Python\\Python311\\Lib\\socketserver.py\", line 361, in finish_request\n",
      "    self.RequestHandlerClass(request, client_address, self)\n",
      "  File \"C:\\Users\\user\\AppData\\Local\\Programs\\Python\\Python311\\Lib\\http\\server.py\", line 667, in __init__\n",
      "    super().__init__(*args, **kwargs)\n",
      "  File \"C:\\Users\\user\\AppData\\Local\\Programs\\Python\\Python311\\Lib\\socketserver.py\", line 755, in __init__\n",
      "    self.handle()\n",
      "  File \"C:\\Users\\user\\AppData\\Local\\Programs\\Python\\Python311\\Lib\\http\\server.py\", line 432, in handle\n",
      "    self.handle_one_request()\n",
      "  File \"C:\\Users\\user\\AppData\\Local\\Programs\\Python\\Python311\\Lib\\http\\server.py\", line 420, in handle_one_request\n",
      "    method()\n",
      "  File \"C:\\Users\\user\\Desktop\\Python_2023_2-master\\HubRequestHandler.py\", line 21, in do_GET\n",
      "    else: result.writeNotFound()\n",
      "          ^^^^^^^^^^^^^^^^^^^^\n",
      "AttributeError: 'SplitResult' object has no attribute 'writeNotFound'\n",
      "----------------------------------------\n",
      "----------------------------------------\n",
      "Exception occurred during processing of request from ('127.0.0.1', 55459)\n",
      "Traceback (most recent call last):\n",
      "  File \"C:\\Users\\user\\AppData\\Local\\Programs\\Python\\Python311\\Lib\\socketserver.py\", line 317, in _handle_request_noblock\n",
      "    self.process_request(request, client_address)\n",
      "  File \"C:\\Users\\user\\AppData\\Local\\Programs\\Python\\Python311\\Lib\\socketserver.py\", line 348, in process_request\n",
      "    self.finish_request(request, client_address)\n",
      "  File \"C:\\Users\\user\\AppData\\Local\\Programs\\Python\\Python311\\Lib\\socketserver.py\", line 361, in finish_request\n",
      "    self.RequestHandlerClass(request, client_address, self)\n",
      "  File \"C:\\Users\\user\\AppData\\Local\\Programs\\Python\\Python311\\Lib\\http\\server.py\", line 667, in __init__\n",
      "    super().__init__(*args, **kwargs)\n",
      "  File \"C:\\Users\\user\\AppData\\Local\\Programs\\Python\\Python311\\Lib\\socketserver.py\", line 755, in __init__\n",
      "    self.handle()\n",
      "  File \"C:\\Users\\user\\AppData\\Local\\Programs\\Python\\Python311\\Lib\\http\\server.py\", line 432, in handle\n",
      "    self.handle_one_request()\n",
      "  File \"C:\\Users\\user\\AppData\\Local\\Programs\\Python\\Python311\\Lib\\http\\server.py\", line 420, in handle_one_request\n",
      "    method()\n",
      "  File \"C:\\Users\\user\\Desktop\\Python_2023_2-master\\HubRequestHandler.py\", line 21, in do_GET\n",
      "    else: result.writeNotFound()\n",
      "          ^^^^^^^^^^^^^^^^^^^^\n",
      "AttributeError: 'SplitResult' object has no attribute 'writeNotFound'\n",
      "----------------------------------------\n"
     ]
    },
    {
     "name": "stdout",
     "output_type": "stream",
     "text": [
      "/favicon.ico\n"
     ]
    },
    {
     "name": "stderr",
     "output_type": "stream",
     "text": [
      "----------------------------------------\n",
      "Exception occurred during processing of request from ('127.0.0.1', 55464)\n",
      "Traceback (most recent call last):\n",
      "  File \"C:\\Users\\user\\AppData\\Local\\Programs\\Python\\Python311\\Lib\\socketserver.py\", line 317, in _handle_request_noblock\n",
      "    self.process_request(request, client_address)\n",
      "  File \"C:\\Users\\user\\AppData\\Local\\Programs\\Python\\Python311\\Lib\\socketserver.py\", line 348, in process_request\n",
      "    self.finish_request(request, client_address)\n",
      "  File \"C:\\Users\\user\\AppData\\Local\\Programs\\Python\\Python311\\Lib\\socketserver.py\", line 361, in finish_request\n",
      "    self.RequestHandlerClass(request, client_address, self)\n",
      "  File \"C:\\Users\\user\\AppData\\Local\\Programs\\Python\\Python311\\Lib\\http\\server.py\", line 667, in __init__\n",
      "    super().__init__(*args, **kwargs)\n",
      "  File \"C:\\Users\\user\\AppData\\Local\\Programs\\Python\\Python311\\Lib\\socketserver.py\", line 755, in __init__\n",
      "    self.handle()\n",
      "  File \"C:\\Users\\user\\AppData\\Local\\Programs\\Python\\Python311\\Lib\\http\\server.py\", line 432, in handle\n",
      "    self.handle_one_request()\n",
      "  File \"C:\\Users\\user\\AppData\\Local\\Programs\\Python\\Python311\\Lib\\http\\server.py\", line 420, in handle_one_request\n",
      "    method()\n",
      "  File \"C:\\Users\\user\\Desktop\\Python_2023_2-master\\HubRequestHandler.py\", line 21, in do_GET\n",
      "    else: result.writeNotFound()\n",
      "          ^^^^^^^^^^^^^^^^^^^^\n",
      "AttributeError: 'SplitResult' object has no attribute 'writeNotFound'\n",
      "----------------------------------------\n"
     ]
    },
    {
     "name": "stdout",
     "output_type": "stream",
     "text": [
      "/led?color=blue\n"
     ]
    },
    {
     "name": "stderr",
     "output_type": "stream",
     "text": [
      "127.0.0.1 - - [20/Dec/2023 10:48:22] \"GET /led?color=blue HTTP/1.1\" 200 -\n"
     ]
    },
    {
     "name": "stdout",
     "output_type": "stream",
     "text": [
      "/favicon.ico\n"
     ]
    },
    {
     "name": "stderr",
     "output_type": "stream",
     "text": [
      "----------------------------------------\n",
      "Exception occurred during processing of request from ('127.0.0.1', 55473)\n",
      "Traceback (most recent call last):\n",
      "  File \"C:\\Users\\user\\AppData\\Local\\Programs\\Python\\Python311\\Lib\\socketserver.py\", line 317, in _handle_request_noblock\n",
      "    self.process_request(request, client_address)\n",
      "  File \"C:\\Users\\user\\AppData\\Local\\Programs\\Python\\Python311\\Lib\\socketserver.py\", line 348, in process_request\n",
      "    self.finish_request(request, client_address)\n",
      "  File \"C:\\Users\\user\\AppData\\Local\\Programs\\Python\\Python311\\Lib\\socketserver.py\", line 361, in finish_request\n",
      "    self.RequestHandlerClass(request, client_address, self)\n",
      "  File \"C:\\Users\\user\\AppData\\Local\\Programs\\Python\\Python311\\Lib\\http\\server.py\", line 667, in __init__\n",
      "    super().__init__(*args, **kwargs)\n",
      "  File \"C:\\Users\\user\\AppData\\Local\\Programs\\Python\\Python311\\Lib\\socketserver.py\", line 755, in __init__\n",
      "    self.handle()\n",
      "  File \"C:\\Users\\user\\AppData\\Local\\Programs\\Python\\Python311\\Lib\\http\\server.py\", line 432, in handle\n",
      "    self.handle_one_request()\n",
      "  File \"C:\\Users\\user\\AppData\\Local\\Programs\\Python\\Python311\\Lib\\http\\server.py\", line 420, in handle_one_request\n",
      "    method()\n",
      "  File \"C:\\Users\\user\\Desktop\\Python_2023_2-master\\HubRequestHandler.py\", line 21, in do_GET\n",
      "    else: result.writeNotFound()\n",
      "          ^^^^^^^^^^^^^^^^^^^^\n",
      "AttributeError: 'SplitResult' object has no attribute 'writeNotFound'\n",
      "----------------------------------------\n"
     ]
    },
    {
     "name": "stdout",
     "output_type": "stream",
     "text": [
      "/favicon.ico\n",
      "/favicon.ico\n"
     ]
    },
    {
     "name": "stderr",
     "output_type": "stream",
     "text": [
      "----------------------------------------\n",
      "Exception occurred during processing of request from ('127.0.0.1', 55474)\n",
      "Traceback (most recent call last):\n",
      "  File \"C:\\Users\\user\\AppData\\Local\\Programs\\Python\\Python311\\Lib\\socketserver.py\", line 317, in _handle_request_noblock\n",
      "    self.process_request(request, client_address)\n",
      "  File \"C:\\Users\\user\\AppData\\Local\\Programs\\Python\\Python311\\Lib\\socketserver.py\", line 348, in process_request\n",
      "    self.finish_request(request, client_address)\n",
      "  File \"C:\\Users\\user\\AppData\\Local\\Programs\\Python\\Python311\\Lib\\socketserver.py\", line 361, in finish_request\n",
      "    self.RequestHandlerClass(request, client_address, self)\n",
      "  File \"C:\\Users\\user\\AppData\\Local\\Programs\\Python\\Python311\\Lib\\http\\server.py\", line 667, in __init__\n",
      "    super().__init__(*args, **kwargs)\n",
      "  File \"C:\\Users\\user\\AppData\\Local\\Programs\\Python\\Python311\\Lib\\socketserver.py\", line 755, in __init__\n",
      "    self.handle()\n",
      "  File \"C:\\Users\\user\\AppData\\Local\\Programs\\Python\\Python311\\Lib\\http\\server.py\", line 432, in handle\n",
      "    self.handle_one_request()\n",
      "  File \"C:\\Users\\user\\AppData\\Local\\Programs\\Python\\Python311\\Lib\\http\\server.py\", line 420, in handle_one_request\n",
      "    method()\n",
      "  File \"C:\\Users\\user\\Desktop\\Python_2023_2-master\\HubRequestHandler.py\", line 21, in do_GET\n",
      "    else: result.writeNotFound()\n",
      "          ^^^^^^^^^^^^^^^^^^^^\n",
      "AttributeError: 'SplitResult' object has no attribute 'writeNotFound'\n",
      "----------------------------------------\n",
      "----------------------------------------\n",
      "Exception occurred during processing of request from ('127.0.0.1', 55475)\n",
      "Traceback (most recent call last):\n",
      "  File \"C:\\Users\\user\\AppData\\Local\\Programs\\Python\\Python311\\Lib\\socketserver.py\", line 317, in _handle_request_noblock\n",
      "    self.process_request(request, client_address)\n",
      "  File \"C:\\Users\\user\\AppData\\Local\\Programs\\Python\\Python311\\Lib\\socketserver.py\", line 348, in process_request\n",
      "    self.finish_request(request, client_address)\n",
      "  File \"C:\\Users\\user\\AppData\\Local\\Programs\\Python\\Python311\\Lib\\socketserver.py\", line 361, in finish_request\n",
      "    self.RequestHandlerClass(request, client_address, self)\n",
      "  File \"C:\\Users\\user\\AppData\\Local\\Programs\\Python\\Python311\\Lib\\http\\server.py\", line 667, in __init__\n",
      "    super().__init__(*args, **kwargs)\n",
      "  File \"C:\\Users\\user\\AppData\\Local\\Programs\\Python\\Python311\\Lib\\socketserver.py\", line 755, in __init__\n",
      "    self.handle()\n",
      "  File \"C:\\Users\\user\\AppData\\Local\\Programs\\Python\\Python311\\Lib\\http\\server.py\", line 432, in handle\n",
      "    self.handle_one_request()\n",
      "  File \"C:\\Users\\user\\AppData\\Local\\Programs\\Python\\Python311\\Lib\\http\\server.py\", line 420, in handle_one_request\n",
      "    method()\n",
      "  File \"C:\\Users\\user\\Desktop\\Python_2023_2-master\\HubRequestHandler.py\", line 21, in do_GET\n",
      "    else: result.writeNotFound()\n",
      "          ^^^^^^^^^^^^^^^^^^^^\n",
      "AttributeError: 'SplitResult' object has no attribute 'writeNotFound'\n",
      "----------------------------------------\n"
     ]
    },
    {
     "name": "stdout",
     "output_type": "stream",
     "text": [
      "/favicon.ico\n"
     ]
    },
    {
     "name": "stderr",
     "output_type": "stream",
     "text": [
      "----------------------------------------\n",
      "Exception occurred during processing of request from ('127.0.0.1', 55479)\n",
      "Traceback (most recent call last):\n",
      "  File \"C:\\Users\\user\\AppData\\Local\\Programs\\Python\\Python311\\Lib\\socketserver.py\", line 317, in _handle_request_noblock\n",
      "    self.process_request(request, client_address)\n",
      "  File \"C:\\Users\\user\\AppData\\Local\\Programs\\Python\\Python311\\Lib\\socketserver.py\", line 348, in process_request\n",
      "    self.finish_request(request, client_address)\n",
      "  File \"C:\\Users\\user\\AppData\\Local\\Programs\\Python\\Python311\\Lib\\socketserver.py\", line 361, in finish_request\n",
      "    self.RequestHandlerClass(request, client_address, self)\n",
      "  File \"C:\\Users\\user\\AppData\\Local\\Programs\\Python\\Python311\\Lib\\http\\server.py\", line 667, in __init__\n",
      "    super().__init__(*args, **kwargs)\n",
      "  File \"C:\\Users\\user\\AppData\\Local\\Programs\\Python\\Python311\\Lib\\socketserver.py\", line 755, in __init__\n",
      "    self.handle()\n",
      "  File \"C:\\Users\\user\\AppData\\Local\\Programs\\Python\\Python311\\Lib\\http\\server.py\", line 432, in handle\n",
      "    self.handle_one_request()\n",
      "  File \"C:\\Users\\user\\AppData\\Local\\Programs\\Python\\Python311\\Lib\\http\\server.py\", line 420, in handle_one_request\n",
      "    method()\n",
      "  File \"C:\\Users\\user\\Desktop\\Python_2023_2-master\\HubRequestHandler.py\", line 21, in do_GET\n",
      "    else: result.writeNotFound()\n",
      "          ^^^^^^^^^^^^^^^^^^^^\n",
      "AttributeError: 'SplitResult' object has no attribute 'writeNotFound'\n",
      "----------------------------------------\n"
     ]
    },
    {
     "name": "stdout",
     "output_type": "stream",
     "text": [
      "/led?color=yellow\n"
     ]
    },
    {
     "name": "stderr",
     "output_type": "stream",
     "text": [
      "127.0.0.1 - - [20/Dec/2023 10:48:29] \"GET /led?color=yellow HTTP/1.1\" 200 -\n"
     ]
    },
    {
     "name": "stdout",
     "output_type": "stream",
     "text": [
      "/favicon.ico\n"
     ]
    },
    {
     "name": "stderr",
     "output_type": "stream",
     "text": [
      "----------------------------------------\n",
      "Exception occurred during processing of request from ('127.0.0.1', 55484)\n",
      "Traceback (most recent call last):\n",
      "  File \"C:\\Users\\user\\AppData\\Local\\Programs\\Python\\Python311\\Lib\\socketserver.py\", line 317, in _handle_request_noblock\n",
      "    self.process_request(request, client_address)\n",
      "  File \"C:\\Users\\user\\AppData\\Local\\Programs\\Python\\Python311\\Lib\\socketserver.py\", line 348, in process_request\n",
      "    self.finish_request(request, client_address)\n",
      "  File \"C:\\Users\\user\\AppData\\Local\\Programs\\Python\\Python311\\Lib\\socketserver.py\", line 361, in finish_request\n",
      "    self.RequestHandlerClass(request, client_address, self)\n",
      "  File \"C:\\Users\\user\\AppData\\Local\\Programs\\Python\\Python311\\Lib\\http\\server.py\", line 667, in __init__\n",
      "    super().__init__(*args, **kwargs)\n",
      "  File \"C:\\Users\\user\\AppData\\Local\\Programs\\Python\\Python311\\Lib\\socketserver.py\", line 755, in __init__\n",
      "    self.handle()\n",
      "  File \"C:\\Users\\user\\AppData\\Local\\Programs\\Python\\Python311\\Lib\\http\\server.py\", line 432, in handle\n",
      "    self.handle_one_request()\n",
      "  File \"C:\\Users\\user\\AppData\\Local\\Programs\\Python\\Python311\\Lib\\http\\server.py\", line 420, in handle_one_request\n",
      "    method()\n",
      "  File \"C:\\Users\\user\\Desktop\\Python_2023_2-master\\HubRequestHandler.py\", line 21, in do_GET\n",
      "    else: result.writeNotFound()\n",
      "          ^^^^^^^^^^^^^^^^^^^^\n",
      "AttributeError: 'SplitResult' object has no attribute 'writeNotFound'\n",
      "----------------------------------------\n"
     ]
    },
    {
     "name": "stdout",
     "output_type": "stream",
     "text": [
      "/favicon.ico\n"
     ]
    },
    {
     "name": "stderr",
     "output_type": "stream",
     "text": [
      "----------------------------------------\n",
      "Exception occurred during processing of request from ('127.0.0.1', 55489)\n",
      "Traceback (most recent call last):\n",
      "  File \"C:\\Users\\user\\AppData\\Local\\Programs\\Python\\Python311\\Lib\\socketserver.py\", line 317, in _handle_request_noblock\n",
      "    self.process_request(request, client_address)\n",
      "  File \"C:\\Users\\user\\AppData\\Local\\Programs\\Python\\Python311\\Lib\\socketserver.py\", line 348, in process_request\n",
      "    self.finish_request(request, client_address)\n",
      "  File \"C:\\Users\\user\\AppData\\Local\\Programs\\Python\\Python311\\Lib\\socketserver.py\", line 361, in finish_request\n",
      "    self.RequestHandlerClass(request, client_address, self)\n",
      "  File \"C:\\Users\\user\\AppData\\Local\\Programs\\Python\\Python311\\Lib\\http\\server.py\", line 667, in __init__\n",
      "    super().__init__(*args, **kwargs)\n",
      "  File \"C:\\Users\\user\\AppData\\Local\\Programs\\Python\\Python311\\Lib\\socketserver.py\", line 755, in __init__\n",
      "    self.handle()\n",
      "  File \"C:\\Users\\user\\AppData\\Local\\Programs\\Python\\Python311\\Lib\\http\\server.py\", line 432, in handle\n",
      "    self.handle_one_request()\n",
      "  File \"C:\\Users\\user\\AppData\\Local\\Programs\\Python\\Python311\\Lib\\http\\server.py\", line 420, in handle_one_request\n",
      "    method()\n",
      "  File \"C:\\Users\\user\\Desktop\\Python_2023_2-master\\HubRequestHandler.py\", line 21, in do_GET\n",
      "    else: result.writeNotFound()\n",
      "          ^^^^^^^^^^^^^^^^^^^^\n",
      "AttributeError: 'SplitResult' object has no attribute 'writeNotFound'\n",
      "----------------------------------------\n"
     ]
    },
    {
     "name": "stdout",
     "output_type": "stream",
     "text": [
      "/led?color=cyan\n"
     ]
    },
    {
     "name": "stderr",
     "output_type": "stream",
     "text": [
      "127.0.0.1 - - [20/Dec/2023 10:48:36] \"GET /led?color=cyan HTTP/1.1\" 200 -\n"
     ]
    },
    {
     "name": "stdout",
     "output_type": "stream",
     "text": [
      "/favicon.ico\n"
     ]
    },
    {
     "name": "stderr",
     "output_type": "stream",
     "text": [
      "----------------------------------------\n",
      "Exception occurred during processing of request from ('127.0.0.1', 55495)\n",
      "Traceback (most recent call last):\n",
      "  File \"C:\\Users\\user\\AppData\\Local\\Programs\\Python\\Python311\\Lib\\socketserver.py\", line 317, in _handle_request_noblock\n",
      "    self.process_request(request, client_address)\n",
      "  File \"C:\\Users\\user\\AppData\\Local\\Programs\\Python\\Python311\\Lib\\socketserver.py\", line 348, in process_request\n",
      "    self.finish_request(request, client_address)\n",
      "  File \"C:\\Users\\user\\AppData\\Local\\Programs\\Python\\Python311\\Lib\\socketserver.py\", line 361, in finish_request\n",
      "    self.RequestHandlerClass(request, client_address, self)\n",
      "  File \"C:\\Users\\user\\AppData\\Local\\Programs\\Python\\Python311\\Lib\\http\\server.py\", line 667, in __init__\n",
      "    super().__init__(*args, **kwargs)\n",
      "  File \"C:\\Users\\user\\AppData\\Local\\Programs\\Python\\Python311\\Lib\\socketserver.py\", line 755, in __init__\n",
      "    self.handle()\n",
      "  File \"C:\\Users\\user\\AppData\\Local\\Programs\\Python\\Python311\\Lib\\http\\server.py\", line 432, in handle\n",
      "    self.handle_one_request()\n",
      "  File \"C:\\Users\\user\\AppData\\Local\\Programs\\Python\\Python311\\Lib\\http\\server.py\", line 420, in handle_one_request\n",
      "    method()\n",
      "  File \"C:\\Users\\user\\Desktop\\Python_2023_2-master\\HubRequestHandler.py\", line 21, in do_GET\n",
      "    else: result.writeNotFound()\n",
      "          ^^^^^^^^^^^^^^^^^^^^\n",
      "AttributeError: 'SplitResult' object has no attribute 'writeNotFound'\n",
      "----------------------------------------\n"
     ]
    },
    {
     "name": "stdout",
     "output_type": "stream",
     "text": [
      "/favicon.ico\n"
     ]
    },
    {
     "name": "stderr",
     "output_type": "stream",
     "text": [
      "----------------------------------------\n",
      "Exception occurred during processing of request from ('127.0.0.1', 55499)\n",
      "Traceback (most recent call last):\n",
      "  File \"C:\\Users\\user\\AppData\\Local\\Programs\\Python\\Python311\\Lib\\socketserver.py\", line 317, in _handle_request_noblock\n",
      "    self.process_request(request, client_address)\n",
      "  File \"C:\\Users\\user\\AppData\\Local\\Programs\\Python\\Python311\\Lib\\socketserver.py\", line 348, in process_request\n",
      "    self.finish_request(request, client_address)\n",
      "  File \"C:\\Users\\user\\AppData\\Local\\Programs\\Python\\Python311\\Lib\\socketserver.py\", line 361, in finish_request\n",
      "    self.RequestHandlerClass(request, client_address, self)\n",
      "  File \"C:\\Users\\user\\AppData\\Local\\Programs\\Python\\Python311\\Lib\\http\\server.py\", line 667, in __init__\n",
      "    super().__init__(*args, **kwargs)\n",
      "  File \"C:\\Users\\user\\AppData\\Local\\Programs\\Python\\Python311\\Lib\\socketserver.py\", line 755, in __init__\n",
      "    self.handle()\n",
      "  File \"C:\\Users\\user\\AppData\\Local\\Programs\\Python\\Python311\\Lib\\http\\server.py\", line 432, in handle\n",
      "    self.handle_one_request()\n",
      "  File \"C:\\Users\\user\\AppData\\Local\\Programs\\Python\\Python311\\Lib\\http\\server.py\", line 420, in handle_one_request\n",
      "    method()\n",
      "  File \"C:\\Users\\user\\Desktop\\Python_2023_2-master\\HubRequestHandler.py\", line 21, in do_GET\n",
      "    else: result.writeNotFound()\n",
      "          ^^^^^^^^^^^^^^^^^^^^\n",
      "AttributeError: 'SplitResult' object has no attribute 'writeNotFound'\n",
      "----------------------------------------\n"
     ]
    },
    {
     "name": "stdout",
     "output_type": "stream",
     "text": [
      "/led?color=white\n"
     ]
    },
    {
     "name": "stderr",
     "output_type": "stream",
     "text": [
      "127.0.0.1 - - [20/Dec/2023 10:48:42] \"GET /led?color=white HTTP/1.1\" 200 -\n"
     ]
    },
    {
     "name": "stdout",
     "output_type": "stream",
     "text": [
      "/favicon.ico\n"
     ]
    },
    {
     "name": "stderr",
     "output_type": "stream",
     "text": [
      "----------------------------------------\n",
      "Exception occurred during processing of request from ('127.0.0.1', 55506)\n",
      "Traceback (most recent call last):\n",
      "  File \"C:\\Users\\user\\AppData\\Local\\Programs\\Python\\Python311\\Lib\\socketserver.py\", line 317, in _handle_request_noblock\n",
      "    self.process_request(request, client_address)\n",
      "  File \"C:\\Users\\user\\AppData\\Local\\Programs\\Python\\Python311\\Lib\\socketserver.py\", line 348, in process_request\n",
      "    self.finish_request(request, client_address)\n",
      "  File \"C:\\Users\\user\\AppData\\Local\\Programs\\Python\\Python311\\Lib\\socketserver.py\", line 361, in finish_request\n",
      "    self.RequestHandlerClass(request, client_address, self)\n",
      "  File \"C:\\Users\\user\\AppData\\Local\\Programs\\Python\\Python311\\Lib\\http\\server.py\", line 667, in __init__\n",
      "    super().__init__(*args, **kwargs)\n",
      "  File \"C:\\Users\\user\\AppData\\Local\\Programs\\Python\\Python311\\Lib\\socketserver.py\", line 755, in __init__\n",
      "    self.handle()\n",
      "  File \"C:\\Users\\user\\AppData\\Local\\Programs\\Python\\Python311\\Lib\\http\\server.py\", line 432, in handle\n",
      "    self.handle_one_request()\n",
      "  File \"C:\\Users\\user\\AppData\\Local\\Programs\\Python\\Python311\\Lib\\http\\server.py\", line 420, in handle_one_request\n",
      "    method()\n",
      "  File \"C:\\Users\\user\\Desktop\\Python_2023_2-master\\HubRequestHandler.py\", line 21, in do_GET\n",
      "    else: result.writeNotFound()\n",
      "          ^^^^^^^^^^^^^^^^^^^^\n",
      "AttributeError: 'SplitResult' object has no attribute 'writeNotFound'\n",
      "----------------------------------------\n"
     ]
    },
    {
     "name": "stdout",
     "output_type": "stream",
     "text": [
      "/favicon.ico\n",
      "/favicon.ico\n"
     ]
    },
    {
     "name": "stderr",
     "output_type": "stream",
     "text": [
      "----------------------------------------\n",
      "Exception occurred during processing of request from ('127.0.0.1', 55507)\n",
      "Traceback (most recent call last):\n",
      "  File \"C:\\Users\\user\\AppData\\Local\\Programs\\Python\\Python311\\Lib\\socketserver.py\", line 317, in _handle_request_noblock\n",
      "    self.process_request(request, client_address)\n",
      "  File \"C:\\Users\\user\\AppData\\Local\\Programs\\Python\\Python311\\Lib\\socketserver.py\", line 348, in process_request\n",
      "    self.finish_request(request, client_address)\n",
      "  File \"C:\\Users\\user\\AppData\\Local\\Programs\\Python\\Python311\\Lib\\socketserver.py\", line 361, in finish_request\n",
      "    self.RequestHandlerClass(request, client_address, self)\n",
      "  File \"C:\\Users\\user\\AppData\\Local\\Programs\\Python\\Python311\\Lib\\http\\server.py\", line 667, in __init__\n",
      "    super().__init__(*args, **kwargs)\n",
      "  File \"C:\\Users\\user\\AppData\\Local\\Programs\\Python\\Python311\\Lib\\socketserver.py\", line 755, in __init__\n",
      "    self.handle()\n",
      "  File \"C:\\Users\\user\\AppData\\Local\\Programs\\Python\\Python311\\Lib\\http\\server.py\", line 432, in handle\n",
      "    self.handle_one_request()\n",
      "  File \"C:\\Users\\user\\AppData\\Local\\Programs\\Python\\Python311\\Lib\\http\\server.py\", line 420, in handle_one_request\n",
      "    method()\n",
      "  File \"C:\\Users\\user\\Desktop\\Python_2023_2-master\\HubRequestHandler.py\", line 21, in do_GET\n",
      "    else: result.writeNotFound()\n",
      "          ^^^^^^^^^^^^^^^^^^^^\n",
      "AttributeError: 'SplitResult' object has no attribute 'writeNotFound'\n",
      "----------------------------------------\n",
      "----------------------------------------\n",
      "Exception occurred during processing of request from ('127.0.0.1', 55508)\n",
      "Traceback (most recent call last):\n",
      "  File \"C:\\Users\\user\\AppData\\Local\\Programs\\Python\\Python311\\Lib\\socketserver.py\", line 317, in _handle_request_noblock\n",
      "    self.process_request(request, client_address)\n",
      "  File \"C:\\Users\\user\\AppData\\Local\\Programs\\Python\\Python311\\Lib\\socketserver.py\", line 348, in process_request\n",
      "    self.finish_request(request, client_address)\n",
      "  File \"C:\\Users\\user\\AppData\\Local\\Programs\\Python\\Python311\\Lib\\socketserver.py\", line 361, in finish_request\n",
      "    self.RequestHandlerClass(request, client_address, self)\n",
      "  File \"C:\\Users\\user\\AppData\\Local\\Programs\\Python\\Python311\\Lib\\http\\server.py\", line 667, in __init__\n",
      "    super().__init__(*args, **kwargs)\n",
      "  File \"C:\\Users\\user\\AppData\\Local\\Programs\\Python\\Python311\\Lib\\socketserver.py\", line 755, in __init__\n",
      "    self.handle()\n",
      "  File \"C:\\Users\\user\\AppData\\Local\\Programs\\Python\\Python311\\Lib\\http\\server.py\", line 432, in handle\n",
      "    self.handle_one_request()\n",
      "  File \"C:\\Users\\user\\AppData\\Local\\Programs\\Python\\Python311\\Lib\\http\\server.py\", line 420, in handle_one_request\n",
      "    method()\n",
      "  File \"C:\\Users\\user\\Desktop\\Python_2023_2-master\\HubRequestHandler.py\", line 21, in do_GET\n",
      "    else: result.writeNotFound()\n",
      "          ^^^^^^^^^^^^^^^^^^^^\n",
      "AttributeError: 'SplitResult' object has no attribute 'writeNotFound'\n",
      "----------------------------------------\n"
     ]
    },
    {
     "name": "stdout",
     "output_type": "stream",
     "text": [
      "/favicon.ico\n"
     ]
    },
    {
     "name": "stderr",
     "output_type": "stream",
     "text": [
      "----------------------------------------\n",
      "Exception occurred during processing of request from ('127.0.0.1', 55512)\n",
      "Traceback (most recent call last):\n",
      "  File \"C:\\Users\\user\\AppData\\Local\\Programs\\Python\\Python311\\Lib\\socketserver.py\", line 317, in _handle_request_noblock\n",
      "    self.process_request(request, client_address)\n",
      "  File \"C:\\Users\\user\\AppData\\Local\\Programs\\Python\\Python311\\Lib\\socketserver.py\", line 348, in process_request\n",
      "    self.finish_request(request, client_address)\n",
      "  File \"C:\\Users\\user\\AppData\\Local\\Programs\\Python\\Python311\\Lib\\socketserver.py\", line 361, in finish_request\n",
      "    self.RequestHandlerClass(request, client_address, self)\n",
      "  File \"C:\\Users\\user\\AppData\\Local\\Programs\\Python\\Python311\\Lib\\http\\server.py\", line 667, in __init__\n",
      "    super().__init__(*args, **kwargs)\n",
      "  File \"C:\\Users\\user\\AppData\\Local\\Programs\\Python\\Python311\\Lib\\socketserver.py\", line 755, in __init__\n",
      "    self.handle()\n",
      "  File \"C:\\Users\\user\\AppData\\Local\\Programs\\Python\\Python311\\Lib\\http\\server.py\", line 432, in handle\n",
      "    self.handle_one_request()\n",
      "  File \"C:\\Users\\user\\AppData\\Local\\Programs\\Python\\Python311\\Lib\\http\\server.py\", line 420, in handle_one_request\n",
      "    method()\n",
      "  File \"C:\\Users\\user\\Desktop\\Python_2023_2-master\\HubRequestHandler.py\", line 21, in do_GET\n",
      "    else: result.writeNotFound()\n",
      "          ^^^^^^^^^^^^^^^^^^^^\n",
      "AttributeError: 'SplitResult' object has no attribute 'writeNotFound'\n",
      "----------------------------------------\n"
     ]
    },
    {
     "name": "stdout",
     "output_type": "stream",
     "text": [
      "/buzzer?note=do&delay=1000\n"
     ]
    },
    {
     "name": "stderr",
     "output_type": "stream",
     "text": [
      "127.0.0.1 - - [20/Dec/2023 10:48:50] \"GET /buzzer?note=do&delay=1000 HTTP/1.1\" 200 -\n"
     ]
    },
    {
     "name": "stdout",
     "output_type": "stream",
     "text": [
      "/favicon.ico\n"
     ]
    },
    {
     "name": "stderr",
     "output_type": "stream",
     "text": [
      "----------------------------------------\n",
      "Exception occurred during processing of request from ('127.0.0.1', 55518)\n",
      "Traceback (most recent call last):\n",
      "  File \"C:\\Users\\user\\AppData\\Local\\Programs\\Python\\Python311\\Lib\\socketserver.py\", line 317, in _handle_request_noblock\n",
      "    self.process_request(request, client_address)\n",
      "  File \"C:\\Users\\user\\AppData\\Local\\Programs\\Python\\Python311\\Lib\\socketserver.py\", line 348, in process_request\n",
      "    self.finish_request(request, client_address)\n",
      "  File \"C:\\Users\\user\\AppData\\Local\\Programs\\Python\\Python311\\Lib\\socketserver.py\", line 361, in finish_request\n",
      "    self.RequestHandlerClass(request, client_address, self)\n",
      "  File \"C:\\Users\\user\\AppData\\Local\\Programs\\Python\\Python311\\Lib\\http\\server.py\", line 667, in __init__\n",
      "    super().__init__(*args, **kwargs)\n",
      "  File \"C:\\Users\\user\\AppData\\Local\\Programs\\Python\\Python311\\Lib\\socketserver.py\", line 755, in __init__\n",
      "    self.handle()\n",
      "  File \"C:\\Users\\user\\AppData\\Local\\Programs\\Python\\Python311\\Lib\\http\\server.py\", line 432, in handle\n",
      "    self.handle_one_request()\n",
      "  File \"C:\\Users\\user\\AppData\\Local\\Programs\\Python\\Python311\\Lib\\http\\server.py\", line 420, in handle_one_request\n",
      "    method()\n",
      "  File \"C:\\Users\\user\\Desktop\\Python_2023_2-master\\HubRequestHandler.py\", line 21, in do_GET\n",
      "    else: result.writeNotFound()\n",
      "          ^^^^^^^^^^^^^^^^^^^^\n",
      "AttributeError: 'SplitResult' object has no attribute 'writeNotFound'\n",
      "----------------------------------------\n"
     ]
    },
    {
     "name": "stdout",
     "output_type": "stream",
     "text": [
      "/favicon.ico\n"
     ]
    },
    {
     "name": "stderr",
     "output_type": "stream",
     "text": [
      "----------------------------------------\n",
      "Exception occurred during processing of request from ('127.0.0.1', 55523)\n",
      "Traceback (most recent call last):\n",
      "  File \"C:\\Users\\user\\AppData\\Local\\Programs\\Python\\Python311\\Lib\\socketserver.py\", line 317, in _handle_request_noblock\n",
      "    self.process_request(request, client_address)\n",
      "  File \"C:\\Users\\user\\AppData\\Local\\Programs\\Python\\Python311\\Lib\\socketserver.py\", line 348, in process_request\n",
      "    self.finish_request(request, client_address)\n",
      "  File \"C:\\Users\\user\\AppData\\Local\\Programs\\Python\\Python311\\Lib\\socketserver.py\", line 361, in finish_request\n",
      "    self.RequestHandlerClass(request, client_address, self)\n",
      "  File \"C:\\Users\\user\\AppData\\Local\\Programs\\Python\\Python311\\Lib\\http\\server.py\", line 667, in __init__\n",
      "    super().__init__(*args, **kwargs)\n",
      "  File \"C:\\Users\\user\\AppData\\Local\\Programs\\Python\\Python311\\Lib\\socketserver.py\", line 755, in __init__\n",
      "    self.handle()\n",
      "  File \"C:\\Users\\user\\AppData\\Local\\Programs\\Python\\Python311\\Lib\\http\\server.py\", line 432, in handle\n",
      "    self.handle_one_request()\n",
      "  File \"C:\\Users\\user\\AppData\\Local\\Programs\\Python\\Python311\\Lib\\http\\server.py\", line 420, in handle_one_request\n",
      "    method()\n",
      "  File \"C:\\Users\\user\\Desktop\\Python_2023_2-master\\HubRequestHandler.py\", line 21, in do_GET\n",
      "    else: result.writeNotFound()\n",
      "          ^^^^^^^^^^^^^^^^^^^^\n",
      "AttributeError: 'SplitResult' object has no attribute 'writeNotFound'\n",
      "----------------------------------------\n"
     ]
    },
    {
     "name": "stdout",
     "output_type": "stream",
     "text": [
      "/buzzer?note=re&delay=1000\n",
      "/favicon.ico\n"
     ]
    },
    {
     "name": "stderr",
     "output_type": "stream",
     "text": [
      "127.0.0.1 - - [20/Dec/2023 10:48:54] \"GET /buzzer?note=re&delay=1000 HTTP/1.1\" 200 -\n",
      "----------------------------------------\n",
      "Exception occurred during processing of request from ('127.0.0.1', 55525)\n",
      "Traceback (most recent call last):\n",
      "  File \"C:\\Users\\user\\AppData\\Local\\Programs\\Python\\Python311\\Lib\\socketserver.py\", line 317, in _handle_request_noblock\n",
      "    self.process_request(request, client_address)\n",
      "  File \"C:\\Users\\user\\AppData\\Local\\Programs\\Python\\Python311\\Lib\\socketserver.py\", line 348, in process_request\n",
      "    self.finish_request(request, client_address)\n",
      "  File \"C:\\Users\\user\\AppData\\Local\\Programs\\Python\\Python311\\Lib\\socketserver.py\", line 361, in finish_request\n",
      "    self.RequestHandlerClass(request, client_address, self)\n",
      "  File \"C:\\Users\\user\\AppData\\Local\\Programs\\Python\\Python311\\Lib\\http\\server.py\", line 667, in __init__\n",
      "    super().__init__(*args, **kwargs)\n",
      "  File \"C:\\Users\\user\\AppData\\Local\\Programs\\Python\\Python311\\Lib\\socketserver.py\", line 755, in __init__\n",
      "    self.handle()\n",
      "  File \"C:\\Users\\user\\AppData\\Local\\Programs\\Python\\Python311\\Lib\\http\\server.py\", line 432, in handle\n",
      "    self.handle_one_request()\n",
      "  File \"C:\\Users\\user\\AppData\\Local\\Programs\\Python\\Python311\\Lib\\http\\server.py\", line 420, in handle_one_request\n",
      "    method()\n",
      "  File \"C:\\Users\\user\\Desktop\\Python_2023_2-master\\HubRequestHandler.py\", line 21, in do_GET\n",
      "    else: result.writeNotFound()\n",
      "          ^^^^^^^^^^^^^^^^^^^^\n",
      "AttributeError: 'SplitResult' object has no attribute 'writeNotFound'\n",
      "----------------------------------------\n"
     ]
    },
    {
     "name": "stdout",
     "output_type": "stream",
     "text": [
      "/favicon.ico\n"
     ]
    },
    {
     "name": "stderr",
     "output_type": "stream",
     "text": [
      "----------------------------------------\n",
      "Exception occurred during processing of request from ('127.0.0.1', 55529)\n",
      "Traceback (most recent call last):\n",
      "  File \"C:\\Users\\user\\AppData\\Local\\Programs\\Python\\Python311\\Lib\\socketserver.py\", line 317, in _handle_request_noblock\n",
      "    self.process_request(request, client_address)\n",
      "  File \"C:\\Users\\user\\AppData\\Local\\Programs\\Python\\Python311\\Lib\\socketserver.py\", line 348, in process_request\n",
      "    self.finish_request(request, client_address)\n",
      "  File \"C:\\Users\\user\\AppData\\Local\\Programs\\Python\\Python311\\Lib\\socketserver.py\", line 361, in finish_request\n",
      "    self.RequestHandlerClass(request, client_address, self)\n",
      "  File \"C:\\Users\\user\\AppData\\Local\\Programs\\Python\\Python311\\Lib\\http\\server.py\", line 667, in __init__\n",
      "    super().__init__(*args, **kwargs)\n",
      "  File \"C:\\Users\\user\\AppData\\Local\\Programs\\Python\\Python311\\Lib\\socketserver.py\", line 755, in __init__\n",
      "    self.handle()\n",
      "  File \"C:\\Users\\user\\AppData\\Local\\Programs\\Python\\Python311\\Lib\\http\\server.py\", line 432, in handle\n",
      "    self.handle_one_request()\n",
      "  File \"C:\\Users\\user\\AppData\\Local\\Programs\\Python\\Python311\\Lib\\http\\server.py\", line 420, in handle_one_request\n",
      "    method()\n",
      "  File \"C:\\Users\\user\\Desktop\\Python_2023_2-master\\HubRequestHandler.py\", line 21, in do_GET\n",
      "    else: result.writeNotFound()\n",
      "          ^^^^^^^^^^^^^^^^^^^^\n",
      "AttributeError: 'SplitResult' object has no attribute 'writeNotFound'\n",
      "----------------------------------------\n"
     ]
    },
    {
     "name": "stdout",
     "output_type": "stream",
     "text": [
      "/favicon.ico\n"
     ]
    },
    {
     "name": "stderr",
     "output_type": "stream",
     "text": [
      "----------------------------------------\n",
      "Exception occurred during processing of request from ('127.0.0.1', 55530)\n",
      "Traceback (most recent call last):\n",
      "  File \"C:\\Users\\user\\AppData\\Local\\Programs\\Python\\Python311\\Lib\\socketserver.py\", line 317, in _handle_request_noblock\n",
      "    self.process_request(request, client_address)\n",
      "  File \"C:\\Users\\user\\AppData\\Local\\Programs\\Python\\Python311\\Lib\\socketserver.py\", line 348, in process_request\n",
      "    self.finish_request(request, client_address)\n",
      "  File \"C:\\Users\\user\\AppData\\Local\\Programs\\Python\\Python311\\Lib\\socketserver.py\", line 361, in finish_request\n",
      "    self.RequestHandlerClass(request, client_address, self)\n",
      "  File \"C:\\Users\\user\\AppData\\Local\\Programs\\Python\\Python311\\Lib\\http\\server.py\", line 667, in __init__\n",
      "    super().__init__(*args, **kwargs)\n",
      "  File \"C:\\Users\\user\\AppData\\Local\\Programs\\Python\\Python311\\Lib\\socketserver.py\", line 755, in __init__\n",
      "    self.handle()\n",
      "  File \"C:\\Users\\user\\AppData\\Local\\Programs\\Python\\Python311\\Lib\\http\\server.py\", line 432, in handle\n",
      "    self.handle_one_request()\n",
      "  File \"C:\\Users\\user\\AppData\\Local\\Programs\\Python\\Python311\\Lib\\http\\server.py\", line 420, in handle_one_request\n",
      "    method()\n",
      "  File \"C:\\Users\\user\\Desktop\\Python_2023_2-master\\HubRequestHandler.py\", line 21, in do_GET\n",
      "    else: result.writeNotFound()\n",
      "          ^^^^^^^^^^^^^^^^^^^^\n",
      "AttributeError: 'SplitResult' object has no attribute 'writeNotFound'\n",
      "----------------------------------------\n"
     ]
    },
    {
     "name": "stdout",
     "output_type": "stream",
     "text": [
      "/favicon.ico\n"
     ]
    },
    {
     "name": "stderr",
     "output_type": "stream",
     "text": [
      "----------------------------------------\n",
      "Exception occurred during processing of request from ('127.0.0.1', 55534)\n",
      "Traceback (most recent call last):\n",
      "  File \"C:\\Users\\user\\AppData\\Local\\Programs\\Python\\Python311\\Lib\\socketserver.py\", line 317, in _handle_request_noblock\n",
      "    self.process_request(request, client_address)\n",
      "  File \"C:\\Users\\user\\AppData\\Local\\Programs\\Python\\Python311\\Lib\\socketserver.py\", line 348, in process_request\n",
      "    self.finish_request(request, client_address)\n",
      "  File \"C:\\Users\\user\\AppData\\Local\\Programs\\Python\\Python311\\Lib\\socketserver.py\", line 361, in finish_request\n",
      "    self.RequestHandlerClass(request, client_address, self)\n",
      "  File \"C:\\Users\\user\\AppData\\Local\\Programs\\Python\\Python311\\Lib\\http\\server.py\", line 667, in __init__\n",
      "    super().__init__(*args, **kwargs)\n",
      "  File \"C:\\Users\\user\\AppData\\Local\\Programs\\Python\\Python311\\Lib\\socketserver.py\", line 755, in __init__\n",
      "    self.handle()\n",
      "  File \"C:\\Users\\user\\AppData\\Local\\Programs\\Python\\Python311\\Lib\\http\\server.py\", line 432, in handle\n",
      "    self.handle_one_request()\n",
      "  File \"C:\\Users\\user\\AppData\\Local\\Programs\\Python\\Python311\\Lib\\http\\server.py\", line 420, in handle_one_request\n",
      "    method()\n",
      "  File \"C:\\Users\\user\\Desktop\\Python_2023_2-master\\HubRequestHandler.py\", line 21, in do_GET\n",
      "    else: result.writeNotFound()\n",
      "          ^^^^^^^^^^^^^^^^^^^^\n",
      "AttributeError: 'SplitResult' object has no attribute 'writeNotFound'\n",
      "----------------------------------------\n"
     ]
    },
    {
     "name": "stdout",
     "output_type": "stream",
     "text": [
      "/buzzer?note=mi&delay=1000\n"
     ]
    },
    {
     "name": "stderr",
     "output_type": "stream",
     "text": [
      "127.0.0.1 - - [20/Dec/2023 10:48:58] \"GET /buzzer?note=mi&delay=1000 HTTP/1.1\" 200 -\n"
     ]
    },
    {
     "name": "stdout",
     "output_type": "stream",
     "text": [
      "/favicon.ico\n"
     ]
    },
    {
     "name": "stderr",
     "output_type": "stream",
     "text": [
      "----------------------------------------\n",
      "Exception occurred during processing of request from ('127.0.0.1', 55538)\n",
      "Traceback (most recent call last):\n",
      "  File \"C:\\Users\\user\\AppData\\Local\\Programs\\Python\\Python311\\Lib\\socketserver.py\", line 317, in _handle_request_noblock\n",
      "    self.process_request(request, client_address)\n",
      "  File \"C:\\Users\\user\\AppData\\Local\\Programs\\Python\\Python311\\Lib\\socketserver.py\", line 348, in process_request\n",
      "    self.finish_request(request, client_address)\n",
      "  File \"C:\\Users\\user\\AppData\\Local\\Programs\\Python\\Python311\\Lib\\socketserver.py\", line 361, in finish_request\n",
      "    self.RequestHandlerClass(request, client_address, self)\n",
      "  File \"C:\\Users\\user\\AppData\\Local\\Programs\\Python\\Python311\\Lib\\http\\server.py\", line 667, in __init__\n",
      "    super().__init__(*args, **kwargs)\n",
      "  File \"C:\\Users\\user\\AppData\\Local\\Programs\\Python\\Python311\\Lib\\socketserver.py\", line 755, in __init__\n",
      "    self.handle()\n",
      "  File \"C:\\Users\\user\\AppData\\Local\\Programs\\Python\\Python311\\Lib\\http\\server.py\", line 432, in handle\n",
      "    self.handle_one_request()\n",
      "  File \"C:\\Users\\user\\AppData\\Local\\Programs\\Python\\Python311\\Lib\\http\\server.py\", line 420, in handle_one_request\n",
      "    method()\n",
      "  File \"C:\\Users\\user\\Desktop\\Python_2023_2-master\\HubRequestHandler.py\", line 21, in do_GET\n",
      "    else: result.writeNotFound()\n",
      "          ^^^^^^^^^^^^^^^^^^^^\n",
      "AttributeError: 'SplitResult' object has no attribute 'writeNotFound'\n",
      "----------------------------------------\n"
     ]
    },
    {
     "name": "stdout",
     "output_type": "stream",
     "text": [
      "/favicon.ico\n"
     ]
    },
    {
     "name": "stderr",
     "output_type": "stream",
     "text": [
      "----------------------------------------\n",
      "Exception occurred during processing of request from ('127.0.0.1', 55542)\n",
      "Traceback (most recent call last):\n",
      "  File \"C:\\Users\\user\\AppData\\Local\\Programs\\Python\\Python311\\Lib\\socketserver.py\", line 317, in _handle_request_noblock\n",
      "    self.process_request(request, client_address)\n",
      "  File \"C:\\Users\\user\\AppData\\Local\\Programs\\Python\\Python311\\Lib\\socketserver.py\", line 348, in process_request\n",
      "    self.finish_request(request, client_address)\n",
      "  File \"C:\\Users\\user\\AppData\\Local\\Programs\\Python\\Python311\\Lib\\socketserver.py\", line 361, in finish_request\n",
      "    self.RequestHandlerClass(request, client_address, self)\n",
      "  File \"C:\\Users\\user\\AppData\\Local\\Programs\\Python\\Python311\\Lib\\http\\server.py\", line 667, in __init__\n",
      "    super().__init__(*args, **kwargs)\n",
      "  File \"C:\\Users\\user\\AppData\\Local\\Programs\\Python\\Python311\\Lib\\socketserver.py\", line 755, in __init__\n",
      "    self.handle()\n",
      "  File \"C:\\Users\\user\\AppData\\Local\\Programs\\Python\\Python311\\Lib\\http\\server.py\", line 432, in handle\n",
      "    self.handle_one_request()\n",
      "  File \"C:\\Users\\user\\AppData\\Local\\Programs\\Python\\Python311\\Lib\\http\\server.py\", line 420, in handle_one_request\n",
      "    method()\n",
      "  File \"C:\\Users\\user\\Desktop\\Python_2023_2-master\\HubRequestHandler.py\", line 21, in do_GET\n",
      "    else: result.writeNotFound()\n",
      "          ^^^^^^^^^^^^^^^^^^^^\n",
      "AttributeError: 'SplitResult' object has no attribute 'writeNotFound'\n",
      "----------------------------------------\n"
     ]
    },
    {
     "name": "stdout",
     "output_type": "stream",
     "text": [
      "/buzzer?note=fa&delay=1000\n",
      "/favicon.ico\n"
     ]
    },
    {
     "name": "stderr",
     "output_type": "stream",
     "text": [
      "127.0.0.1 - - [20/Dec/2023 10:49:01] \"GET /buzzer?note=fa&delay=1000 HTTP/1.1\" 200 -\n",
      "----------------------------------------\n",
      "Exception occurred during processing of request from ('127.0.0.1', 55545)\n",
      "Traceback (most recent call last):\n",
      "  File \"C:\\Users\\user\\AppData\\Local\\Programs\\Python\\Python311\\Lib\\socketserver.py\", line 317, in _handle_request_noblock\n",
      "    self.process_request(request, client_address)\n",
      "  File \"C:\\Users\\user\\AppData\\Local\\Programs\\Python\\Python311\\Lib\\socketserver.py\", line 348, in process_request\n",
      "    self.finish_request(request, client_address)\n",
      "  File \"C:\\Users\\user\\AppData\\Local\\Programs\\Python\\Python311\\Lib\\socketserver.py\", line 361, in finish_request\n",
      "    self.RequestHandlerClass(request, client_address, self)\n",
      "  File \"C:\\Users\\user\\AppData\\Local\\Programs\\Python\\Python311\\Lib\\http\\server.py\", line 667, in __init__\n",
      "    super().__init__(*args, **kwargs)\n",
      "  File \"C:\\Users\\user\\AppData\\Local\\Programs\\Python\\Python311\\Lib\\socketserver.py\", line 755, in __init__\n",
      "    self.handle()\n",
      "  File \"C:\\Users\\user\\AppData\\Local\\Programs\\Python\\Python311\\Lib\\http\\server.py\", line 432, in handle\n",
      "    self.handle_one_request()\n",
      "  File \"C:\\Users\\user\\AppData\\Local\\Programs\\Python\\Python311\\Lib\\http\\server.py\", line 420, in handle_one_request\n",
      "    method()\n",
      "  File \"C:\\Users\\user\\Desktop\\Python_2023_2-master\\HubRequestHandler.py\", line 21, in do_GET\n",
      "    else: result.writeNotFound()\n",
      "          ^^^^^^^^^^^^^^^^^^^^\n",
      "AttributeError: 'SplitResult' object has no attribute 'writeNotFound'\n",
      "----------------------------------------\n"
     ]
    },
    {
     "name": "stdout",
     "output_type": "stream",
     "text": [
      "/favicon.ico\n"
     ]
    },
    {
     "name": "stderr",
     "output_type": "stream",
     "text": [
      "----------------------------------------\n",
      "Exception occurred during processing of request from ('127.0.0.1', 55549)\n",
      "Traceback (most recent call last):\n",
      "  File \"C:\\Users\\user\\AppData\\Local\\Programs\\Python\\Python311\\Lib\\socketserver.py\", line 317, in _handle_request_noblock\n",
      "    self.process_request(request, client_address)\n",
      "  File \"C:\\Users\\user\\AppData\\Local\\Programs\\Python\\Python311\\Lib\\socketserver.py\", line 348, in process_request\n",
      "    self.finish_request(request, client_address)\n",
      "  File \"C:\\Users\\user\\AppData\\Local\\Programs\\Python\\Python311\\Lib\\socketserver.py\", line 361, in finish_request\n",
      "    self.RequestHandlerClass(request, client_address, self)\n",
      "  File \"C:\\Users\\user\\AppData\\Local\\Programs\\Python\\Python311\\Lib\\http\\server.py\", line 667, in __init__\n",
      "    super().__init__(*args, **kwargs)\n",
      "  File \"C:\\Users\\user\\AppData\\Local\\Programs\\Python\\Python311\\Lib\\socketserver.py\", line 755, in __init__\n",
      "    self.handle()\n",
      "  File \"C:\\Users\\user\\AppData\\Local\\Programs\\Python\\Python311\\Lib\\http\\server.py\", line 432, in handle\n",
      "    self.handle_one_request()\n",
      "  File \"C:\\Users\\user\\AppData\\Local\\Programs\\Python\\Python311\\Lib\\http\\server.py\", line 420, in handle_one_request\n",
      "    method()\n",
      "  File \"C:\\Users\\user\\Desktop\\Python_2023_2-master\\HubRequestHandler.py\", line 21, in do_GET\n",
      "    else: result.writeNotFound()\n",
      "          ^^^^^^^^^^^^^^^^^^^^\n",
      "AttributeError: 'SplitResult' object has no attribute 'writeNotFound'\n",
      "----------------------------------------\n"
     ]
    },
    {
     "name": "stdout",
     "output_type": "stream",
     "text": [
      "/favicon.ico\n"
     ]
    },
    {
     "name": "stderr",
     "output_type": "stream",
     "text": [
      "----------------------------------------\n",
      "Exception occurred during processing of request from ('127.0.0.1', 55551)\n",
      "Traceback (most recent call last):\n",
      "  File \"C:\\Users\\user\\AppData\\Local\\Programs\\Python\\Python311\\Lib\\socketserver.py\", line 317, in _handle_request_noblock\n",
      "    self.process_request(request, client_address)\n",
      "  File \"C:\\Users\\user\\AppData\\Local\\Programs\\Python\\Python311\\Lib\\socketserver.py\", line 348, in process_request\n",
      "    self.finish_request(request, client_address)\n",
      "  File \"C:\\Users\\user\\AppData\\Local\\Programs\\Python\\Python311\\Lib\\socketserver.py\", line 361, in finish_request\n",
      "    self.RequestHandlerClass(request, client_address, self)\n",
      "  File \"C:\\Users\\user\\AppData\\Local\\Programs\\Python\\Python311\\Lib\\http\\server.py\", line 667, in __init__\n",
      "    super().__init__(*args, **kwargs)\n",
      "  File \"C:\\Users\\user\\AppData\\Local\\Programs\\Python\\Python311\\Lib\\socketserver.py\", line 755, in __init__\n",
      "    self.handle()\n",
      "  File \"C:\\Users\\user\\AppData\\Local\\Programs\\Python\\Python311\\Lib\\http\\server.py\", line 432, in handle\n",
      "    self.handle_one_request()\n",
      "  File \"C:\\Users\\user\\AppData\\Local\\Programs\\Python\\Python311\\Lib\\http\\server.py\", line 420, in handle_one_request\n",
      "    method()\n",
      "  File \"C:\\Users\\user\\Desktop\\Python_2023_2-master\\HubRequestHandler.py\", line 21, in do_GET\n",
      "    else: result.writeNotFound()\n",
      "          ^^^^^^^^^^^^^^^^^^^^\n",
      "AttributeError: 'SplitResult' object has no attribute 'writeNotFound'\n",
      "----------------------------------------\n"
     ]
    },
    {
     "name": "stdout",
     "output_type": "stream",
     "text": [
      "/favicon.ico\n"
     ]
    },
    {
     "name": "stderr",
     "output_type": "stream",
     "text": [
      "----------------------------------------\n",
      "Exception occurred during processing of request from ('127.0.0.1', 55554)\n",
      "Traceback (most recent call last):\n",
      "  File \"C:\\Users\\user\\AppData\\Local\\Programs\\Python\\Python311\\Lib\\socketserver.py\", line 317, in _handle_request_noblock\n",
      "    self.process_request(request, client_address)\n",
      "  File \"C:\\Users\\user\\AppData\\Local\\Programs\\Python\\Python311\\Lib\\socketserver.py\", line 348, in process_request\n",
      "    self.finish_request(request, client_address)\n",
      "  File \"C:\\Users\\user\\AppData\\Local\\Programs\\Python\\Python311\\Lib\\socketserver.py\", line 361, in finish_request\n",
      "    self.RequestHandlerClass(request, client_address, self)\n",
      "  File \"C:\\Users\\user\\AppData\\Local\\Programs\\Python\\Python311\\Lib\\http\\server.py\", line 667, in __init__\n",
      "    super().__init__(*args, **kwargs)\n",
      "  File \"C:\\Users\\user\\AppData\\Local\\Programs\\Python\\Python311\\Lib\\socketserver.py\", line 755, in __init__\n",
      "    self.handle()\n",
      "  File \"C:\\Users\\user\\AppData\\Local\\Programs\\Python\\Python311\\Lib\\http\\server.py\", line 432, in handle\n",
      "    self.handle_one_request()\n",
      "  File \"C:\\Users\\user\\AppData\\Local\\Programs\\Python\\Python311\\Lib\\http\\server.py\", line 420, in handle_one_request\n",
      "    method()\n",
      "  File \"C:\\Users\\user\\Desktop\\Python_2023_2-master\\HubRequestHandler.py\", line 21, in do_GET\n",
      "    else: result.writeNotFound()\n",
      "          ^^^^^^^^^^^^^^^^^^^^\n",
      "AttributeError: 'SplitResult' object has no attribute 'writeNotFound'\n",
      "----------------------------------------\n"
     ]
    },
    {
     "name": "stdout",
     "output_type": "stream",
     "text": [
      "/buzzer?note=sol&delay=1000\n"
     ]
    },
    {
     "name": "stderr",
     "output_type": "stream",
     "text": [
      "127.0.0.1 - - [20/Dec/2023 10:49:05] \"GET /buzzer?note=sol&delay=1000 HTTP/1.1\" 200 -\n"
     ]
    },
    {
     "name": "stdout",
     "output_type": "stream",
     "text": [
      "/favicon.ico\n"
     ]
    },
    {
     "name": "stderr",
     "output_type": "stream",
     "text": [
      "----------------------------------------\n",
      "Exception occurred during processing of request from ('127.0.0.1', 55559)\n",
      "Traceback (most recent call last):\n",
      "  File \"C:\\Users\\user\\AppData\\Local\\Programs\\Python\\Python311\\Lib\\socketserver.py\", line 317, in _handle_request_noblock\n",
      "    self.process_request(request, client_address)\n",
      "  File \"C:\\Users\\user\\AppData\\Local\\Programs\\Python\\Python311\\Lib\\socketserver.py\", line 348, in process_request\n",
      "    self.finish_request(request, client_address)\n",
      "  File \"C:\\Users\\user\\AppData\\Local\\Programs\\Python\\Python311\\Lib\\socketserver.py\", line 361, in finish_request\n",
      "    self.RequestHandlerClass(request, client_address, self)\n",
      "  File \"C:\\Users\\user\\AppData\\Local\\Programs\\Python\\Python311\\Lib\\http\\server.py\", line 667, in __init__\n",
      "    super().__init__(*args, **kwargs)\n",
      "  File \"C:\\Users\\user\\AppData\\Local\\Programs\\Python\\Python311\\Lib\\socketserver.py\", line 755, in __init__\n",
      "    self.handle()\n",
      "  File \"C:\\Users\\user\\AppData\\Local\\Programs\\Python\\Python311\\Lib\\http\\server.py\", line 432, in handle\n",
      "    self.handle_one_request()\n",
      "  File \"C:\\Users\\user\\AppData\\Local\\Programs\\Python\\Python311\\Lib\\http\\server.py\", line 420, in handle_one_request\n",
      "    method()\n",
      "  File \"C:\\Users\\user\\Desktop\\Python_2023_2-master\\HubRequestHandler.py\", line 21, in do_GET\n",
      "    else: result.writeNotFound()\n",
      "          ^^^^^^^^^^^^^^^^^^^^\n",
      "AttributeError: 'SplitResult' object has no attribute 'writeNotFound'\n",
      "----------------------------------------\n"
     ]
    },
    {
     "name": "stdout",
     "output_type": "stream",
     "text": [
      "/favicon.ico\n"
     ]
    },
    {
     "name": "stderr",
     "output_type": "stream",
     "text": [
      "----------------------------------------\n",
      "Exception occurred during processing of request from ('127.0.0.1', 55563)\n",
      "Traceback (most recent call last):\n",
      "  File \"C:\\Users\\user\\AppData\\Local\\Programs\\Python\\Python311\\Lib\\socketserver.py\", line 317, in _handle_request_noblock\n",
      "    self.process_request(request, client_address)\n",
      "  File \"C:\\Users\\user\\AppData\\Local\\Programs\\Python\\Python311\\Lib\\socketserver.py\", line 348, in process_request\n",
      "    self.finish_request(request, client_address)\n",
      "  File \"C:\\Users\\user\\AppData\\Local\\Programs\\Python\\Python311\\Lib\\socketserver.py\", line 361, in finish_request\n",
      "    self.RequestHandlerClass(request, client_address, self)\n",
      "  File \"C:\\Users\\user\\AppData\\Local\\Programs\\Python\\Python311\\Lib\\http\\server.py\", line 667, in __init__\n",
      "    super().__init__(*args, **kwargs)\n",
      "  File \"C:\\Users\\user\\AppData\\Local\\Programs\\Python\\Python311\\Lib\\socketserver.py\", line 755, in __init__\n",
      "    self.handle()\n",
      "  File \"C:\\Users\\user\\AppData\\Local\\Programs\\Python\\Python311\\Lib\\http\\server.py\", line 432, in handle\n",
      "    self.handle_one_request()\n",
      "  File \"C:\\Users\\user\\AppData\\Local\\Programs\\Python\\Python311\\Lib\\http\\server.py\", line 420, in handle_one_request\n",
      "    method()\n",
      "  File \"C:\\Users\\user\\Desktop\\Python_2023_2-master\\HubRequestHandler.py\", line 21, in do_GET\n",
      "    else: result.writeNotFound()\n",
      "          ^^^^^^^^^^^^^^^^^^^^\n",
      "AttributeError: 'SplitResult' object has no attribute 'writeNotFound'\n",
      "----------------------------------------\n"
     ]
    },
    {
     "name": "stdout",
     "output_type": "stream",
     "text": [
      "/buzzer?note=la&delay=1000\n",
      "/favicon.ico\n"
     ]
    },
    {
     "name": "stderr",
     "output_type": "stream",
     "text": [
      "127.0.0.1 - - [20/Dec/2023 10:49:09] \"GET /buzzer?note=la&delay=1000 HTTP/1.1\" 200 -\n",
      "----------------------------------------\n",
      "Exception occurred during processing of request from ('127.0.0.1', 55565)\n",
      "Traceback (most recent call last):\n",
      "  File \"C:\\Users\\user\\AppData\\Local\\Programs\\Python\\Python311\\Lib\\socketserver.py\", line 317, in _handle_request_noblock\n",
      "    self.process_request(request, client_address)\n",
      "  File \"C:\\Users\\user\\AppData\\Local\\Programs\\Python\\Python311\\Lib\\socketserver.py\", line 348, in process_request\n",
      "    self.finish_request(request, client_address)\n",
      "  File \"C:\\Users\\user\\AppData\\Local\\Programs\\Python\\Python311\\Lib\\socketserver.py\", line 361, in finish_request\n",
      "    self.RequestHandlerClass(request, client_address, self)\n",
      "  File \"C:\\Users\\user\\AppData\\Local\\Programs\\Python\\Python311\\Lib\\http\\server.py\", line 667, in __init__\n",
      "    super().__init__(*args, **kwargs)\n",
      "  File \"C:\\Users\\user\\AppData\\Local\\Programs\\Python\\Python311\\Lib\\socketserver.py\", line 755, in __init__\n",
      "    self.handle()\n",
      "  File \"C:\\Users\\user\\AppData\\Local\\Programs\\Python\\Python311\\Lib\\http\\server.py\", line 432, in handle\n",
      "    self.handle_one_request()\n",
      "  File \"C:\\Users\\user\\AppData\\Local\\Programs\\Python\\Python311\\Lib\\http\\server.py\", line 420, in handle_one_request\n",
      "    method()\n",
      "  File \"C:\\Users\\user\\Desktop\\Python_2023_2-master\\HubRequestHandler.py\", line 21, in do_GET\n",
      "    else: result.writeNotFound()\n",
      "          ^^^^^^^^^^^^^^^^^^^^\n",
      "AttributeError: 'SplitResult' object has no attribute 'writeNotFound'\n",
      "----------------------------------------\n"
     ]
    },
    {
     "name": "stdout",
     "output_type": "stream",
     "text": [
      "/favicon.ico\n"
     ]
    },
    {
     "name": "stderr",
     "output_type": "stream",
     "text": [
      "----------------------------------------\n",
      "Exception occurred during processing of request from ('127.0.0.1', 55568)\n",
      "Traceback (most recent call last):\n",
      "  File \"C:\\Users\\user\\AppData\\Local\\Programs\\Python\\Python311\\Lib\\socketserver.py\", line 317, in _handle_request_noblock\n",
      "    self.process_request(request, client_address)\n",
      "  File \"C:\\Users\\user\\AppData\\Local\\Programs\\Python\\Python311\\Lib\\socketserver.py\", line 348, in process_request\n",
      "    self.finish_request(request, client_address)\n",
      "  File \"C:\\Users\\user\\AppData\\Local\\Programs\\Python\\Python311\\Lib\\socketserver.py\", line 361, in finish_request\n",
      "    self.RequestHandlerClass(request, client_address, self)\n",
      "  File \"C:\\Users\\user\\AppData\\Local\\Programs\\Python\\Python311\\Lib\\http\\server.py\", line 667, in __init__\n",
      "    super().__init__(*args, **kwargs)\n",
      "  File \"C:\\Users\\user\\AppData\\Local\\Programs\\Python\\Python311\\Lib\\socketserver.py\", line 755, in __init__\n",
      "    self.handle()\n",
      "  File \"C:\\Users\\user\\AppData\\Local\\Programs\\Python\\Python311\\Lib\\http\\server.py\", line 432, in handle\n",
      "    self.handle_one_request()\n",
      "  File \"C:\\Users\\user\\AppData\\Local\\Programs\\Python\\Python311\\Lib\\http\\server.py\", line 420, in handle_one_request\n",
      "    method()\n",
      "  File \"C:\\Users\\user\\Desktop\\Python_2023_2-master\\HubRequestHandler.py\", line 21, in do_GET\n",
      "    else: result.writeNotFound()\n",
      "          ^^^^^^^^^^^^^^^^^^^^\n",
      "AttributeError: 'SplitResult' object has no attribute 'writeNotFound'\n",
      "----------------------------------------\n"
     ]
    },
    {
     "name": "stdout",
     "output_type": "stream",
     "text": [
      "/favicon.ico\n"
     ]
    },
    {
     "name": "stderr",
     "output_type": "stream",
     "text": [
      "----------------------------------------\n",
      "Exception occurred during processing of request from ('127.0.0.1', 55572)\n",
      "Traceback (most recent call last):\n",
      "  File \"C:\\Users\\user\\AppData\\Local\\Programs\\Python\\Python311\\Lib\\socketserver.py\", line 317, in _handle_request_noblock\n",
      "    self.process_request(request, client_address)\n",
      "  File \"C:\\Users\\user\\AppData\\Local\\Programs\\Python\\Python311\\Lib\\socketserver.py\", line 348, in process_request\n",
      "    self.finish_request(request, client_address)\n",
      "  File \"C:\\Users\\user\\AppData\\Local\\Programs\\Python\\Python311\\Lib\\socketserver.py\", line 361, in finish_request\n",
      "    self.RequestHandlerClass(request, client_address, self)\n",
      "  File \"C:\\Users\\user\\AppData\\Local\\Programs\\Python\\Python311\\Lib\\http\\server.py\", line 667, in __init__\n",
      "    super().__init__(*args, **kwargs)\n",
      "  File \"C:\\Users\\user\\AppData\\Local\\Programs\\Python\\Python311\\Lib\\socketserver.py\", line 755, in __init__\n",
      "    self.handle()\n",
      "  File \"C:\\Users\\user\\AppData\\Local\\Programs\\Python\\Python311\\Lib\\http\\server.py\", line 432, in handle\n",
      "    self.handle_one_request()\n",
      "  File \"C:\\Users\\user\\AppData\\Local\\Programs\\Python\\Python311\\Lib\\http\\server.py\", line 420, in handle_one_request\n",
      "    method()\n",
      "  File \"C:\\Users\\user\\Desktop\\Python_2023_2-master\\HubRequestHandler.py\", line 21, in do_GET\n",
      "    else: result.writeNotFound()\n",
      "          ^^^^^^^^^^^^^^^^^^^^\n",
      "AttributeError: 'SplitResult' object has no attribute 'writeNotFound'\n",
      "----------------------------------------\n"
     ]
    },
    {
     "name": "stdout",
     "output_type": "stream",
     "text": [
      "/buzzer?note=la&delay=1000\n"
     ]
    },
    {
     "name": "stderr",
     "output_type": "stream",
     "text": [
      "127.0.0.1 - - [20/Dec/2023 10:49:13] \"GET /buzzer?note=la&delay=1000 HTTP/1.1\" 200 -\n"
     ]
    },
    {
     "name": "stdout",
     "output_type": "stream",
     "text": [
      "/favicon.ico\n"
     ]
    },
    {
     "name": "stderr",
     "output_type": "stream",
     "text": [
      "----------------------------------------\n",
      "Exception occurred during processing of request from ('127.0.0.1', 55578)\n",
      "Traceback (most recent call last):\n",
      "  File \"C:\\Users\\user\\AppData\\Local\\Programs\\Python\\Python311\\Lib\\socketserver.py\", line 317, in _handle_request_noblock\n",
      "    self.process_request(request, client_address)\n",
      "  File \"C:\\Users\\user\\AppData\\Local\\Programs\\Python\\Python311\\Lib\\socketserver.py\", line 348, in process_request\n",
      "    self.finish_request(request, client_address)\n",
      "  File \"C:\\Users\\user\\AppData\\Local\\Programs\\Python\\Python311\\Lib\\socketserver.py\", line 361, in finish_request\n",
      "    self.RequestHandlerClass(request, client_address, self)\n",
      "  File \"C:\\Users\\user\\AppData\\Local\\Programs\\Python\\Python311\\Lib\\http\\server.py\", line 667, in __init__\n",
      "    super().__init__(*args, **kwargs)\n",
      "  File \"C:\\Users\\user\\AppData\\Local\\Programs\\Python\\Python311\\Lib\\socketserver.py\", line 755, in __init__\n",
      "    self.handle()\n",
      "  File \"C:\\Users\\user\\AppData\\Local\\Programs\\Python\\Python311\\Lib\\http\\server.py\", line 432, in handle\n",
      "    self.handle_one_request()\n",
      "  File \"C:\\Users\\user\\AppData\\Local\\Programs\\Python\\Python311\\Lib\\http\\server.py\", line 420, in handle_one_request\n",
      "    method()\n",
      "  File \"C:\\Users\\user\\Desktop\\Python_2023_2-master\\HubRequestHandler.py\", line 21, in do_GET\n",
      "    else: result.writeNotFound()\n",
      "          ^^^^^^^^^^^^^^^^^^^^\n",
      "AttributeError: 'SplitResult' object has no attribute 'writeNotFound'\n",
      "----------------------------------------\n"
     ]
    },
    {
     "name": "stdout",
     "output_type": "stream",
     "text": [
      "/favicon.ico\n",
      "/favicon.ico\n"
     ]
    },
    {
     "name": "stderr",
     "output_type": "stream",
     "text": [
      "----------------------------------------\n",
      "Exception occurred during processing of request from ('127.0.0.1', 55579)\n",
      "Traceback (most recent call last):\n",
      "  File \"C:\\Users\\user\\AppData\\Local\\Programs\\Python\\Python311\\Lib\\socketserver.py\", line 317, in _handle_request_noblock\n",
      "    self.process_request(request, client_address)\n",
      "  File \"C:\\Users\\user\\AppData\\Local\\Programs\\Python\\Python311\\Lib\\socketserver.py\", line 348, in process_request\n",
      "    self.finish_request(request, client_address)\n",
      "  File \"C:\\Users\\user\\AppData\\Local\\Programs\\Python\\Python311\\Lib\\socketserver.py\", line 361, in finish_request\n",
      "    self.RequestHandlerClass(request, client_address, self)\n",
      "  File \"C:\\Users\\user\\AppData\\Local\\Programs\\Python\\Python311\\Lib\\http\\server.py\", line 667, in __init__\n",
      "    super().__init__(*args, **kwargs)\n",
      "  File \"C:\\Users\\user\\AppData\\Local\\Programs\\Python\\Python311\\Lib\\socketserver.py\", line 755, in __init__\n",
      "    self.handle()\n",
      "  File \"C:\\Users\\user\\AppData\\Local\\Programs\\Python\\Python311\\Lib\\http\\server.py\", line 432, in handle\n",
      "    self.handle_one_request()\n",
      "  File \"C:\\Users\\user\\AppData\\Local\\Programs\\Python\\Python311\\Lib\\http\\server.py\", line 420, in handle_one_request\n",
      "    method()\n",
      "  File \"C:\\Users\\user\\Desktop\\Python_2023_2-master\\HubRequestHandler.py\", line 21, in do_GET\n",
      "    else: result.writeNotFound()\n",
      "          ^^^^^^^^^^^^^^^^^^^^\n",
      "AttributeError: 'SplitResult' object has no attribute 'writeNotFound'\n",
      "----------------------------------------\n",
      "----------------------------------------\n",
      "Exception occurred during processing of request from ('127.0.0.1', 55580)\n",
      "Traceback (most recent call last):\n",
      "  File \"C:\\Users\\user\\AppData\\Local\\Programs\\Python\\Python311\\Lib\\socketserver.py\", line 317, in _handle_request_noblock\n",
      "    self.process_request(request, client_address)\n",
      "  File \"C:\\Users\\user\\AppData\\Local\\Programs\\Python\\Python311\\Lib\\socketserver.py\", line 348, in process_request\n",
      "    self.finish_request(request, client_address)\n",
      "  File \"C:\\Users\\user\\AppData\\Local\\Programs\\Python\\Python311\\Lib\\socketserver.py\", line 361, in finish_request\n",
      "    self.RequestHandlerClass(request, client_address, self)\n",
      "  File \"C:\\Users\\user\\AppData\\Local\\Programs\\Python\\Python311\\Lib\\http\\server.py\", line 667, in __init__\n",
      "    super().__init__(*args, **kwargs)\n",
      "  File \"C:\\Users\\user\\AppData\\Local\\Programs\\Python\\Python311\\Lib\\socketserver.py\", line 755, in __init__\n",
      "    self.handle()\n",
      "  File \"C:\\Users\\user\\AppData\\Local\\Programs\\Python\\Python311\\Lib\\http\\server.py\", line 432, in handle\n",
      "    self.handle_one_request()\n",
      "  File \"C:\\Users\\user\\AppData\\Local\\Programs\\Python\\Python311\\Lib\\http\\server.py\", line 420, in handle_one_request\n",
      "    method()\n",
      "  File \"C:\\Users\\user\\Desktop\\Python_2023_2-master\\HubRequestHandler.py\", line 21, in do_GET\n",
      "    else: result.writeNotFound()\n",
      "          ^^^^^^^^^^^^^^^^^^^^\n",
      "AttributeError: 'SplitResult' object has no attribute 'writeNotFound'\n",
      "----------------------------------------\n"
     ]
    },
    {
     "name": "stdout",
     "output_type": "stream",
     "text": [
      "/favicon.ico\n"
     ]
    },
    {
     "name": "stderr",
     "output_type": "stream",
     "text": [
      "----------------------------------------\n",
      "Exception occurred during processing of request from ('127.0.0.1', 55585)\n",
      "Traceback (most recent call last):\n",
      "  File \"C:\\Users\\user\\AppData\\Local\\Programs\\Python\\Python311\\Lib\\socketserver.py\", line 317, in _handle_request_noblock\n",
      "    self.process_request(request, client_address)\n",
      "  File \"C:\\Users\\user\\AppData\\Local\\Programs\\Python\\Python311\\Lib\\socketserver.py\", line 348, in process_request\n",
      "    self.finish_request(request, client_address)\n",
      "  File \"C:\\Users\\user\\AppData\\Local\\Programs\\Python\\Python311\\Lib\\socketserver.py\", line 361, in finish_request\n",
      "    self.RequestHandlerClass(request, client_address, self)\n",
      "  File \"C:\\Users\\user\\AppData\\Local\\Programs\\Python\\Python311\\Lib\\http\\server.py\", line 667, in __init__\n",
      "    super().__init__(*args, **kwargs)\n",
      "  File \"C:\\Users\\user\\AppData\\Local\\Programs\\Python\\Python311\\Lib\\socketserver.py\", line 755, in __init__\n",
      "    self.handle()\n",
      "  File \"C:\\Users\\user\\AppData\\Local\\Programs\\Python\\Python311\\Lib\\http\\server.py\", line 432, in handle\n",
      "    self.handle_one_request()\n",
      "  File \"C:\\Users\\user\\AppData\\Local\\Programs\\Python\\Python311\\Lib\\http\\server.py\", line 420, in handle_one_request\n",
      "    method()\n",
      "  File \"C:\\Users\\user\\Desktop\\Python_2023_2-master\\HubRequestHandler.py\", line 21, in do_GET\n",
      "    else: result.writeNotFound()\n",
      "          ^^^^^^^^^^^^^^^^^^^^\n",
      "AttributeError: 'SplitResult' object has no attribute 'writeNotFound'\n",
      "----------------------------------------\n"
     ]
    },
    {
     "name": "stdout",
     "output_type": "stream",
     "text": [
      "/buzzer?note=si&delay=1000\n"
     ]
    },
    {
     "name": "stderr",
     "output_type": "stream",
     "text": [
      "127.0.0.1 - - [20/Dec/2023 10:49:25] \"GET /buzzer?note=si&delay=1000 HTTP/1.1\" 200 -\n"
     ]
    },
    {
     "name": "stdout",
     "output_type": "stream",
     "text": [
      "/favicon.ico\n"
     ]
    },
    {
     "name": "stderr",
     "output_type": "stream",
     "text": [
      "----------------------------------------\n",
      "Exception occurred during processing of request from ('127.0.0.1', 55592)\n",
      "Traceback (most recent call last):\n",
      "  File \"C:\\Users\\user\\AppData\\Local\\Programs\\Python\\Python311\\Lib\\socketserver.py\", line 317, in _handle_request_noblock\n",
      "    self.process_request(request, client_address)\n",
      "  File \"C:\\Users\\user\\AppData\\Local\\Programs\\Python\\Python311\\Lib\\socketserver.py\", line 348, in process_request\n",
      "    self.finish_request(request, client_address)\n",
      "  File \"C:\\Users\\user\\AppData\\Local\\Programs\\Python\\Python311\\Lib\\socketserver.py\", line 361, in finish_request\n",
      "    self.RequestHandlerClass(request, client_address, self)\n",
      "  File \"C:\\Users\\user\\AppData\\Local\\Programs\\Python\\Python311\\Lib\\http\\server.py\", line 667, in __init__\n",
      "    super().__init__(*args, **kwargs)\n",
      "  File \"C:\\Users\\user\\AppData\\Local\\Programs\\Python\\Python311\\Lib\\socketserver.py\", line 755, in __init__\n",
      "    self.handle()\n",
      "  File \"C:\\Users\\user\\AppData\\Local\\Programs\\Python\\Python311\\Lib\\http\\server.py\", line 432, in handle\n",
      "    self.handle_one_request()\n",
      "  File \"C:\\Users\\user\\AppData\\Local\\Programs\\Python\\Python311\\Lib\\http\\server.py\", line 420, in handle_one_request\n",
      "    method()\n",
      "  File \"C:\\Users\\user\\Desktop\\Python_2023_2-master\\HubRequestHandler.py\", line 21, in do_GET\n",
      "    else: result.writeNotFound()\n",
      "          ^^^^^^^^^^^^^^^^^^^^\n",
      "AttributeError: 'SplitResult' object has no attribute 'writeNotFound'\n",
      "----------------------------------------\n"
     ]
    }
   ],
   "source": [
    "from PythonServer import PythonServer\n",
    "server = PythonServer()\n",
    "server.run()"
   ]
  },
  {
   "cell_type": "code",
   "execution_count": null,
   "id": "6ae1c490-78f4-4364-941f-b17661ca471a",
   "metadata": {},
   "outputs": [],
   "source": []
  }
 ],
 "metadata": {
  "kernelspec": {
   "display_name": "Python 3 (ipykernel)",
   "language": "python",
   "name": "python3"
  },
  "language_info": {
   "codemirror_mode": {
    "name": "ipython",
    "version": 3
   },
   "file_extension": ".py",
   "mimetype": "text/x-python",
   "name": "python",
   "nbconvert_exporter": "python",
   "pygments_lexer": "ipython3",
   "version": "3.11.1"
  }
 },
 "nbformat": 4,
 "nbformat_minor": 5
}

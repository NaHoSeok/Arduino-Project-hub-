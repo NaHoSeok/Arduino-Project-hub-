{
 "cells": [
  {
   "cell_type": "code",
   "execution_count": 1,
   "id": "f6c85006-8c5e-4871-a836-25f92be7b057",
   "metadata": {},
   "outputs": [],
   "source": [
    "from http.server import HTTPServer\n",
    "from HubRequestHandler import HubRequestHandler"
   ]
  },
  {
   "cell_type": "code",
   "execution_count": 2,
   "id": "b145b372-8c7c-43a0-b87e-854a7d12fc8c",
   "metadata": {},
   "outputs": [],
   "source": [
    "# 웹서버 <-> 웹브라우저(클라이언트)\n",
    "# webServer = HTTPServer(('localhost', 8080), None) # 서버 인스턴스 생성; host = 'localhost', port=8080, requestHandler=None\n",
    "webServer = HTTPServer(('localhost', 8080), HubRequestHandler)"
   ]
  },
  {
   "cell_type": "code",
   "execution_count": null,
   "id": "cbfb4c1d-fd40-42e5-b4f4-4b0984579cda",
   "metadata": {},
   "outputs": [
    {
     "name": "stdout",
     "output_type": "stream",
     "text": [
      "My web server started at http://localhost:8080\n",
      "/\n"
     ]
    },
    {
     "name": "stderr",
     "output_type": "stream",
     "text": [
      "127.0.0.1 - - [19/Dec/2023 20:44:27] \"GET / HTTP/1.1\" 200 -\n"
     ]
    },
    {
     "name": "stdout",
     "output_type": "stream",
     "text": [
      "/favicon.ico\n"
     ]
    },
    {
     "name": "stderr",
     "output_type": "stream",
     "text": [
      "----------------------------------------\n",
      "Exception occurred during processing of request from ('127.0.0.1', 57367)\n",
      "Traceback (most recent call last):\n",
      "  File \"C:\\Users\\user\\AppData\\Local\\Programs\\Python\\Python311\\Lib\\socketserver.py\", line 317, in _handle_request_noblock\n",
      "    self.process_request(request, client_address)\n",
      "  File \"C:\\Users\\user\\AppData\\Local\\Programs\\Python\\Python311\\Lib\\socketserver.py\", line 348, in process_request\n",
      "    self.finish_request(request, client_address)\n",
      "  File \"C:\\Users\\user\\AppData\\Local\\Programs\\Python\\Python311\\Lib\\socketserver.py\", line 361, in finish_request\n",
      "    self.RequestHandlerClass(request, client_address, self)\n",
      "  File \"C:\\Users\\user\\AppData\\Local\\Programs\\Python\\Python311\\Lib\\http\\server.py\", line 667, in __init__\n",
      "    super().__init__(*args, **kwargs)\n",
      "  File \"C:\\Users\\user\\AppData\\Local\\Programs\\Python\\Python311\\Lib\\socketserver.py\", line 755, in __init__\n",
      "    self.handle()\n",
      "  File \"C:\\Users\\user\\AppData\\Local\\Programs\\Python\\Python311\\Lib\\http\\server.py\", line 432, in handle\n",
      "    self.handle_one_request()\n",
      "  File \"C:\\Users\\user\\AppData\\Local\\Programs\\Python\\Python311\\Lib\\http\\server.py\", line 420, in handle_one_request\n",
      "    method()\n",
      "  File \"C:\\Users\\user\\Desktop\\Python_2023_2-master\\HubRequestHandler.py\", line 19, in do_GET\n",
      "    else: result.writeNotFound()\n",
      "          ^^^^^^^^^^^^^^^^^^^^\n",
      "AttributeError: 'SplitResult' object has no attribute 'writeNotFound'\n",
      "----------------------------------------\n"
     ]
    },
    {
     "name": "stdout",
     "output_type": "stream",
     "text": [
      "/servo_move_0\n"
     ]
    },
    {
     "name": "stderr",
     "output_type": "stream",
     "text": [
      "127.0.0.1 - - [19/Dec/2023 20:44:31] \"GET /servo_move_0 HTTP/1.1\" 200 -\n",
      "----------------------------------------\n",
      "Exception occurred during processing of request from ('127.0.0.1', 57368)\n",
      "Traceback (most recent call last):\n",
      "  File \"C:\\Users\\user\\AppData\\Local\\Programs\\Python\\Python311\\Lib\\socketserver.py\", line 317, in _handle_request_noblock\n",
      "    self.process_request(request, client_address)\n",
      "  File \"C:\\Users\\user\\AppData\\Local\\Programs\\Python\\Python311\\Lib\\socketserver.py\", line 348, in process_request\n",
      "    self.finish_request(request, client_address)\n",
      "  File \"C:\\Users\\user\\AppData\\Local\\Programs\\Python\\Python311\\Lib\\socketserver.py\", line 361, in finish_request\n",
      "    self.RequestHandlerClass(request, client_address, self)\n",
      "  File \"C:\\Users\\user\\AppData\\Local\\Programs\\Python\\Python311\\Lib\\http\\server.py\", line 667, in __init__\n",
      "    super().__init__(*args, **kwargs)\n",
      "  File \"C:\\Users\\user\\AppData\\Local\\Programs\\Python\\Python311\\Lib\\socketserver.py\", line 755, in __init__\n",
      "    self.handle()\n",
      "  File \"C:\\Users\\user\\AppData\\Local\\Programs\\Python\\Python311\\Lib\\http\\server.py\", line 432, in handle\n",
      "    self.handle_one_request()\n",
      "  File \"C:\\Users\\user\\AppData\\Local\\Programs\\Python\\Python311\\Lib\\http\\server.py\", line 420, in handle_one_request\n",
      "    method()\n",
      "  File \"C:\\Users\\user\\Desktop\\Python_2023_2-master\\HubRequestHandler.py\", line 13, in do_GET\n",
      "    elif result.path == '/servo_move_0': self.writeServoMove(0)\n",
      "                                         ^^^^^^^^^^^^^^^^^^^^^^\n",
      "  File \"C:\\Users\\user\\Desktop\\Python_2023_2-master\\HubRequestHandler.py\", line 96, in writeServoMove\n",
      "    self.server.gateway.setServoMove(ang)\n",
      "    ^^^^^^^^^^^^^^^^^^^\n",
      "AttributeError: 'HTTPServer' object has no attribute 'gateway'\n",
      "----------------------------------------\n"
     ]
    },
    {
     "name": "stdout",
     "output_type": "stream",
     "text": [
      "/favicon.ico\n"
     ]
    },
    {
     "name": "stderr",
     "output_type": "stream",
     "text": [
      "----------------------------------------\n",
      "Exception occurred during processing of request from ('127.0.0.1', 57372)\n",
      "Traceback (most recent call last):\n",
      "  File \"C:\\Users\\user\\AppData\\Local\\Programs\\Python\\Python311\\Lib\\socketserver.py\", line 317, in _handle_request_noblock\n",
      "    self.process_request(request, client_address)\n",
      "  File \"C:\\Users\\user\\AppData\\Local\\Programs\\Python\\Python311\\Lib\\socketserver.py\", line 348, in process_request\n",
      "    self.finish_request(request, client_address)\n",
      "  File \"C:\\Users\\user\\AppData\\Local\\Programs\\Python\\Python311\\Lib\\socketserver.py\", line 361, in finish_request\n",
      "    self.RequestHandlerClass(request, client_address, self)\n",
      "  File \"C:\\Users\\user\\AppData\\Local\\Programs\\Python\\Python311\\Lib\\http\\server.py\", line 667, in __init__\n",
      "    super().__init__(*args, **kwargs)\n",
      "  File \"C:\\Users\\user\\AppData\\Local\\Programs\\Python\\Python311\\Lib\\socketserver.py\", line 755, in __init__\n",
      "    self.handle()\n",
      "  File \"C:\\Users\\user\\AppData\\Local\\Programs\\Python\\Python311\\Lib\\http\\server.py\", line 432, in handle\n",
      "    self.handle_one_request()\n",
      "  File \"C:\\Users\\user\\AppData\\Local\\Programs\\Python\\Python311\\Lib\\http\\server.py\", line 420, in handle_one_request\n",
      "    method()\n",
      "  File \"C:\\Users\\user\\Desktop\\Python_2023_2-master\\HubRequestHandler.py\", line 19, in do_GET\n",
      "    else: result.writeNotFound()\n",
      "          ^^^^^^^^^^^^^^^^^^^^\n",
      "AttributeError: 'SplitResult' object has no attribute 'writeNotFound'\n",
      "----------------------------------------\n"
     ]
    }
   ],
   "source": [
    "print(f'My web server started at http://localhost:8080')\n",
    "webServer.serve_forever()"
   ]
  },
  {
   "cell_type": "code",
   "execution_count": null,
   "id": "c2fb1d17-6f26-418e-b3e0-b7ad5f304086",
   "metadata": {},
   "outputs": [],
   "source": []
  }
 ],
 "metadata": {
  "kernelspec": {
   "display_name": "Python 3 (ipykernel)",
   "language": "python",
   "name": "python3"
  },
  "language_info": {
   "codemirror_mode": {
    "name": "ipython",
    "version": 3
   },
   "file_extension": ".py",
   "mimetype": "text/x-python",
   "name": "python",
   "nbconvert_exporter": "python",
   "pygments_lexer": "ipython3",
   "version": "3.11.1"
  }
 },
 "nbformat": 4,
 "nbformat_minor": 5
}

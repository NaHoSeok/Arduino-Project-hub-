{
 "cells": [
  {
   "cell_type": "code",
   "execution_count": 1,
   "id": "68692346-877f-4199-aaf5-2f6c2b846a3f",
   "metadata": {},
   "outputs": [
    {
     "name": "stdout",
     "output_type": "stream",
     "text": [
      "생성자 호출됨\n"
     ]
    }
   ],
   "source": [
    "from PythonHub import PythonHub\n",
    "pyHub = PythonHub()"
   ]
  },
  {
   "cell_type": "code",
   "execution_count": 2,
   "id": "23e75303-5be5-4b7f-b2aa-6793d9baefb3",
   "metadata": {},
   "outputs": [],
   "source": [
    "pyHub.clearVoltTuple()\n",
    "pyHub.clearVoltTable()"
   ]
  },
  {
   "cell_type": "code",
   "execution_count": 3,
   "id": "f84a8747-6e5e-4bca-9706-dde0cc9cfdd6",
   "metadata": {},
   "outputs": [],
   "source": [
    "pyHub.clearLightTuple()\n",
    "pyHub.clearLightTable()"
   ]
  },
  {
   "cell_type": "code",
   "execution_count": 5,
   "id": "8f4f343a-7682-4d46-ae19-65a32b638324",
   "metadata": {},
   "outputs": [
    {
     "name": "stdout",
     "output_type": "stream",
     "text": [
      "True\n",
      "True\n",
      "True\n",
      "True\n",
      "True\n"
     ]
    }
   ],
   "source": [
    "pyHub.sampleLightTuple(5, 0.5)"
   ]
  },
  {
   "cell_type": "code",
   "execution_count": 6,
   "id": "b76e1446-c593-4392-99b2-59454335c92d",
   "metadata": {},
   "outputs": [
    {
     "name": "stdout",
     "output_type": "stream",
     "text": [
      "True\n",
      "True\n",
      "True\n",
      "True\n",
      "True\n"
     ]
    }
   ],
   "source": [
    "pyHub.sampleVoltTuple(5, 0.5)"
   ]
  },
  {
   "cell_type": "code",
   "execution_count": 7,
   "id": "f4bb55c6-f16d-4b4c-8d0c-64ecb276b8ac",
   "metadata": {},
   "outputs": [],
   "source": [
    "pyHub.saveVoltTupleToTable()\n",
    "pyHub.saveLightTupleToTable()"
   ]
  },
  {
   "cell_type": "code",
   "execution_count": 8,
   "id": "b0a2684d-b30b-47ae-83cf-d373d7363559",
   "metadata": {},
   "outputs": [
    {
     "name": "stdout",
     "output_type": "stream",
     "text": [
      "전압 측정 개수:  5 \n",
      "평균(mean):  3.30009772 \n",
      "중앙값(median):  3.2991202 \n",
      "분산(var):  4.777726751999984e-06 \n",
      "표준편차(std):  0.002185801169365591\n"
     ]
    }
   ],
   "source": [
    "pyHub.describeVoltTable()"
   ]
  },
  {
   "cell_type": "code",
   "execution_count": 9,
   "id": "eee4a520-78d5-48ac-9843-1fe46ece856a",
   "metadata": {},
   "outputs": [
    {
     "name": "stdout",
     "output_type": "stream",
     "text": [
      "조도 측정 개수:  5 \n",
      "평균(mean):  952.4 \n",
      "중앙값(median):  953.0 \n",
      "분산(var):  1.7999999999999998 \n",
      "표준편차(std):  1.3416407864998738\n"
     ]
    }
   ],
   "source": [
    "pyHub.describeLightTable()"
   ]
  },
  {
   "cell_type": "code",
   "execution_count": null,
   "id": "b68ae608-22b5-4d1c-89a5-4d896fef88ca",
   "metadata": {},
   "outputs": [],
   "source": []
  }
 ],
 "metadata": {
  "kernelspec": {
   "display_name": "Python 3 (ipykernel)",
   "language": "python",
   "name": "python3"
  },
  "language_info": {
   "codemirror_mode": {
    "name": "ipython",
    "version": 3
   },
   "file_extension": ".py",
   "mimetype": "text/x-python",
   "name": "python",
   "nbconvert_exporter": "python",
   "pygments_lexer": "ipython3",
   "version": "3.11.1"
  }
 },
 "nbformat": 4,
 "nbformat_minor": 5
}
